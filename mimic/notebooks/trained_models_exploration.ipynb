{
 "cells": [
  {
   "cell_type": "code",
   "execution_count": 1,
   "metadata": {
    "ExecuteTime": {
     "end_time": "2020-11-04T12:15:38.203688Z",
     "start_time": "2020-11-04T12:15:38.192900Z"
    },
    "pycharm": {
     "name": "#%%\n"
    }
   },
   "outputs": [
    {
     "name": "stdout",
     "output_type": "stream",
     "text": [
      "/cluster/home/klugh/MIMIC/mimic\n"
     ]
    }
   ],
   "source": [
    "import os\n",
    "os.getcwd()\n",
    "%cd .."
   ]
  },
  {
   "cell_type": "code",
   "execution_count": 2,
   "metadata": {
    "ExecuteTime": {
     "end_time": "2020-11-04T12:15:45.439463Z",
     "start_time": "2020-11-04T12:15:38.759577Z"
    },
    "pycharm": {
     "name": "#%%\n"
    }
   },
   "outputs": [],
   "source": [
    "from pathlib import Path\n",
    "import pandas as pd\n",
    "import argparse\n",
    "\n",
    "from tensorflow.python.summary.summary_iterator import summary_iterator\n",
    "import json\n",
    "import os\n",
    "import numpy as np\n",
    "from mimic.utils.filehandling import get_config_path, expand_paths\n",
    "from mimic.notebooks.utils.boilerplate import test_clfs, test_clf, test_dummy\n",
    "from mimic.utils.flags import parser\n"
   ]
  },
  {
   "cell_type": "markdown",
   "metadata": {},
   "source": [
    "# Test of the latent representations of the MMVAE\n",
    "### Average precision (AP) scores on the latent representations, averaged over the batches.\n",
    "### AP summarizes a precision-recall curve as the weighted mean of precisions achieved at each threshold, with the increase in recall from the previous threshold used as the weight.\n",
    "### Note: For medical data, the true negative rate (recall) is probably more important."
   ]
  },
  {
   "cell_type": "markdown",
   "metadata": {},
   "source": [
    "## The labels are not evenly distributed over the datasets, this needs to be taken into account when analyzing classification scores."
   ]
  },
  {
   "cell_type": "code",
   "execution_count": 3,
   "metadata": {
    "ExecuteTime": {
     "end_time": "2020-11-04T12:15:45.452951Z",
     "start_time": "2020-11-04T12:15:45.442407Z"
    },
    "pycharm": {
     "name": "#%%\n"
    }
   },
   "outputs": [],
   "source": [
    "alphabet_path = os.path.join(str(Path(os.getcwd())), 'alphabet.json')\n",
    "with open(alphabet_path) as alphabet_file:\n",
    "    alphabet = str(''.join(json.load(alphabet_file)))\n",
    "\n",
    "FLAGS = parser.parse_args([])\n",
    "\n",
    "config_path = get_config_path()\n",
    "with open(config_path, 'rt') as json_file:\n",
    "    t_args = argparse.Namespace()\n",
    "    t_args.__dict__.update(json.load(json_file))\n",
    "    FLAGS = parser.parse_args('', namespace=t_args)\n",
    "    \n",
    "FLAGS = expand_paths(FLAGS)\n",
    "FLAGS.dir_data = os.path.expanduser(FLAGS.dir_data)\n",
    "dir_data = FLAGS.dir_data\n",
    "dir_dataset = os.path.join(dir_data, 'files_small_128')"
   ]
  },
  {
   "cell_type": "code",
   "execution_count": 4,
   "metadata": {
    "ExecuteTime": {
     "end_time": "2020-11-04T12:15:45.530232Z",
     "start_time": "2020-11-04T12:15:45.455949Z"
    },
    "pycharm": {
     "name": "#%%\n"
    }
   },
   "outputs": [],
   "source": [
    "labels = ['Lung Opacity', 'Pleural Effusion', 'Support Devices']\n",
    "test_labels_path = os.path.join(dir_dataset, 'eval_labels.csv')\n",
    "test_labels_df = pd.read_csv(test_labels_path)[labels].fillna(0)\n"
   ]
  },
  {
   "cell_type": "code",
   "execution_count": 5,
   "metadata": {
    "ExecuteTime": {
     "end_time": "2020-11-04T12:15:45.544538Z",
     "start_time": "2020-11-04T12:15:45.533184Z"
    },
    "pycharm": {
     "name": "#%%\n"
    }
   },
   "outputs": [
    {
     "name": "stdout",
     "output_type": "stream",
     "text": [
      "Lung Opacity        54\n",
      "Pleural Effusion    29\n",
      "Support Devices     12\n",
      "dtype: int64\n"
     ]
    }
   ],
   "source": [
    "counts = test_labels_df[test_labels_df == 1].count()\n",
    "print(counts)"
   ]
  },
  {
   "cell_type": "code",
   "execution_count": 6,
   "metadata": {
    "ExecuteTime": {
     "end_time": "2020-11-04T12:15:45.551784Z",
     "start_time": "2020-11-04T12:15:45.547184Z"
    }
   },
   "outputs": [],
   "source": [
    "FLAGS.num_features = len(alphabet)\n",
    "FLAGS.batch_size = 300\n",
    "FLAGS.str_experiment = 'temp'\n",
    "FLAGS.device = 'cuda'\n",
    "FLAGS.dir_gen_eval_fid = ''\n",
    "FLAGS.alpha_modalities = [FLAGS.div_weight_uniform_content, FLAGS.div_weight_m1_content,\n",
    "                          FLAGS.div_weight_m2_content, FLAGS.div_weight_m3_content]"
   ]
  },
  {
   "cell_type": "markdown",
   "metadata": {
    "ExecuteTime": {
     "end_time": "2020-11-03T15:02:15.497324Z",
     "start_time": "2020-11-03T15:02:15.493534Z"
    },
    "pycharm": {
     "name": "#%% md\n"
    }
   },
   "source": [
    "## A random classifier that classifies with a \"most frequent\" strategy, would have a mean average precision of 0.07"
   ]
  },
  {
   "cell_type": "code",
   "execution_count": 7,
   "metadata": {
    "ExecuteTime": {
     "end_time": "2020-11-04T12:16:27.794640Z",
     "start_time": "2020-11-04T12:15:45.554123Z"
    },
    "pycharm": {
     "name": "#%%\n"
    }
   },
   "outputs": [
    {
     "name": "stdout",
     "output_type": "stream",
     "text": [
      "setting dataset\n",
      "setting modalities\n",
      "setting model\n",
      "setting clfs\n",
      "setting rec_weights\n",
      "dict_keys(['real', 'random', '', 'PA', 'Lateral', 'text', 'Lateral_PA', 'PA_text', 'Lateral_text', 'Lateral_PA_text'])\n",
      "0.06333333333333334\n"
     ]
    }
   ],
   "source": [
    "FLAGS.img_size = 128\n",
    "average_precisions = test_dummy(FLAGS, alphabet)\n",
    "print(np.mean(average_precisions))"
   ]
  },
  {
   "cell_type": "code",
   "execution_count": 8,
   "metadata": {
    "ExecuteTime": {
     "end_time": "2020-11-04T12:16:29.170229Z",
     "start_time": "2020-11-04T12:16:27.796410Z"
    },
    "pycharm": {
     "name": "#%%\n"
    }
   },
   "outputs": [
    {
     "name": "stdout",
     "output_type": "stream",
     "text": [
      "WARNING:tensorflow:From /cluster/home/klugh/software/anaconda/envs/temp/lib/python3.8/site-packages/tensorflow/python/summary/summary_iterator.py:68: tf_record_iterator (from tensorflow.python.lib.io.tf_record) is deprecated and will be removed in a future version.\n",
      "Instructions for updating:\n",
      "Use eager execution and: \n",
      "`tf.data.TFRecordDataset(path)`\n"
     ]
    }
   ],
   "source": [
    "checkpoint_path = os.path.expanduser(FLAGS.dir_fid)\n",
    "lr_evals = dict()\n",
    "for modality_method in ['moe']:\n",
    "    for factorization in os.listdir(os.path.join(checkpoint_path, modality_method)):\n",
    "        for experiment in os.listdir(os.path.join(checkpoint_path, modality_method, factorization)):\n",
    "            if experiment.startswith('Mimic'):\n",
    "                lr_evals[experiment] = dict()\n",
    "                lr_eval = lr_evals[experiment]\n",
    "                experiment_dir_ = os.path.join(checkpoint_path, modality_method, factorization, experiment)\n",
    "                lr_eval_dir = os.path.join(experiment_dir_, 'logs', 'Latent Representation')\n",
    "                if os.path.exists(lr_eval_dir):\n",
    "                    for label in os.listdir(lr_eval_dir):\n",
    "                        lr_eval[label] = dict()\n",
    "                        for lr in os.listdir(os.path.join(lr_eval_dir, label)):\n",
    "                            lr_eval[label][lr] = dict()\n",
    "                            for logfile in os.listdir(os.path.join(lr_eval_dir, label, lr)):\n",
    "                                for summary in summary_iterator(os.path.join(lr_eval_dir, label, lr, logfile)):\n",
    "                                    value = summary.summary.value\n",
    "                                    temp = str(value).split('\\n')\n",
    "                                    for elem in temp:\n",
    "                                        elem = elem\n",
    "                                        if elem.startswith('simple_value'):\n",
    "                                            lr_eval[label][lr][summary.step] = elem.split(' ')[1]"
   ]
  },
  {
   "cell_type": "code",
   "execution_count": 9,
   "metadata": {
    "ExecuteTime": {
     "end_time": "2020-11-04T12:16:29.220268Z",
     "start_time": "2020-11-04T12:16:29.173883Z"
    },
    "pycharm": {
     "name": "#%%\n"
    }
   },
   "outputs": [],
   "source": [
    "experiments_dataframe = pd.read_csv('experiments_dataframe.csv')\n",
    "dfs = []\n",
    "for experiment in lr_evals.keys():\n",
    "    experiment_evals = lr_evals[experiment]\n",
    "    if experiment_evals:\n",
    "        for label in experiment_evals.keys():\n",
    "            for lr in experiment_evals[label].keys():\n",
    "                steps = experiment_evals[label][lr].keys()\n",
    "                max_step = max(steps)\n",
    "                experiment_evals[label][lr] = experiment_evals[label][lr][max_step]\n",
    "\n",
    "        df = pd.DataFrame(experiment_evals).astype(float)\n",
    "        index = df.index\n",
    "        index.name = f'Steps: {max_step}'\n",
    "        df['mean_AP'] = df.mean(numeric_only=True, axis=1)\n",
    "        dfs.append((df, experiment))\n",
    "    "
   ]
  },
  {
   "cell_type": "code",
   "execution_count": 10,
   "metadata": {
    "ExecuteTime": {
     "end_time": "2020-11-04T12:16:29.279987Z",
     "start_time": "2020-11-04T12:16:29.222532Z"
    },
    "pycharm": {
     "name": "#%%\n"
    }
   },
   "outputs": [
    {
     "name": "stdout",
     "output_type": "stream",
     "text": [
      "Experiment Mimic_2020_11_01_21_52_41_837902 with text encoding: char, image size: 256.0, method: joint_elbo \n",
      " and trained for 98.0 epochs with batch size: 100.0 and 200.0 steps per training epoch\n"
     ]
    },
    {
     "data": {
      "text/html": [
       "<div>\n",
       "<style scoped>\n",
       "    .dataframe tbody tr th:only-of-type {\n",
       "        vertical-align: middle;\n",
       "    }\n",
       "\n",
       "    .dataframe tbody tr th {\n",
       "        vertical-align: top;\n",
       "    }\n",
       "\n",
       "    .dataframe thead th {\n",
       "        text-align: right;\n",
       "    }\n",
       "</style>\n",
       "<table border=\"1\" class=\"dataframe\">\n",
       "  <thead>\n",
       "    <tr style=\"text-align: right;\">\n",
       "      <th></th>\n",
       "      <th>Pleural Effusion</th>\n",
       "      <th>Support Devices</th>\n",
       "      <th>Lung Opacity</th>\n",
       "      <th>mean_AP</th>\n",
       "    </tr>\n",
       "    <tr>\n",
       "      <th>Steps: 20500</th>\n",
       "      <th></th>\n",
       "      <th></th>\n",
       "      <th></th>\n",
       "      <th></th>\n",
       "    </tr>\n",
       "  </thead>\n",
       "  <tbody>\n",
       "    <tr>\n",
       "      <th>PA_text</th>\n",
       "      <td>0.065556</td>\n",
       "      <td>0.02</td>\n",
       "      <td>0.166240</td>\n",
       "      <td>0.083932</td>\n",
       "    </tr>\n",
       "    <tr>\n",
       "      <th>Lateral_PA_text</th>\n",
       "      <td>0.177778</td>\n",
       "      <td>0.02</td>\n",
       "      <td>0.138676</td>\n",
       "      <td>0.112151</td>\n",
       "    </tr>\n",
       "    <tr>\n",
       "      <th>PA</th>\n",
       "      <td>0.069167</td>\n",
       "      <td>0.02</td>\n",
       "      <td>0.102500</td>\n",
       "      <td>0.063889</td>\n",
       "    </tr>\n",
       "    <tr>\n",
       "      <th>text</th>\n",
       "      <td>0.055000</td>\n",
       "      <td>0.02</td>\n",
       "      <td>0.126721</td>\n",
       "      <td>0.067240</td>\n",
       "    </tr>\n",
       "    <tr>\n",
       "      <th>Lateral_text</th>\n",
       "      <td>0.127222</td>\n",
       "      <td>0.02</td>\n",
       "      <td>0.117857</td>\n",
       "      <td>0.088360</td>\n",
       "    </tr>\n",
       "    <tr>\n",
       "      <th>Lateral_PA</th>\n",
       "      <td>0.115694</td>\n",
       "      <td>0.02</td>\n",
       "      <td>0.102500</td>\n",
       "      <td>0.079398</td>\n",
       "    </tr>\n",
       "    <tr>\n",
       "      <th>Lateral</th>\n",
       "      <td>0.099583</td>\n",
       "      <td>0.02</td>\n",
       "      <td>0.117857</td>\n",
       "      <td>0.079147</td>\n",
       "    </tr>\n",
       "  </tbody>\n",
       "</table>\n",
       "</div>"
      ],
      "text/plain": [
       "                 Pleural Effusion  Support Devices  Lung Opacity   mean_AP\n",
       "Steps: 20500                                                              \n",
       "PA_text                  0.065556             0.02      0.166240  0.083932\n",
       "Lateral_PA_text          0.177778             0.02      0.138676  0.112151\n",
       "PA                       0.069167             0.02      0.102500  0.063889\n",
       "text                     0.055000             0.02      0.126721  0.067240\n",
       "Lateral_text             0.127222             0.02      0.117857  0.088360\n",
       "Lateral_PA               0.115694             0.02      0.102500  0.079398\n",
       "Lateral                  0.099583             0.02      0.117857  0.079147"
      ]
     },
     "metadata": {},
     "output_type": "display_data"
    },
    {
     "name": "stdout",
     "output_type": "stream",
     "text": [
      "Experiment Mimic_2020_11_02_09_33_45_520718 with text encoding: word, image size: 256.0, method: joint_elbo \n",
      " and trained for 99.0 epochs with batch size: 100.0 and 200.0 steps per training epoch\n"
     ]
    },
    {
     "data": {
      "text/html": [
       "<div>\n",
       "<style scoped>\n",
       "    .dataframe tbody tr th:only-of-type {\n",
       "        vertical-align: middle;\n",
       "    }\n",
       "\n",
       "    .dataframe tbody tr th {\n",
       "        vertical-align: top;\n",
       "    }\n",
       "\n",
       "    .dataframe thead th {\n",
       "        text-align: right;\n",
       "    }\n",
       "</style>\n",
       "<table border=\"1\" class=\"dataframe\">\n",
       "  <thead>\n",
       "    <tr style=\"text-align: right;\">\n",
       "      <th></th>\n",
       "      <th>Pleural Effusion</th>\n",
       "      <th>Support Devices</th>\n",
       "      <th>Lung Opacity</th>\n",
       "      <th>mean_AP</th>\n",
       "    </tr>\n",
       "    <tr>\n",
       "      <th>Steps: 20500</th>\n",
       "      <th></th>\n",
       "      <th></th>\n",
       "      <th></th>\n",
       "      <th></th>\n",
       "    </tr>\n",
       "  </thead>\n",
       "  <tbody>\n",
       "    <tr>\n",
       "      <th>PA_text</th>\n",
       "      <td>0.071759</td>\n",
       "      <td>0.025</td>\n",
       "      <td>0.189580</td>\n",
       "      <td>0.095446</td>\n",
       "    </tr>\n",
       "    <tr>\n",
       "      <th>Lateral_PA_text</th>\n",
       "      <td>0.101979</td>\n",
       "      <td>0.025</td>\n",
       "      <td>0.167623</td>\n",
       "      <td>0.098201</td>\n",
       "    </tr>\n",
       "    <tr>\n",
       "      <th>PA</th>\n",
       "      <td>0.071759</td>\n",
       "      <td>0.025</td>\n",
       "      <td>0.155720</td>\n",
       "      <td>0.084160</td>\n",
       "    </tr>\n",
       "    <tr>\n",
       "      <th>text</th>\n",
       "      <td>0.065000</td>\n",
       "      <td>0.025</td>\n",
       "      <td>0.134706</td>\n",
       "      <td>0.074902</td>\n",
       "    </tr>\n",
       "    <tr>\n",
       "      <th>Lateral_text</th>\n",
       "      <td>0.132361</td>\n",
       "      <td>0.025</td>\n",
       "      <td>0.158792</td>\n",
       "      <td>0.105385</td>\n",
       "    </tr>\n",
       "    <tr>\n",
       "      <th>Lateral_PA</th>\n",
       "      <td>0.126256</td>\n",
       "      <td>0.025</td>\n",
       "      <td>0.153046</td>\n",
       "      <td>0.101434</td>\n",
       "    </tr>\n",
       "    <tr>\n",
       "      <th>Lateral</th>\n",
       "      <td>0.114028</td>\n",
       "      <td>0.025</td>\n",
       "      <td>0.131389</td>\n",
       "      <td>0.090139</td>\n",
       "    </tr>\n",
       "  </tbody>\n",
       "</table>\n",
       "</div>"
      ],
      "text/plain": [
       "                 Pleural Effusion  Support Devices  Lung Opacity   mean_AP\n",
       "Steps: 20500                                                              \n",
       "PA_text                  0.071759            0.025      0.189580  0.095446\n",
       "Lateral_PA_text          0.101979            0.025      0.167623  0.098201\n",
       "PA                       0.071759            0.025      0.155720  0.084160\n",
       "text                     0.065000            0.025      0.134706  0.074902\n",
       "Lateral_text             0.132361            0.025      0.158792  0.105385\n",
       "Lateral_PA               0.126256            0.025      0.153046  0.101434\n",
       "Lateral                  0.114028            0.025      0.131389  0.090139"
      ]
     },
     "metadata": {},
     "output_type": "display_data"
    },
    {
     "name": "stdout",
     "output_type": "stream",
     "text": [
      "Experiment Mimic_2020_10_27_14_47_11_079212 with text encoding: char, image size: 128.0, method: jsd \n",
      " and trained for 99.0 epochs with batch size: 180.0 and 100.0 steps per training epoch\n"
     ]
    },
    {
     "data": {
      "text/html": [
       "<div>\n",
       "<style scoped>\n",
       "    .dataframe tbody tr th:only-of-type {\n",
       "        vertical-align: middle;\n",
       "    }\n",
       "\n",
       "    .dataframe tbody tr th {\n",
       "        vertical-align: top;\n",
       "    }\n",
       "\n",
       "    .dataframe thead th {\n",
       "        text-align: right;\n",
       "    }\n",
       "</style>\n",
       "<table border=\"1\" class=\"dataframe\">\n",
       "  <thead>\n",
       "    <tr style=\"text-align: right;\">\n",
       "      <th></th>\n",
       "      <th>Pleural Effusion</th>\n",
       "      <th>Support Devices</th>\n",
       "      <th>Lung Opacity</th>\n",
       "      <th>mean_AP</th>\n",
       "    </tr>\n",
       "    <tr>\n",
       "      <th>Steps: 10300</th>\n",
       "      <th></th>\n",
       "      <th></th>\n",
       "      <th></th>\n",
       "      <th></th>\n",
       "    </tr>\n",
       "  </thead>\n",
       "  <tbody>\n",
       "    <tr>\n",
       "      <th>PA_text</th>\n",
       "      <td>0.102381</td>\n",
       "      <td>0.027778</td>\n",
       "      <td>0.131647</td>\n",
       "      <td>0.087269</td>\n",
       "    </tr>\n",
       "    <tr>\n",
       "      <th>Lateral_PA_text</th>\n",
       "      <td>0.069444</td>\n",
       "      <td>0.027778</td>\n",
       "      <td>0.129117</td>\n",
       "      <td>0.075446</td>\n",
       "    </tr>\n",
       "    <tr>\n",
       "      <th>PA</th>\n",
       "      <td>0.069444</td>\n",
       "      <td>0.027778</td>\n",
       "      <td>0.115625</td>\n",
       "      <td>0.070949</td>\n",
       "    </tr>\n",
       "    <tr>\n",
       "      <th>text</th>\n",
       "      <td>0.069444</td>\n",
       "      <td>0.027778</td>\n",
       "      <td>0.112401</td>\n",
       "      <td>0.069874</td>\n",
       "    </tr>\n",
       "    <tr>\n",
       "      <th>Lateral_text</th>\n",
       "      <td>0.069444</td>\n",
       "      <td>0.027778</td>\n",
       "      <td>0.131250</td>\n",
       "      <td>0.076157</td>\n",
       "    </tr>\n",
       "    <tr>\n",
       "      <th>Lateral_PA</th>\n",
       "      <td>0.069444</td>\n",
       "      <td>0.027778</td>\n",
       "      <td>0.102778</td>\n",
       "      <td>0.066667</td>\n",
       "    </tr>\n",
       "    <tr>\n",
       "      <th>Lateral</th>\n",
       "      <td>0.069444</td>\n",
       "      <td>0.027778</td>\n",
       "      <td>0.102778</td>\n",
       "      <td>0.066667</td>\n",
       "    </tr>\n",
       "  </tbody>\n",
       "</table>\n",
       "</div>"
      ],
      "text/plain": [
       "                 Pleural Effusion  Support Devices  Lung Opacity   mean_AP\n",
       "Steps: 10300                                                              \n",
       "PA_text                  0.102381         0.027778      0.131647  0.087269\n",
       "Lateral_PA_text          0.069444         0.027778      0.129117  0.075446\n",
       "PA                       0.069444         0.027778      0.115625  0.070949\n",
       "text                     0.069444         0.027778      0.112401  0.069874\n",
       "Lateral_text             0.069444         0.027778      0.131250  0.076157\n",
       "Lateral_PA               0.069444         0.027778      0.102778  0.066667\n",
       "Lateral                  0.069444         0.027778      0.102778  0.066667"
      ]
     },
     "metadata": {},
     "output_type": "display_data"
    },
    {
     "name": "stdout",
     "output_type": "stream",
     "text": [
      "Experiment Mimic_2020_10_23_13_17_46_515651 with text encoding: char, image size: 128.0, method: joint_elbo \n",
      " and trained for 299.0 epochs with batch size: 256.0 and -1.0 steps per training epoch\n"
     ]
    },
    {
     "data": {
      "text/html": [
       "<div>\n",
       "<style scoped>\n",
       "    .dataframe tbody tr th:only-of-type {\n",
       "        vertical-align: middle;\n",
       "    }\n",
       "\n",
       "    .dataframe tbody tr th {\n",
       "        vertical-align: top;\n",
       "    }\n",
       "\n",
       "    .dataframe thead th {\n",
       "        text-align: right;\n",
       "    }\n",
       "</style>\n",
       "<table border=\"1\" class=\"dataframe\">\n",
       "  <thead>\n",
       "    <tr style=\"text-align: right;\">\n",
       "      <th></th>\n",
       "      <th>Pleural Effusion</th>\n",
       "      <th>Support Devices</th>\n",
       "      <th>Lung Opacity</th>\n",
       "      <th>mean_AP</th>\n",
       "    </tr>\n",
       "    <tr>\n",
       "      <th>Steps: 71100</th>\n",
       "      <th></th>\n",
       "      <th></th>\n",
       "      <th></th>\n",
       "      <th></th>\n",
       "    </tr>\n",
       "  </thead>\n",
       "  <tbody>\n",
       "    <tr>\n",
       "      <th>PA_text</th>\n",
       "      <td>0.054688</td>\n",
       "      <td>0.027344</td>\n",
       "      <td>0.154948</td>\n",
       "      <td>0.078993</td>\n",
       "    </tr>\n",
       "    <tr>\n",
       "      <th>Lateral_PA_text</th>\n",
       "      <td>0.172519</td>\n",
       "      <td>0.027344</td>\n",
       "      <td>0.158118</td>\n",
       "      <td>0.119327</td>\n",
       "    </tr>\n",
       "    <tr>\n",
       "      <th>PA</th>\n",
       "      <td>0.056276</td>\n",
       "      <td>0.027344</td>\n",
       "      <td>0.127363</td>\n",
       "      <td>0.070328</td>\n",
       "    </tr>\n",
       "    <tr>\n",
       "      <th>text</th>\n",
       "      <td>0.122210</td>\n",
       "      <td>0.027344</td>\n",
       "      <td>0.119420</td>\n",
       "      <td>0.089658</td>\n",
       "    </tr>\n",
       "    <tr>\n",
       "      <th>Lateral_text</th>\n",
       "      <td>0.114397</td>\n",
       "      <td>0.027344</td>\n",
       "      <td>0.182021</td>\n",
       "      <td>0.107921</td>\n",
       "    </tr>\n",
       "    <tr>\n",
       "      <th>Lateral_PA</th>\n",
       "      <td>0.062686</td>\n",
       "      <td>0.027344</td>\n",
       "      <td>0.126877</td>\n",
       "      <td>0.072302</td>\n",
       "    </tr>\n",
       "    <tr>\n",
       "      <th>Lateral</th>\n",
       "      <td>0.060985</td>\n",
       "      <td>0.027344</td>\n",
       "      <td>0.153607</td>\n",
       "      <td>0.080645</td>\n",
       "    </tr>\n",
       "  </tbody>\n",
       "</table>\n",
       "</div>"
      ],
      "text/plain": [
       "                 Pleural Effusion  Support Devices  Lung Opacity   mean_AP\n",
       "Steps: 71100                                                              \n",
       "PA_text                  0.054688         0.027344      0.154948  0.078993\n",
       "Lateral_PA_text          0.172519         0.027344      0.158118  0.119327\n",
       "PA                       0.056276         0.027344      0.127363  0.070328\n",
       "text                     0.122210         0.027344      0.119420  0.089658\n",
       "Lateral_text             0.114397         0.027344      0.182021  0.107921\n",
       "Lateral_PA               0.062686         0.027344      0.126877  0.072302\n",
       "Lateral                  0.060985         0.027344      0.153607  0.080645"
      ]
     },
     "metadata": {},
     "output_type": "display_data"
    }
   ],
   "source": [
    "for df, experiment in dfs:\n",
    "    if len(experiments_dataframe.loc[experiments_dataframe['experiment_uid'] == experiment]) == 1:\n",
    "        flags = experiments_dataframe.loc[experiments_dataframe['experiment_uid'] == experiment]\n",
    "\n",
    "        print(f'Experiment {experiment} with text encoding: {flags.text_encoding.item()}, '\n",
    "              f'image size: {flags.img_size.item()}, method: {flags.method.item()} \\n and trained '\n",
    "              f'for {flags.total_epochs.item()} epochs with batch size: {flags.batch_size.item()} '\n",
    "              f'and {flags.steps_per_training_epoch.item()} steps per training epoch')\n",
    "        display(df)"
   ]
  },
  {
   "cell_type": "markdown",
   "metadata": {
    "ExecuteTime": {
     "end_time": "2020-11-02T15:29:28.353193Z",
     "start_time": "2020-11-02T15:29:28.349685Z"
    },
    "pycharm": {
     "name": "#%%\n"
    }
   },
   "source": [
    " # Evaluation of the classifiers\n",
    " All classifiers were trained for 100 epochs"
   ]
  },
  {
   "cell_type": "code",
   "execution_count": 11,
   "metadata": {
    "ExecuteTime": {
     "end_time": "2020-11-03T20:09:48.679743Z",
     "start_time": "2020-11-03T20:09:48.677243Z"
    }
   },
   "outputs": [],
   "source": [
    "labels = ['Lung Opacity', 'Pleural Effusion', 'Support Devices']\n",
    "\n"
   ]
  },
  {
   "cell_type": "markdown",
   "metadata": {
    "ExecuteTime": {
     "end_time": "2020-11-02T15:29:28.355080Z",
     "start_time": "2020-11-02T15:29:14.272Z"
    },
    "pycharm": {
     "name": "#%%\n"
    }
   },
   "source": [
    "## Evaluation of the character encoding and image size 128"
   ]
  },
  {
   "cell_type": "code",
   "execution_count": 12,
   "metadata": {
    "ExecuteTime": {
     "end_time": "2020-11-03T20:10:07.158221Z",
     "start_time": "2020-11-03T20:09:48.681403Z"
    }
   },
   "outputs": [
    {
     "name": "stdout",
     "output_type": "stream",
     "text": [
      "setting dataset\n",
      "setting modalities\n",
      "setting model\n",
      "setting clfs\n",
      "setting rec_weights\n",
      "dict_keys(['real', 'random', '', 'PA', 'Lateral', 'text', 'Lateral_PA', 'PA_text', 'Lateral_text', 'Lateral_PA_text'])\n"
     ]
    },
    {
     "name": "stderr",
     "output_type": "stream",
     "text": [
      "/cluster/home/klugh/software/anaconda/envs/temp/lib/python3.8/site-packages/sklearn/metrics/_classification.py:1221: UndefinedMetricWarning: Precision and F-score are ill-defined and being set to 0.0 in labels with no predicted samples. Use `zero_division` parameter to control this behavior.\n",
      "  _warn_prf(average, modifier, msg_start, len(result))\n"
     ]
    },
    {
     "name": "stdout",
     "output_type": "stream",
     "text": [
      "mean precision for PA classifier:  0.23816772227360228\n",
      "mean precision for Lateral classifier:  0.20507691018527285\n",
      "mean precision for text classifier:  0.5219933947379704\n"
     ]
    }
   ],
   "source": [
    "results = test_clfs(FLAGS, 128, 'char', alphabet)\n",
    "for modality in results.keys():\n",
    "    print(f'mean precision for {modality} classifier: ', np.mean(results[modality]['list_precision_vals']))"
   ]
  },
  {
   "cell_type": "code",
   "execution_count": 13,
   "metadata": {
    "ExecuteTime": {
     "end_time": "2020-11-03T20:10:07.164194Z",
     "start_time": "2020-11-03T20:10:07.159907Z"
    },
    "pycharm": {
     "name": "#%%\n"
    }
   },
   "outputs": [
    {
     "name": "stdout",
     "output_type": "stream",
     "text": [
      "report PA: \n",
      "                   precision    recall  f1-score   support\n",
      "\n",
      "    Lung Opacity     0.0000    0.0000    0.0000        33\n",
      "            None     0.8233    1.0000    0.9031       247\n",
      "Pleural Effusion     0.0000    0.0000    0.0000        13\n",
      " Support Devices     0.0000    0.0000    0.0000         7\n",
      "\n",
      "        accuracy                         0.8233       300\n",
      "       macro avg     0.2058    0.2500    0.2258       300\n",
      "    weighted avg     0.6779    0.8233    0.7436       300\n",
      "\n",
      "report Lateral: \n",
      "                   precision    recall  f1-score   support\n",
      "\n",
      "    Lung Opacity     0.0000    0.0000    0.0000        33\n",
      "            None     0.8227    0.9960    0.9011       247\n",
      "Pleural Effusion     0.0000    0.0000    0.0000        13\n",
      " Support Devices     0.0000    0.0000    0.0000         7\n",
      "\n",
      "        accuracy                         0.8200       300\n",
      "       macro avg     0.2057    0.2490    0.2253       300\n",
      "    weighted avg     0.6774    0.8200    0.7419       300\n",
      "\n",
      "report text: \n",
      "                   precision    recall  f1-score   support\n",
      "\n",
      "    Lung Opacity     0.4286    0.0909    0.1500        33\n",
      "            None     0.8379    0.9838    0.9050       247\n",
      "Pleural Effusion     1.0000    0.2308    0.3750        13\n",
      " Support Devices     0.0000    0.0000    0.0000         7\n",
      "\n",
      "        accuracy                         0.8300       300\n",
      "       macro avg     0.5666    0.3264    0.3575       300\n",
      "    weighted avg     0.7804    0.8300    0.7779       300\n",
      "\n"
     ]
    }
   ],
   "source": [
    "for modality in results.keys():\n",
    "    print(f'report {modality}: \\n', results[modality]['report'])"
   ]
  },
  {
   "cell_type": "markdown",
   "metadata": {
    "ExecuteTime": {
     "end_time": "2020-11-02T15:45:05.542627Z",
     "start_time": "2020-11-02T15:45:05.537414Z"
    },
    "pycharm": {
     "name": "#%%\n"
    }
   },
   "source": [
    "## Evaluation of the word encoding and image size 128\n",
    "### The text classifier precision is slightly better for the word encoding"
   ]
  },
  {
   "cell_type": "code",
   "execution_count": 14,
   "metadata": {
    "ExecuteTime": {
     "end_time": "2020-11-03T20:10:40.088310Z",
     "start_time": "2020-11-03T20:10:07.165667Z"
    }
   },
   "outputs": [
    {
     "name": "stdout",
     "output_type": "stream",
     "text": [
      "setting dataset\n",
      "setting modalities\n",
      "setting model\n",
      "setting clfs\n",
      "setting rec_weights\n",
      "dict_keys(['real', 'random', '', 'PA', 'Lateral', 'text', 'Lateral_PA', 'PA_text', 'Lateral_text', 'Lateral_PA_text'])\n"
     ]
    },
    {
     "name": "stderr",
     "output_type": "stream",
     "text": [
      "/cluster/home/klugh/software/anaconda/envs/temp/lib/python3.8/site-packages/sklearn/metrics/_classification.py:1221: UndefinedMetricWarning: Precision and F-score are ill-defined and being set to 0.0 in labels with no predicted samples. Use `zero_division` parameter to control this behavior.\n",
      "  _warn_prf(average, modifier, msg_start, len(result))\n"
     ]
    },
    {
     "name": "stdout",
     "output_type": "stream",
     "text": [
      "mean precision for PA classifier:  0.2652346862374294\n",
      "mean precision for Lateral classifier:  0.2659164796671524\n",
      "mean precision for text classifier:  0.6508058343524366\n"
     ]
    }
   ],
   "source": [
    "results = test_clfs(FLAGS, 128, 'word', alphabet)\n",
    "for modality in results.keys():\n",
    "    print(f'mean precision for {modality} classifier: ', np.mean(results[modality]['list_precision_vals']))"
   ]
  },
  {
   "cell_type": "code",
   "execution_count": 15,
   "metadata": {
    "ExecuteTime": {
     "end_time": "2020-11-03T20:10:40.094163Z",
     "start_time": "2020-11-03T20:10:40.089932Z"
    },
    "pycharm": {
     "name": "#%%\n"
    }
   },
   "outputs": [
    {
     "name": "stdout",
     "output_type": "stream",
     "text": [
      "report PA: \n",
      "                   precision    recall  f1-score   support\n",
      "\n",
      "    Lung Opacity     0.0000    0.0000    0.0000        44\n",
      "            None     0.7833    1.0000    0.8785       235\n",
      "Pleural Effusion     0.0000    0.0000    0.0000        17\n",
      " Support Devices     0.0000    0.0000    0.0000         4\n",
      "\n",
      "        accuracy                         0.7833       300\n",
      "       macro avg     0.1958    0.2500    0.2196       300\n",
      "    weighted avg     0.6136    0.7833    0.6882       300\n",
      "\n",
      "report Lateral: \n",
      "                   precision    recall  f1-score   support\n",
      "\n",
      "    Lung Opacity     0.0000    0.0000    0.0000        44\n",
      "            None     0.7826    0.9957    0.8764       235\n",
      "Pleural Effusion     0.0000    0.0000    0.0000        17\n",
      " Support Devices     0.0000    0.0000    0.0000         4\n",
      "\n",
      "        accuracy                         0.7800       300\n",
      "       macro avg     0.1957    0.2489    0.2191       300\n",
      "    weighted avg     0.6130    0.7800    0.6865       300\n",
      "\n",
      "report text: \n",
      "                   precision    recall  f1-score   support\n",
      "\n",
      "    Lung Opacity     0.8000    0.0909    0.1633        44\n",
      "            None     0.8217    1.0000    0.9021       235\n",
      "Pleural Effusion     1.0000    0.5294    0.6923        17\n",
      " Support Devices     0.0000    0.0000    0.0000         4\n",
      "\n",
      "        accuracy                         0.8267       300\n",
      "       macro avg     0.6554    0.4051    0.4394       300\n",
      "    weighted avg     0.8176    0.8267    0.7698       300\n",
      "\n"
     ]
    }
   ],
   "source": [
    "for modality in results.keys():\n",
    "    print(f'report {modality}: \\n', results[modality]['report'])"
   ]
  },
  {
   "cell_type": "markdown",
   "metadata": {
    "ExecuteTime": {
     "end_time": "2020-11-02T15:29:28.359381Z",
     "start_time": "2020-11-02T15:29:14.280Z"
    },
    "pycharm": {
     "name": "#%%\n"
    }
   },
   "source": [
    "## Evaluation of image size 256\n"
   ]
  },
  {
   "cell_type": "code",
   "execution_count": 7,
   "metadata": {
    "ExecuteTime": {
     "end_time": "2020-11-04T12:12:58.049322Z",
     "start_time": "2020-11-04T12:10:26.094304Z"
    }
   },
   "outputs": [
    {
     "name": "stdout",
     "output_type": "stream",
     "text": [
      "setting dataset\n",
      "setting modalities\n",
      "setting model\n",
      "setting clfs\n",
      "setting rec_weights\n",
      "dict_keys(['real', 'random', '', 'PA', 'Lateral', 'text', 'Lateral_PA', 'PA_text', 'Lateral_text', 'Lateral_PA_text'])\n"
     ]
    }
   ],
   "source": [
    "import numpy as np\n",
    "\n",
    "from mimic.dataio.MimicDataset import Mimic\n",
    "from mimic.utils.experiment import MimicExperiment\n",
    "FLAGS.text_encoding = 'word'\n",
    "FLAGS.img_size = 256\n",
    "mimic_experiment = MimicExperiment(flags=FLAGS, alphabet=alphabet)\n",
    "mimic_test = Mimic(FLAGS, mimic_experiment.labels, alphabet, split='eval')"
   ]
  },
  {
   "cell_type": "code",
   "execution_count": 8,
   "metadata": {
    "ExecuteTime": {
     "end_time": "2020-11-04T12:13:01.079952Z",
     "start_time": "2020-11-04T12:12:58.051238Z"
    },
    "pycharm": {
     "name": "#%%\n"
    }
   },
   "outputs": [
    {
     "name": "stderr",
     "output_type": "stream",
     "text": [
      "/cluster/home/klugh/software/anaconda/envs/temp/lib/python3.8/site-packages/sklearn/metrics/_classification.py:1221: UndefinedMetricWarning: Precision and F-score are ill-defined and being set to 0.0 in labels with no predicted samples. Use `zero_division` parameter to control this behavior.\n",
      "  _warn_prf(average, modifier, msg_start, len(result))\n"
     ]
    },
    {
     "name": "stdout",
     "output_type": "stream",
     "text": [
      "mean precision for pa classifier:  0.22456472232340316\n",
      "mean precision for lat classifier:  0.2522556370555589\n",
      "mean precision for text classifier:  0.5960240907077753\n",
      "report pa:                    precision    recall  f1-score   support\n",
      "\n",
      "    Lung Opacity     0.0000    0.0000    0.0000        27\n",
      "            None     0.8333    1.0000    0.9091       250\n",
      "Pleural Effusion     0.0000    0.0000    0.0000        20\n",
      " Support Devices     0.0000    0.0000    0.0000         3\n",
      "\n",
      "        accuracy                         0.8333       300\n",
      "       macro avg     0.2083    0.2500    0.2273       300\n",
      "    weighted avg     0.6944    0.8333    0.7576       300\n",
      "\n",
      "report lat:                    precision    recall  f1-score   support\n",
      "\n",
      "    Lung Opacity     0.0000    0.0000    0.0000        38\n",
      "            None     0.8033    1.0000    0.8909       241\n",
      "Pleural Effusion     0.0000    0.0000    0.0000        16\n",
      " Support Devices     0.0000    0.0000    0.0000         5\n",
      "\n",
      "        accuracy                         0.8033       300\n",
      "       macro avg     0.2008    0.2500    0.2227       300\n",
      "    weighted avg     0.6453    0.8033    0.7157       300\n",
      "\n",
      "report text:                    precision    recall  f1-score   support\n",
      "\n",
      "    Lung Opacity     1.0000    0.0857    0.1579        35\n",
      "            None     0.8611    1.0000    0.9254       248\n",
      "Pleural Effusion     1.0000    0.6923    0.8182        13\n",
      " Support Devices     0.0000    0.0000    0.0000         4\n",
      "\n",
      "        accuracy                         0.8667       300\n",
      "       macro avg     0.7153    0.4445    0.4754       300\n",
      "    weighted avg     0.8719    0.8667    0.8189       300\n",
      "\n"
     ]
    }
   ],
   "source": [
    "report_pa, list_precision_pa = test_clf(FLAGS, mimic_experiment, mimic_test, 'PA')\n",
    "report_lat, list_precision_lat = test_clf(FLAGS, mimic_experiment, mimic_test, 'Lateral')\n",
    "report_text, list_precision_text = test_clf(FLAGS, mimic_experiment, mimic_test, 'text')\n",
    "print('mean precision for pa classifier: ',np.mean(list_precision_pa))\n",
    "print('mean precision for lat classifier: ',np.mean(list_precision_lat))\n",
    "print('mean precision for text classifier: ',np.mean(list_precision_text))\n",
    "print('report pa: ', report_pa)\n",
    "print('report lat: ', report_lat)\n",
    "print('report text: ', report_text)"
   ]
  },
  {
   "cell_type": "code",
   "execution_count": null,
   "metadata": {},
   "outputs": [],
   "source": []
  }
 ],
 "metadata": {
  "kernelspec": {
   "display_name": "Python 3",
   "language": "python",
   "name": "python3"
  },
  "language_info": {
   "codemirror_mode": {
    "name": "ipython",
    "version": 3
   },
   "file_extension": ".py",
   "mimetype": "text/x-python",
   "name": "python",
   "nbconvert_exporter": "python",
   "pygments_lexer": "ipython3",
   "version": "3.8.5"
  }
 },
 "nbformat": 4,
 "nbformat_minor": 1
}
