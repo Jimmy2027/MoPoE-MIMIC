{
 "cells": [
  {
   "cell_type": "code",
   "execution_count": 1,
   "metadata": {
    "ExecuteTime": {
     "end_time": "2020-11-02T15:49:23.550576Z",
     "start_time": "2020-11-02T15:49:23.539897Z"
    },
    "pycharm": {
     "name": "#%%\n"
    }
   },
   "outputs": [
    {
     "name": "stdout",
     "output_type": "stream",
     "text": [
      "/cluster/home/klugh/MIMIC/mimic\n"
     ]
    }
   ],
   "source": [
    "import os\n",
    "os.getcwd()\n",
    "%cd .."
   ]
  },
  {
   "cell_type": "code",
   "execution_count": 2,
   "metadata": {
    "ExecuteTime": {
     "end_time": "2020-11-02T15:49:30.218776Z",
     "start_time": "2020-11-02T15:49:23.553626Z"
    },
    "pycharm": {
     "name": "#%%\n"
    }
   },
   "outputs": [],
   "source": [
    "from pathlib import Path\n",
    "import pandas as pd\n",
    "import argparse\n",
    "\n",
    "from tensorflow.python.summary.summary_iterator import summary_iterator\n",
    "import json\n",
    "import os\n",
    "import numpy as np\n",
    "from mimic.utils.filehandling import get_config_path, expand_paths\n",
    "from mimic.notebooks.utils.boilerplate import test_clfs, test_clf\n",
    "from mimic.utils.flags import parser\n"
   ]
  },
  {
   "cell_type": "markdown",
   "metadata": {},
   "source": [
    "# Test of the latent representations of the MMVAE\n",
    "### Average precision (AP) scores on the latent representations, averaged over the batches.\n",
    "### AP summarizes a precision-recall curve as the weighted mean of precisions achieved at each threshold, with the increase in recall from the previous threshold used as the weight.\n",
    "### Note: For medical data, the true negative rate (recall) is probably more important."
   ]
  },
  {
   "cell_type": "markdown",
   "metadata": {},
   "source": [
    "## The labels are not evenly distributed over the datasets, this needs to be taken into account when analyzing classification scores."
   ]
  },
  {
   "cell_type": "code",
   "execution_count": 3,
   "metadata": {
    "ExecuteTime": {
     "end_time": "2020-11-02T15:49:30.234189Z",
     "start_time": "2020-11-02T15:49:30.222090Z"
    },
    "pycharm": {
     "name": "#%%\n"
    }
   },
   "outputs": [],
   "source": [
    "alphabet_path = os.path.join(str(Path(os.getcwd())), 'alphabet.json')\n",
    "with open(alphabet_path) as alphabet_file:\n",
    "    alphabet = str(''.join(json.load(alphabet_file)))\n",
    "\n",
    "FLAGS = parser.parse_args([])\n",
    "\n",
    "config_path = get_config_path()\n",
    "with open(config_path, 'rt') as json_file:\n",
    "    t_args = argparse.Namespace()\n",
    "    t_args.__dict__.update(json.load(json_file))\n",
    "    FLAGS = parser.parse_args('', namespace=t_args)\n",
    "    \n",
    "FLAGS = expand_paths(FLAGS)\n",
    "FLAGS.dir_data = os.path.expanduser(FLAGS.dir_data)\n",
    "dir_data = FLAGS.dir_data\n",
    "dir_dataset = os.path.join(dir_data, 'files_small_128')"
   ]
  },
  {
   "cell_type": "code",
   "execution_count": 4,
   "metadata": {
    "ExecuteTime": {
     "end_time": "2020-11-02T15:49:30.248268Z",
     "start_time": "2020-11-02T15:49:30.236818Z"
    },
    "pycharm": {
     "name": "#%%\n"
    }
   },
   "outputs": [],
   "source": [
    "labels = ['Lung Opacity', 'Pleural Effusion', 'Support Devices']\n",
    "test_labels_path = os.path.join(dir_dataset, 'eval_labels.csv')\n",
    "test_labels_df = pd.read_csv(test_labels_path)[labels].fillna(0)\n"
   ]
  },
  {
   "cell_type": "code",
   "execution_count": 5,
   "metadata": {
    "ExecuteTime": {
     "end_time": "2020-11-02T15:49:30.260245Z",
     "start_time": "2020-11-02T15:49:30.250350Z"
    },
    "pycharm": {
     "name": "#%%\n"
    }
   },
   "outputs": [
    {
     "name": "stdout",
     "output_type": "stream",
     "text": [
      "Lung Opacity        54\n",
      "Pleural Effusion    29\n",
      "Support Devices     12\n",
      "dtype: int64\n"
     ]
    }
   ],
   "source": [
    "counts = test_labels_df[test_labels_df == 1].count()\n",
    "print(counts)"
   ]
  },
  {
   "cell_type": "code",
   "execution_count": 6,
   "metadata": {
    "ExecuteTime": {
     "end_time": "2020-11-02T15:49:30.266293Z",
     "start_time": "2020-11-02T15:49:30.262192Z"
    },
    "pycharm": {
     "name": "#%%\n"
    }
   },
   "outputs": [
    {
     "name": "stdout",
     "output_type": "stream",
     "text": [
      "54\n"
     ]
    }
   ],
   "source": [
    "print(counts['Lung Opacity'])"
   ]
  },
  {
   "cell_type": "code",
   "execution_count": 7,
   "metadata": {
    "ExecuteTime": {
     "end_time": "2020-11-02T15:49:30.282489Z",
     "start_time": "2020-11-02T15:49:30.268294Z"
    },
    "pycharm": {
     "name": "#%%\n"
    }
   },
   "outputs": [
    {
     "data": {
      "text/plain": [
       "0.4"
      ]
     },
     "execution_count": 7,
     "metadata": {},
     "output_type": "execute_result"
    }
   ],
   "source": [
    "0.4*((len(test_labels_df)- counts['Lung Opacity']- counts['Pleural Effusion']-counts['Support Devices'])/len(test_labels_df)+counts['Lung Opacity']/len(test_labels_df)+(counts['Pleural Effusion']/len(test_labels_df))+(counts['Support Devices']/len(test_labels_df)))"
   ]
  },
  {
   "cell_type": "code",
   "execution_count": 8,
   "metadata": {
    "ExecuteTime": {
     "end_time": "2020-11-02T15:49:31.003173Z",
     "start_time": "2020-11-02T15:49:30.284495Z"
    },
    "pycharm": {
     "name": "#%%\n"
    }
   },
   "outputs": [
    {
     "name": "stdout",
     "output_type": "stream",
     "text": [
      "WARNING:tensorflow:From /cluster/home/klugh/software/anaconda/envs/temp/lib/python3.8/site-packages/tensorflow/python/summary/summary_iterator.py:68: tf_record_iterator (from tensorflow.python.lib.io.tf_record) is deprecated and will be removed in a future version.\n",
      "Instructions for updating:\n",
      "Use eager execution and: \n",
      "`tf.data.TFRecordDataset(path)`\n"
     ]
    }
   ],
   "source": [
    "checkpoint_path = os.path.expanduser(FLAGS.dir_fid)\n",
    "lr_evals = dict()\n",
    "for modality_method in ['moe']:\n",
    "    for factorization in os.listdir(os.path.join(checkpoint_path, modality_method)):\n",
    "        for experiment in os.listdir(os.path.join(checkpoint_path, modality_method, factorization)):\n",
    "            if experiment.startswith('Mimic'):\n",
    "                lr_evals[experiment] = dict()\n",
    "                lr_eval = lr_evals[experiment]\n",
    "                experiment_dir_ = os.path.join(checkpoint_path, modality_method, factorization, experiment)\n",
    "                lr_eval_dir = os.path.join(experiment_dir_, 'logs', 'Latent Representation')\n",
    "                if os.path.exists(lr_eval_dir):\n",
    "                    for label in os.listdir(lr_eval_dir):\n",
    "                        lr_eval[label] = dict()\n",
    "                        for lr in os.listdir(os.path.join(lr_eval_dir, label)):\n",
    "                            lr_eval[label][lr] = dict()\n",
    "                            for logfile in os.listdir(os.path.join(lr_eval_dir, label, lr)):\n",
    "                                for summary in summary_iterator(os.path.join(lr_eval_dir, label, lr, logfile)):\n",
    "                                    value = summary.summary.value\n",
    "                                    temp = str(value).split('\\n')\n",
    "                                    for elem in temp:\n",
    "                                        elem = elem\n",
    "                                        if elem.startswith('simple_value'):\n",
    "                                            lr_eval[label][lr][summary.step] = elem.split(' ')[1]"
   ]
  },
  {
   "cell_type": "code",
   "execution_count": 9,
   "metadata": {
    "ExecuteTime": {
     "end_time": "2020-11-02T15:49:31.080773Z",
     "start_time": "2020-11-02T15:49:31.007172Z"
    },
    "pycharm": {
     "name": "#%%\n"
    }
   },
   "outputs": [],
   "source": [
    "experiments_dataframe = pd.read_csv('experiments_dataframe.csv')\n",
    "dfs = []\n",
    "for experiment in lr_evals.keys():\n",
    "    experiment_evals = lr_evals[experiment]\n",
    "    if experiment_evals:\n",
    "        for label in experiment_evals.keys():\n",
    "            for lr in experiment_evals[label].keys():\n",
    "                steps = experiment_evals[label][lr].keys()\n",
    "                max_step = max(steps)\n",
    "                experiment_evals[label][lr] = experiment_evals[label][lr][max_step]\n",
    "\n",
    "        df = pd.DataFrame(experiment_evals).astype(float)\n",
    "        index = df.index\n",
    "        index.name = f'Steps: {max_step}'\n",
    "        df['mean_AP'] = df.mean(numeric_only=True, axis=1)\n",
    "        dfs.append((df, experiment))\n",
    "    "
   ]
  },
  {
   "cell_type": "code",
   "execution_count": 10,
   "metadata": {
    "ExecuteTime": {
     "end_time": "2020-11-02T15:49:31.184805Z",
     "start_time": "2020-11-02T15:49:31.082954Z"
    },
    "pycharm": {
     "name": "#%%\n"
    }
   },
   "outputs": [
    {
     "name": "stdout",
     "output_type": "stream",
     "text": [
      "Experiment Mimic_2020_10_30_17_20_31_531755 with text encoding: word, image size: 128.0, method: joint_elbo \n",
      " and trained for 18.0 epochs with batch size: 180.0 and 200.0 steps per training epoch\n"
     ]
    },
    {
     "data": {
      "text/html": [
       "<div>\n",
       "<style scoped>\n",
       "    .dataframe tbody tr th:only-of-type {\n",
       "        vertical-align: middle;\n",
       "    }\n",
       "\n",
       "    .dataframe tbody tr th {\n",
       "        vertical-align: top;\n",
       "    }\n",
       "\n",
       "    .dataframe thead th {\n",
       "        text-align: right;\n",
       "    }\n",
       "</style>\n",
       "<table border=\"1\" class=\"dataframe\">\n",
       "  <thead>\n",
       "    <tr style=\"text-align: right;\">\n",
       "      <th></th>\n",
       "      <th>Pleural Effusion</th>\n",
       "      <th>Support Devices</th>\n",
       "      <th>Lung Opacity</th>\n",
       "      <th>mean_AP</th>\n",
       "    </tr>\n",
       "    <tr>\n",
       "      <th>Steps: 4060</th>\n",
       "      <th></th>\n",
       "      <th></th>\n",
       "      <th></th>\n",
       "      <th></th>\n",
       "    </tr>\n",
       "  </thead>\n",
       "  <tbody>\n",
       "    <tr>\n",
       "      <th>PA_text</th>\n",
       "      <td>0.063194</td>\n",
       "      <td>0.025</td>\n",
       "      <td>0.131944</td>\n",
       "      <td>0.073380</td>\n",
       "    </tr>\n",
       "    <tr>\n",
       "      <th>Lateral_PA_text</th>\n",
       "      <td>0.130208</td>\n",
       "      <td>0.025</td>\n",
       "      <td>0.112831</td>\n",
       "      <td>0.089346</td>\n",
       "    </tr>\n",
       "    <tr>\n",
       "      <th>PA</th>\n",
       "      <td>0.059722</td>\n",
       "      <td>0.025</td>\n",
       "      <td>0.115278</td>\n",
       "      <td>0.066667</td>\n",
       "    </tr>\n",
       "    <tr>\n",
       "      <th>text</th>\n",
       "      <td>0.055556</td>\n",
       "      <td>0.025</td>\n",
       "      <td>0.155556</td>\n",
       "      <td>0.078704</td>\n",
       "    </tr>\n",
       "    <tr>\n",
       "      <th>Lateral_text</th>\n",
       "      <td>0.161111</td>\n",
       "      <td>0.025</td>\n",
       "      <td>0.116667</td>\n",
       "      <td>0.100926</td>\n",
       "    </tr>\n",
       "    <tr>\n",
       "      <th>Lateral_PA</th>\n",
       "      <td>0.095833</td>\n",
       "      <td>0.025</td>\n",
       "      <td>0.108796</td>\n",
       "      <td>0.076543</td>\n",
       "    </tr>\n",
       "    <tr>\n",
       "      <th>Lateral</th>\n",
       "      <td>0.126389</td>\n",
       "      <td>0.025</td>\n",
       "      <td>0.105556</td>\n",
       "      <td>0.085648</td>\n",
       "    </tr>\n",
       "  </tbody>\n",
       "</table>\n",
       "</div>"
      ],
      "text/plain": [
       "                 Pleural Effusion  Support Devices  Lung Opacity   mean_AP\n",
       "Steps: 4060                                                               \n",
       "PA_text                  0.063194            0.025      0.131944  0.073380\n",
       "Lateral_PA_text          0.130208            0.025      0.112831  0.089346\n",
       "PA                       0.059722            0.025      0.115278  0.066667\n",
       "text                     0.055556            0.025      0.155556  0.078704\n",
       "Lateral_text             0.161111            0.025      0.116667  0.100926\n",
       "Lateral_PA               0.095833            0.025      0.108796  0.076543\n",
       "Lateral                  0.126389            0.025      0.105556  0.085648"
      ]
     },
     "metadata": {},
     "output_type": "display_data"
    },
    {
     "name": "stdout",
     "output_type": "stream",
     "text": [
      "Experiment Mimic_2020_11_02_09_08_06_254088 with text encoding: word, image size: 128.0, method: joint_elbo \n",
      " and trained for 1.0 epochs with batch size: 100.0 and 10.0 steps per training epoch\n"
     ]
    },
    {
     "data": {
      "text/html": [
       "<div>\n",
       "<style scoped>\n",
       "    .dataframe tbody tr th:only-of-type {\n",
       "        vertical-align: middle;\n",
       "    }\n",
       "\n",
       "    .dataframe tbody tr th {\n",
       "        vertical-align: top;\n",
       "    }\n",
       "\n",
       "    .dataframe thead th {\n",
       "        text-align: right;\n",
       "    }\n",
       "</style>\n",
       "<table border=\"1\" class=\"dataframe\">\n",
       "  <thead>\n",
       "    <tr style=\"text-align: right;\">\n",
       "      <th></th>\n",
       "      <th>Pleural Effusion</th>\n",
       "      <th>Support Devices</th>\n",
       "      <th>Lung Opacity</th>\n",
       "      <th>mean_AP</th>\n",
       "    </tr>\n",
       "    <tr>\n",
       "      <th>Steps: 45</th>\n",
       "      <th></th>\n",
       "      <th></th>\n",
       "      <th></th>\n",
       "      <th></th>\n",
       "    </tr>\n",
       "  </thead>\n",
       "  <tbody>\n",
       "    <tr>\n",
       "      <th>PA_text</th>\n",
       "      <td>0.115556</td>\n",
       "      <td>0.0225</td>\n",
       "      <td>0.118988</td>\n",
       "      <td>0.085681</td>\n",
       "    </tr>\n",
       "    <tr>\n",
       "      <th>Lateral_PA_text</th>\n",
       "      <td>0.162037</td>\n",
       "      <td>0.0225</td>\n",
       "      <td>0.146905</td>\n",
       "      <td>0.110481</td>\n",
       "    </tr>\n",
       "    <tr>\n",
       "      <th>PA</th>\n",
       "      <td>0.076389</td>\n",
       "      <td>0.0225</td>\n",
       "      <td>0.110000</td>\n",
       "      <td>0.069630</td>\n",
       "    </tr>\n",
       "    <tr>\n",
       "      <th>text</th>\n",
       "      <td>0.065000</td>\n",
       "      <td>0.0225</td>\n",
       "      <td>0.163492</td>\n",
       "      <td>0.083664</td>\n",
       "    </tr>\n",
       "    <tr>\n",
       "      <th>Lateral_text</th>\n",
       "      <td>0.187500</td>\n",
       "      <td>0.0225</td>\n",
       "      <td>0.172792</td>\n",
       "      <td>0.127597</td>\n",
       "    </tr>\n",
       "    <tr>\n",
       "      <th>Lateral_PA</th>\n",
       "      <td>0.126944</td>\n",
       "      <td>0.0225</td>\n",
       "      <td>0.125357</td>\n",
       "      <td>0.091601</td>\n",
       "    </tr>\n",
       "    <tr>\n",
       "      <th>Lateral</th>\n",
       "      <td>0.132778</td>\n",
       "      <td>0.0225</td>\n",
       "      <td>0.110000</td>\n",
       "      <td>0.088426</td>\n",
       "    </tr>\n",
       "  </tbody>\n",
       "</table>\n",
       "</div>"
      ],
      "text/plain": [
       "                 Pleural Effusion  Support Devices  Lung Opacity   mean_AP\n",
       "Steps: 45                                                                 \n",
       "PA_text                  0.115556           0.0225      0.118988  0.085681\n",
       "Lateral_PA_text          0.162037           0.0225      0.146905  0.110481\n",
       "PA                       0.076389           0.0225      0.110000  0.069630\n",
       "text                     0.065000           0.0225      0.163492  0.083664\n",
       "Lateral_text             0.187500           0.0225      0.172792  0.127597\n",
       "Lateral_PA               0.126944           0.0225      0.125357  0.091601\n",
       "Lateral                  0.132778           0.0225      0.110000  0.088426"
      ]
     },
     "metadata": {},
     "output_type": "display_data"
    },
    {
     "name": "stdout",
     "output_type": "stream",
     "text": [
      "Experiment Mimic_2020_11_01_21_52_41_837902 with text encoding: char, image size: 256.0, method: joint_elbo \n",
      " and trained for 98.0 epochs with batch size: 100.0 and 200.0 steps per training epoch\n"
     ]
    },
    {
     "data": {
      "text/html": [
       "<div>\n",
       "<style scoped>\n",
       "    .dataframe tbody tr th:only-of-type {\n",
       "        vertical-align: middle;\n",
       "    }\n",
       "\n",
       "    .dataframe tbody tr th {\n",
       "        vertical-align: top;\n",
       "    }\n",
       "\n",
       "    .dataframe thead th {\n",
       "        text-align: right;\n",
       "    }\n",
       "</style>\n",
       "<table border=\"1\" class=\"dataframe\">\n",
       "  <thead>\n",
       "    <tr style=\"text-align: right;\">\n",
       "      <th></th>\n",
       "      <th>Pleural Effusion</th>\n",
       "      <th>Support Devices</th>\n",
       "      <th>Lung Opacity</th>\n",
       "      <th>mean_AP</th>\n",
       "    </tr>\n",
       "    <tr>\n",
       "      <th>Steps: 20500</th>\n",
       "      <th></th>\n",
       "      <th></th>\n",
       "      <th></th>\n",
       "      <th></th>\n",
       "    </tr>\n",
       "  </thead>\n",
       "  <tbody>\n",
       "    <tr>\n",
       "      <th>PA_text</th>\n",
       "      <td>0.065556</td>\n",
       "      <td>0.02</td>\n",
       "      <td>0.166240</td>\n",
       "      <td>0.083932</td>\n",
       "    </tr>\n",
       "    <tr>\n",
       "      <th>Lateral_PA_text</th>\n",
       "      <td>0.177778</td>\n",
       "      <td>0.02</td>\n",
       "      <td>0.138676</td>\n",
       "      <td>0.112151</td>\n",
       "    </tr>\n",
       "    <tr>\n",
       "      <th>PA</th>\n",
       "      <td>0.069167</td>\n",
       "      <td>0.02</td>\n",
       "      <td>0.102500</td>\n",
       "      <td>0.063889</td>\n",
       "    </tr>\n",
       "    <tr>\n",
       "      <th>text</th>\n",
       "      <td>0.055000</td>\n",
       "      <td>0.02</td>\n",
       "      <td>0.126721</td>\n",
       "      <td>0.067240</td>\n",
       "    </tr>\n",
       "    <tr>\n",
       "      <th>Lateral_text</th>\n",
       "      <td>0.127222</td>\n",
       "      <td>0.02</td>\n",
       "      <td>0.117857</td>\n",
       "      <td>0.088360</td>\n",
       "    </tr>\n",
       "    <tr>\n",
       "      <th>Lateral_PA</th>\n",
       "      <td>0.115694</td>\n",
       "      <td>0.02</td>\n",
       "      <td>0.102500</td>\n",
       "      <td>0.079398</td>\n",
       "    </tr>\n",
       "    <tr>\n",
       "      <th>Lateral</th>\n",
       "      <td>0.099583</td>\n",
       "      <td>0.02</td>\n",
       "      <td>0.117857</td>\n",
       "      <td>0.079147</td>\n",
       "    </tr>\n",
       "  </tbody>\n",
       "</table>\n",
       "</div>"
      ],
      "text/plain": [
       "                 Pleural Effusion  Support Devices  Lung Opacity   mean_AP\n",
       "Steps: 20500                                                              \n",
       "PA_text                  0.065556             0.02      0.166240  0.083932\n",
       "Lateral_PA_text          0.177778             0.02      0.138676  0.112151\n",
       "PA                       0.069167             0.02      0.102500  0.063889\n",
       "text                     0.055000             0.02      0.126721  0.067240\n",
       "Lateral_text             0.127222             0.02      0.117857  0.088360\n",
       "Lateral_PA               0.115694             0.02      0.102500  0.079398\n",
       "Lateral                  0.099583             0.02      0.117857  0.079147"
      ]
     },
     "metadata": {},
     "output_type": "display_data"
    },
    {
     "name": "stdout",
     "output_type": "stream",
     "text": [
      "Experiment Mimic_2020_11_02_08_55_24_522513 with text encoding: word, image size: 128.0, method: joint_elbo \n",
      " and trained for 1.0 epochs with batch size: 100.0 and 10.0 steps per training epoch\n"
     ]
    },
    {
     "data": {
      "text/html": [
       "<div>\n",
       "<style scoped>\n",
       "    .dataframe tbody tr th:only-of-type {\n",
       "        vertical-align: middle;\n",
       "    }\n",
       "\n",
       "    .dataframe tbody tr th {\n",
       "        vertical-align: top;\n",
       "    }\n",
       "\n",
       "    .dataframe thead th {\n",
       "        text-align: right;\n",
       "    }\n",
       "</style>\n",
       "<table border=\"1\" class=\"dataframe\">\n",
       "  <thead>\n",
       "    <tr style=\"text-align: right;\">\n",
       "      <th></th>\n",
       "      <th>Pleural Effusion</th>\n",
       "      <th>Support Devices</th>\n",
       "      <th>Lung Opacity</th>\n",
       "      <th>mean_AP</th>\n",
       "    </tr>\n",
       "    <tr>\n",
       "      <th>Steps: 45</th>\n",
       "      <th></th>\n",
       "      <th></th>\n",
       "      <th></th>\n",
       "      <th></th>\n",
       "    </tr>\n",
       "  </thead>\n",
       "  <tbody>\n",
       "    <tr>\n",
       "      <th>PA_text</th>\n",
       "      <td>0.145093</td>\n",
       "      <td>NaN</td>\n",
       "      <td>0.142118</td>\n",
       "      <td>0.143605</td>\n",
       "    </tr>\n",
       "    <tr>\n",
       "      <th>Lateral_PA_text</th>\n",
       "      <td>0.158611</td>\n",
       "      <td>NaN</td>\n",
       "      <td>0.161296</td>\n",
       "      <td>0.159954</td>\n",
       "    </tr>\n",
       "    <tr>\n",
       "      <th>PA</th>\n",
       "      <td>0.062500</td>\n",
       "      <td>NaN</td>\n",
       "      <td>0.107500</td>\n",
       "      <td>0.085000</td>\n",
       "    </tr>\n",
       "    <tr>\n",
       "      <th>text</th>\n",
       "      <td>0.062500</td>\n",
       "      <td>NaN</td>\n",
       "      <td>0.120625</td>\n",
       "      <td>0.091562</td>\n",
       "    </tr>\n",
       "    <tr>\n",
       "      <th>Lateral_text</th>\n",
       "      <td>0.118929</td>\n",
       "      <td>NaN</td>\n",
       "      <td>0.163056</td>\n",
       "      <td>0.140992</td>\n",
       "    </tr>\n",
       "    <tr>\n",
       "      <th>Lateral_PA</th>\n",
       "      <td>0.120972</td>\n",
       "      <td>NaN</td>\n",
       "      <td>0.118472</td>\n",
       "      <td>0.119722</td>\n",
       "    </tr>\n",
       "    <tr>\n",
       "      <th>Lateral</th>\n",
       "      <td>0.173056</td>\n",
       "      <td>NaN</td>\n",
       "      <td>0.107500</td>\n",
       "      <td>0.140278</td>\n",
       "    </tr>\n",
       "  </tbody>\n",
       "</table>\n",
       "</div>"
      ],
      "text/plain": [
       "                 Pleural Effusion  Support Devices  Lung Opacity   mean_AP\n",
       "Steps: 45                                                                 \n",
       "PA_text                  0.145093              NaN      0.142118  0.143605\n",
       "Lateral_PA_text          0.158611              NaN      0.161296  0.159954\n",
       "PA                       0.062500              NaN      0.107500  0.085000\n",
       "text                     0.062500              NaN      0.120625  0.091562\n",
       "Lateral_text             0.118929              NaN      0.163056  0.140992\n",
       "Lateral_PA               0.120972              NaN      0.118472  0.119722\n",
       "Lateral                  0.173056              NaN      0.107500  0.140278"
      ]
     },
     "metadata": {},
     "output_type": "display_data"
    },
    {
     "name": "stdout",
     "output_type": "stream",
     "text": [
      "Experiment Mimic_2020_11_02_09_33_45_520718 with text encoding: word, image size: 256.0, method: joint_elbo \n",
      " and trained for 23.0 epochs with batch size: 100.0 and 200.0 steps per training epoch\n"
     ]
    },
    {
     "data": {
      "text/html": [
       "<div>\n",
       "<style scoped>\n",
       "    .dataframe tbody tr th:only-of-type {\n",
       "        vertical-align: middle;\n",
       "    }\n",
       "\n",
       "    .dataframe tbody tr th {\n",
       "        vertical-align: top;\n",
       "    }\n",
       "\n",
       "    .dataframe thead th {\n",
       "        text-align: right;\n",
       "    }\n",
       "</style>\n",
       "<table border=\"1\" class=\"dataframe\">\n",
       "  <thead>\n",
       "    <tr style=\"text-align: right;\">\n",
       "      <th></th>\n",
       "      <th>Pleural Effusion</th>\n",
       "      <th>Support Devices</th>\n",
       "      <th>Lung Opacity</th>\n",
       "      <th>mean_AP</th>\n",
       "    </tr>\n",
       "    <tr>\n",
       "      <th>Steps: 4100</th>\n",
       "      <th></th>\n",
       "      <th></th>\n",
       "      <th></th>\n",
       "      <th></th>\n",
       "    </tr>\n",
       "  </thead>\n",
       "  <tbody>\n",
       "    <tr>\n",
       "      <th>PA_text</th>\n",
       "      <td>0.073179</td>\n",
       "      <td>NaN</td>\n",
       "      <td>0.127009</td>\n",
       "      <td>0.100094</td>\n",
       "    </tr>\n",
       "    <tr>\n",
       "      <th>Lateral_PA_text</th>\n",
       "      <td>0.097202</td>\n",
       "      <td>NaN</td>\n",
       "      <td>0.113780</td>\n",
       "      <td>0.105491</td>\n",
       "    </tr>\n",
       "    <tr>\n",
       "      <th>PA</th>\n",
       "      <td>0.108649</td>\n",
       "      <td>NaN</td>\n",
       "      <td>0.115833</td>\n",
       "      <td>0.112241</td>\n",
       "    </tr>\n",
       "    <tr>\n",
       "      <th>text</th>\n",
       "      <td>0.085278</td>\n",
       "      <td>NaN</td>\n",
       "      <td>0.161458</td>\n",
       "      <td>0.123368</td>\n",
       "    </tr>\n",
       "    <tr>\n",
       "      <th>Lateral_text</th>\n",
       "      <td>0.224484</td>\n",
       "      <td>NaN</td>\n",
       "      <td>0.156250</td>\n",
       "      <td>0.190367</td>\n",
       "    </tr>\n",
       "    <tr>\n",
       "      <th>Lateral_PA</th>\n",
       "      <td>0.108054</td>\n",
       "      <td>NaN</td>\n",
       "      <td>0.113750</td>\n",
       "      <td>0.110902</td>\n",
       "    </tr>\n",
       "    <tr>\n",
       "      <th>Lateral</th>\n",
       "      <td>0.181746</td>\n",
       "      <td>NaN</td>\n",
       "      <td>0.129323</td>\n",
       "      <td>0.155534</td>\n",
       "    </tr>\n",
       "  </tbody>\n",
       "</table>\n",
       "</div>"
      ],
      "text/plain": [
       "                 Pleural Effusion  Support Devices  Lung Opacity   mean_AP\n",
       "Steps: 4100                                                               \n",
       "PA_text                  0.073179              NaN      0.127009  0.100094\n",
       "Lateral_PA_text          0.097202              NaN      0.113780  0.105491\n",
       "PA                       0.108649              NaN      0.115833  0.112241\n",
       "text                     0.085278              NaN      0.161458  0.123368\n",
       "Lateral_text             0.224484              NaN      0.156250  0.190367\n",
       "Lateral_PA               0.108054              NaN      0.113750  0.110902\n",
       "Lateral                  0.181746              NaN      0.129323  0.155534"
      ]
     },
     "metadata": {},
     "output_type": "display_data"
    },
    {
     "name": "stdout",
     "output_type": "stream",
     "text": [
      "Experiment Mimic_2020_10_26_23_01_20_004865 with text encoding: word, image size: 128.0, method: jsd \n",
      " and trained for 15.0 epochs with batch size: 180.0 and -1.0 steps per training epoch\n"
     ]
    },
    {
     "data": {
      "text/html": [
       "<div>\n",
       "<style scoped>\n",
       "    .dataframe tbody tr th:only-of-type {\n",
       "        vertical-align: middle;\n",
       "    }\n",
       "\n",
       "    .dataframe tbody tr th {\n",
       "        vertical-align: top;\n",
       "    }\n",
       "\n",
       "    .dataframe thead th {\n",
       "        text-align: right;\n",
       "    }\n",
       "</style>\n",
       "<table border=\"1\" class=\"dataframe\">\n",
       "  <thead>\n",
       "    <tr style=\"text-align: right;\">\n",
       "      <th></th>\n",
       "      <th>Pleural Effusion</th>\n",
       "      <th>Support Devices</th>\n",
       "      <th>Lung Opacity</th>\n",
       "      <th>mean_AP</th>\n",
       "    </tr>\n",
       "    <tr>\n",
       "      <th>Steps: 6740</th>\n",
       "      <th></th>\n",
       "      <th></th>\n",
       "      <th></th>\n",
       "      <th></th>\n",
       "    </tr>\n",
       "  </thead>\n",
       "  <tbody>\n",
       "    <tr>\n",
       "      <th>PA_text</th>\n",
       "      <td>0.165385</td>\n",
       "      <td>0.019444</td>\n",
       "      <td>0.112879</td>\n",
       "      <td>0.099236</td>\n",
       "    </tr>\n",
       "    <tr>\n",
       "      <th>Lateral_PA_text</th>\n",
       "      <td>0.210279</td>\n",
       "      <td>0.019444</td>\n",
       "      <td>0.111111</td>\n",
       "      <td>0.113612</td>\n",
       "    </tr>\n",
       "    <tr>\n",
       "      <th>PA</th>\n",
       "      <td>0.093269</td>\n",
       "      <td>0.019444</td>\n",
       "      <td>0.114646</td>\n",
       "      <td>0.075787</td>\n",
       "    </tr>\n",
       "    <tr>\n",
       "      <th>text</th>\n",
       "      <td>0.058333</td>\n",
       "      <td>0.019444</td>\n",
       "      <td>0.133333</td>\n",
       "      <td>0.070370</td>\n",
       "    </tr>\n",
       "    <tr>\n",
       "      <th>Lateral_text</th>\n",
       "      <td>0.129701</td>\n",
       "      <td>0.019444</td>\n",
       "      <td>0.111111</td>\n",
       "      <td>0.086752</td>\n",
       "    </tr>\n",
       "    <tr>\n",
       "      <th>Lateral_PA</th>\n",
       "      <td>0.099451</td>\n",
       "      <td>0.019444</td>\n",
       "      <td>0.123232</td>\n",
       "      <td>0.080709</td>\n",
       "    </tr>\n",
       "    <tr>\n",
       "      <th>Lateral</th>\n",
       "      <td>0.104060</td>\n",
       "      <td>0.019444</td>\n",
       "      <td>0.186111</td>\n",
       "      <td>0.103205</td>\n",
       "    </tr>\n",
       "  </tbody>\n",
       "</table>\n",
       "</div>"
      ],
      "text/plain": [
       "                 Pleural Effusion  Support Devices  Lung Opacity   mean_AP\n",
       "Steps: 6740                                                               \n",
       "PA_text                  0.165385         0.019444      0.112879  0.099236\n",
       "Lateral_PA_text          0.210279         0.019444      0.111111  0.113612\n",
       "PA                       0.093269         0.019444      0.114646  0.075787\n",
       "text                     0.058333         0.019444      0.133333  0.070370\n",
       "Lateral_text             0.129701         0.019444      0.111111  0.086752\n",
       "Lateral_PA               0.099451         0.019444      0.123232  0.080709\n",
       "Lateral                  0.104060         0.019444      0.186111  0.103205"
      ]
     },
     "metadata": {},
     "output_type": "display_data"
    },
    {
     "name": "stdout",
     "output_type": "stream",
     "text": [
      "Experiment Mimic_2020_11_02_09_15_32_114683 with text encoding: word, image size: 128.0, method: joint_elbo \n",
      " and trained for 2.0 epochs with batch size: 100.0 and 10.0 steps per training epoch\n"
     ]
    },
    {
     "data": {
      "text/html": [
       "<div>\n",
       "<style scoped>\n",
       "    .dataframe tbody tr th:only-of-type {\n",
       "        vertical-align: middle;\n",
       "    }\n",
       "\n",
       "    .dataframe tbody tr th {\n",
       "        vertical-align: top;\n",
       "    }\n",
       "\n",
       "    .dataframe thead th {\n",
       "        text-align: right;\n",
       "    }\n",
       "</style>\n",
       "<table border=\"1\" class=\"dataframe\">\n",
       "  <thead>\n",
       "    <tr style=\"text-align: right;\">\n",
       "      <th></th>\n",
       "      <th>Pleural Effusion</th>\n",
       "      <th>Support Devices</th>\n",
       "      <th>Lung Opacity</th>\n",
       "      <th>mean_AP</th>\n",
       "    </tr>\n",
       "    <tr>\n",
       "      <th>Steps: 45</th>\n",
       "      <th></th>\n",
       "      <th></th>\n",
       "      <th></th>\n",
       "      <th></th>\n",
       "    </tr>\n",
       "  </thead>\n",
       "  <tbody>\n",
       "    <tr>\n",
       "      <th>PA_text</th>\n",
       "      <td>0.057500</td>\n",
       "      <td>0.0275</td>\n",
       "      <td>0.139306</td>\n",
       "      <td>0.074769</td>\n",
       "    </tr>\n",
       "    <tr>\n",
       "      <th>Lateral_PA_text</th>\n",
       "      <td>0.062143</td>\n",
       "      <td>0.0275</td>\n",
       "      <td>0.115694</td>\n",
       "      <td>0.068446</td>\n",
       "    </tr>\n",
       "    <tr>\n",
       "      <th>PA</th>\n",
       "      <td>0.063929</td>\n",
       "      <td>0.0275</td>\n",
       "      <td>0.115417</td>\n",
       "      <td>0.068948</td>\n",
       "    </tr>\n",
       "    <tr>\n",
       "      <th>text</th>\n",
       "      <td>0.057500</td>\n",
       "      <td>0.0275</td>\n",
       "      <td>0.107500</td>\n",
       "      <td>0.064167</td>\n",
       "    </tr>\n",
       "    <tr>\n",
       "      <th>Lateral_text</th>\n",
       "      <td>0.090476</td>\n",
       "      <td>0.0275</td>\n",
       "      <td>0.116488</td>\n",
       "      <td>0.078155</td>\n",
       "    </tr>\n",
       "    <tr>\n",
       "      <th>Lateral_PA</th>\n",
       "      <td>0.066905</td>\n",
       "      <td>0.0275</td>\n",
       "      <td>0.137222</td>\n",
       "      <td>0.077209</td>\n",
       "    </tr>\n",
       "    <tr>\n",
       "      <th>Lateral</th>\n",
       "      <td>0.119940</td>\n",
       "      <td>0.0275</td>\n",
       "      <td>0.151111</td>\n",
       "      <td>0.099517</td>\n",
       "    </tr>\n",
       "  </tbody>\n",
       "</table>\n",
       "</div>"
      ],
      "text/plain": [
       "                 Pleural Effusion  Support Devices  Lung Opacity   mean_AP\n",
       "Steps: 45                                                                 \n",
       "PA_text                  0.057500           0.0275      0.139306  0.074769\n",
       "Lateral_PA_text          0.062143           0.0275      0.115694  0.068446\n",
       "PA                       0.063929           0.0275      0.115417  0.068948\n",
       "text                     0.057500           0.0275      0.107500  0.064167\n",
       "Lateral_text             0.090476           0.0275      0.116488  0.078155\n",
       "Lateral_PA               0.066905           0.0275      0.137222  0.077209\n",
       "Lateral                  0.119940           0.0275      0.151111  0.099517"
      ]
     },
     "metadata": {},
     "output_type": "display_data"
    },
    {
     "name": "stdout",
     "output_type": "stream",
     "text": [
      "Experiment Mimic_2020_11_02_08_46_12_506581 with text encoding: word, image size: 128.0, method: joint_elbo \n",
      " and trained for 1.0 epochs with batch size: 100.0 and 10.0 steps per training epoch\n"
     ]
    },
    {
     "data": {
      "text/html": [
       "<div>\n",
       "<style scoped>\n",
       "    .dataframe tbody tr th:only-of-type {\n",
       "        vertical-align: middle;\n",
       "    }\n",
       "\n",
       "    .dataframe tbody tr th {\n",
       "        vertical-align: top;\n",
       "    }\n",
       "\n",
       "    .dataframe thead th {\n",
       "        text-align: right;\n",
       "    }\n",
       "</style>\n",
       "<table border=\"1\" class=\"dataframe\">\n",
       "  <thead>\n",
       "    <tr style=\"text-align: right;\">\n",
       "      <th></th>\n",
       "      <th>Pleural Effusion</th>\n",
       "      <th>Support Devices</th>\n",
       "      <th>Lung Opacity</th>\n",
       "      <th>mean_AP</th>\n",
       "    </tr>\n",
       "    <tr>\n",
       "      <th>Steps: 45</th>\n",
       "      <th></th>\n",
       "      <th></th>\n",
       "      <th></th>\n",
       "      <th></th>\n",
       "    </tr>\n",
       "  </thead>\n",
       "  <tbody>\n",
       "    <tr>\n",
       "      <th>PA_text</th>\n",
       "      <td>0.066389</td>\n",
       "      <td>0.0275</td>\n",
       "      <td>0.149520</td>\n",
       "      <td>0.081136</td>\n",
       "    </tr>\n",
       "    <tr>\n",
       "      <th>Lateral_PA_text</th>\n",
       "      <td>0.076190</td>\n",
       "      <td>0.0275</td>\n",
       "      <td>0.148590</td>\n",
       "      <td>0.084094</td>\n",
       "    </tr>\n",
       "    <tr>\n",
       "      <th>PA</th>\n",
       "      <td>0.055000</td>\n",
       "      <td>0.0275</td>\n",
       "      <td>0.127778</td>\n",
       "      <td>0.070093</td>\n",
       "    </tr>\n",
       "    <tr>\n",
       "      <th>text</th>\n",
       "      <td>0.055000</td>\n",
       "      <td>0.0275</td>\n",
       "      <td>0.168704</td>\n",
       "      <td>0.083735</td>\n",
       "    </tr>\n",
       "    <tr>\n",
       "      <th>Lateral_text</th>\n",
       "      <td>0.102083</td>\n",
       "      <td>0.0275</td>\n",
       "      <td>0.139259</td>\n",
       "      <td>0.089614</td>\n",
       "    </tr>\n",
       "    <tr>\n",
       "      <th>Lateral_PA</th>\n",
       "      <td>0.088214</td>\n",
       "      <td>0.0275</td>\n",
       "      <td>0.110926</td>\n",
       "      <td>0.075547</td>\n",
       "    </tr>\n",
       "    <tr>\n",
       "      <th>Lateral</th>\n",
       "      <td>0.055000</td>\n",
       "      <td>0.0275</td>\n",
       "      <td>0.120833</td>\n",
       "      <td>0.067778</td>\n",
       "    </tr>\n",
       "  </tbody>\n",
       "</table>\n",
       "</div>"
      ],
      "text/plain": [
       "                 Pleural Effusion  Support Devices  Lung Opacity   mean_AP\n",
       "Steps: 45                                                                 \n",
       "PA_text                  0.066389           0.0275      0.149520  0.081136\n",
       "Lateral_PA_text          0.076190           0.0275      0.148590  0.084094\n",
       "PA                       0.055000           0.0275      0.127778  0.070093\n",
       "text                     0.055000           0.0275      0.168704  0.083735\n",
       "Lateral_text             0.102083           0.0275      0.139259  0.089614\n",
       "Lateral_PA               0.088214           0.0275      0.110926  0.075547\n",
       "Lateral                  0.055000           0.0275      0.120833  0.067778"
      ]
     },
     "metadata": {},
     "output_type": "display_data"
    },
    {
     "name": "stdout",
     "output_type": "stream",
     "text": [
      "Experiment Mimic_2020_10_27_14_47_11_079212 with text encoding: char, image size: 128.0, method: jsd \n",
      " and trained for 99.0 epochs with batch size: 180.0 and 100.0 steps per training epoch\n"
     ]
    },
    {
     "data": {
      "text/html": [
       "<div>\n",
       "<style scoped>\n",
       "    .dataframe tbody tr th:only-of-type {\n",
       "        vertical-align: middle;\n",
       "    }\n",
       "\n",
       "    .dataframe tbody tr th {\n",
       "        vertical-align: top;\n",
       "    }\n",
       "\n",
       "    .dataframe thead th {\n",
       "        text-align: right;\n",
       "    }\n",
       "</style>\n",
       "<table border=\"1\" class=\"dataframe\">\n",
       "  <thead>\n",
       "    <tr style=\"text-align: right;\">\n",
       "      <th></th>\n",
       "      <th>Pleural Effusion</th>\n",
       "      <th>Support Devices</th>\n",
       "      <th>Lung Opacity</th>\n",
       "      <th>mean_AP</th>\n",
       "    </tr>\n",
       "    <tr>\n",
       "      <th>Steps: 10300</th>\n",
       "      <th></th>\n",
       "      <th></th>\n",
       "      <th></th>\n",
       "      <th></th>\n",
       "    </tr>\n",
       "  </thead>\n",
       "  <tbody>\n",
       "    <tr>\n",
       "      <th>PA_text</th>\n",
       "      <td>0.102381</td>\n",
       "      <td>0.027778</td>\n",
       "      <td>0.131647</td>\n",
       "      <td>0.087269</td>\n",
       "    </tr>\n",
       "    <tr>\n",
       "      <th>Lateral_PA_text</th>\n",
       "      <td>0.069444</td>\n",
       "      <td>0.027778</td>\n",
       "      <td>0.129117</td>\n",
       "      <td>0.075446</td>\n",
       "    </tr>\n",
       "    <tr>\n",
       "      <th>PA</th>\n",
       "      <td>0.069444</td>\n",
       "      <td>0.027778</td>\n",
       "      <td>0.115625</td>\n",
       "      <td>0.070949</td>\n",
       "    </tr>\n",
       "    <tr>\n",
       "      <th>text</th>\n",
       "      <td>0.069444</td>\n",
       "      <td>0.027778</td>\n",
       "      <td>0.112401</td>\n",
       "      <td>0.069874</td>\n",
       "    </tr>\n",
       "    <tr>\n",
       "      <th>Lateral_text</th>\n",
       "      <td>0.069444</td>\n",
       "      <td>0.027778</td>\n",
       "      <td>0.131250</td>\n",
       "      <td>0.076157</td>\n",
       "    </tr>\n",
       "    <tr>\n",
       "      <th>Lateral_PA</th>\n",
       "      <td>0.069444</td>\n",
       "      <td>0.027778</td>\n",
       "      <td>0.102778</td>\n",
       "      <td>0.066667</td>\n",
       "    </tr>\n",
       "    <tr>\n",
       "      <th>Lateral</th>\n",
       "      <td>0.069444</td>\n",
       "      <td>0.027778</td>\n",
       "      <td>0.102778</td>\n",
       "      <td>0.066667</td>\n",
       "    </tr>\n",
       "  </tbody>\n",
       "</table>\n",
       "</div>"
      ],
      "text/plain": [
       "                 Pleural Effusion  Support Devices  Lung Opacity   mean_AP\n",
       "Steps: 10300                                                              \n",
       "PA_text                  0.102381         0.027778      0.131647  0.087269\n",
       "Lateral_PA_text          0.069444         0.027778      0.129117  0.075446\n",
       "PA                       0.069444         0.027778      0.115625  0.070949\n",
       "text                     0.069444         0.027778      0.112401  0.069874\n",
       "Lateral_text             0.069444         0.027778      0.131250  0.076157\n",
       "Lateral_PA               0.069444         0.027778      0.102778  0.066667\n",
       "Lateral                  0.069444         0.027778      0.102778  0.066667"
      ]
     },
     "metadata": {},
     "output_type": "display_data"
    },
    {
     "name": "stdout",
     "output_type": "stream",
     "text": [
      "Experiment Mimic_2020_10_23_13_17_46_515651 with text encoding: char, image size: 128.0, method: joint_elbo \n",
      " and trained for 299.0 epochs with batch size: 256.0 and -1.0 steps per training epoch\n"
     ]
    },
    {
     "data": {
      "text/html": [
       "<div>\n",
       "<style scoped>\n",
       "    .dataframe tbody tr th:only-of-type {\n",
       "        vertical-align: middle;\n",
       "    }\n",
       "\n",
       "    .dataframe tbody tr th {\n",
       "        vertical-align: top;\n",
       "    }\n",
       "\n",
       "    .dataframe thead th {\n",
       "        text-align: right;\n",
       "    }\n",
       "</style>\n",
       "<table border=\"1\" class=\"dataframe\">\n",
       "  <thead>\n",
       "    <tr style=\"text-align: right;\">\n",
       "      <th></th>\n",
       "      <th>Pleural Effusion</th>\n",
       "      <th>Support Devices</th>\n",
       "      <th>Lung Opacity</th>\n",
       "      <th>mean_AP</th>\n",
       "    </tr>\n",
       "    <tr>\n",
       "      <th>Steps: 71100</th>\n",
       "      <th></th>\n",
       "      <th></th>\n",
       "      <th></th>\n",
       "      <th></th>\n",
       "    </tr>\n",
       "  </thead>\n",
       "  <tbody>\n",
       "    <tr>\n",
       "      <th>PA_text</th>\n",
       "      <td>0.054688</td>\n",
       "      <td>0.027344</td>\n",
       "      <td>0.154948</td>\n",
       "      <td>0.078993</td>\n",
       "    </tr>\n",
       "    <tr>\n",
       "      <th>Lateral_PA_text</th>\n",
       "      <td>0.172519</td>\n",
       "      <td>0.027344</td>\n",
       "      <td>0.158118</td>\n",
       "      <td>0.119327</td>\n",
       "    </tr>\n",
       "    <tr>\n",
       "      <th>PA</th>\n",
       "      <td>0.056276</td>\n",
       "      <td>0.027344</td>\n",
       "      <td>0.127363</td>\n",
       "      <td>0.070328</td>\n",
       "    </tr>\n",
       "    <tr>\n",
       "      <th>text</th>\n",
       "      <td>0.122210</td>\n",
       "      <td>0.027344</td>\n",
       "      <td>0.119420</td>\n",
       "      <td>0.089658</td>\n",
       "    </tr>\n",
       "    <tr>\n",
       "      <th>Lateral_text</th>\n",
       "      <td>0.114397</td>\n",
       "      <td>0.027344</td>\n",
       "      <td>0.182021</td>\n",
       "      <td>0.107921</td>\n",
       "    </tr>\n",
       "    <tr>\n",
       "      <th>Lateral_PA</th>\n",
       "      <td>0.062686</td>\n",
       "      <td>0.027344</td>\n",
       "      <td>0.126877</td>\n",
       "      <td>0.072302</td>\n",
       "    </tr>\n",
       "    <tr>\n",
       "      <th>Lateral</th>\n",
       "      <td>0.060985</td>\n",
       "      <td>0.027344</td>\n",
       "      <td>0.153607</td>\n",
       "      <td>0.080645</td>\n",
       "    </tr>\n",
       "  </tbody>\n",
       "</table>\n",
       "</div>"
      ],
      "text/plain": [
       "                 Pleural Effusion  Support Devices  Lung Opacity   mean_AP\n",
       "Steps: 71100                                                              \n",
       "PA_text                  0.054688         0.027344      0.154948  0.078993\n",
       "Lateral_PA_text          0.172519         0.027344      0.158118  0.119327\n",
       "PA                       0.056276         0.027344      0.127363  0.070328\n",
       "text                     0.122210         0.027344      0.119420  0.089658\n",
       "Lateral_text             0.114397         0.027344      0.182021  0.107921\n",
       "Lateral_PA               0.062686         0.027344      0.126877  0.072302\n",
       "Lateral                  0.060985         0.027344      0.153607  0.080645"
      ]
     },
     "metadata": {},
     "output_type": "display_data"
    }
   ],
   "source": [
    "for df, experiment in dfs:\n",
    "    if len(experiments_dataframe.loc[experiments_dataframe['experiment_uid'] == experiment]) == 1:\n",
    "        flags = experiments_dataframe.loc[experiments_dataframe['experiment_uid'] == experiment]\n",
    "\n",
    "        print(f'Experiment {experiment} with text encoding: {flags.text_encoding.item()}, '\n",
    "              f'image size: {flags.img_size.item()}, method: {flags.method.item()} \\n and trained '\n",
    "              f'for {flags.total_epochs.item()} epochs with batch size: {flags.batch_size.item()} '\n",
    "              f'and {flags.steps_per_training_epoch.item()} steps per training epoch')\n",
    "        display(df)"
   ]
  },
  {
   "cell_type": "markdown",
   "metadata": {
    "ExecuteTime": {
     "end_time": "2020-11-02T15:29:28.353193Z",
     "start_time": "2020-11-02T15:29:28.349685Z"
    },
    "pycharm": {
     "name": "#%%\n"
    }
   },
   "source": [
    " # Evaluation of the classifiers\n",
    " All classifiers were trained for 100 epochs"
   ]
  },
  {
   "cell_type": "code",
   "execution_count": 11,
   "metadata": {
    "ExecuteTime": {
     "end_time": "2020-11-02T15:49:31.190478Z",
     "start_time": "2020-11-02T15:49:31.186535Z"
    }
   },
   "outputs": [],
   "source": [
    "labels = ['Lung Opacity', 'Pleural Effusion', 'Support Devices']\n",
    "\n",
    "FLAGS.num_features = len(alphabet)\n",
    "FLAGS.batch_size = 300\n",
    "FLAGS.str_experiment = 'temp'\n",
    "FLAGS.device = 'cuda'\n",
    "FLAGS.dir_gen_eval_fid = ''\n",
    "FLAGS.alpha_modalities = [FLAGS.div_weight_uniform_content, FLAGS.div_weight_m1_content,\n",
    "                          FLAGS.div_weight_m2_content, FLAGS.div_weight_m3_content]"
   ]
  },
  {
   "cell_type": "markdown",
   "metadata": {
    "ExecuteTime": {
     "end_time": "2020-11-02T15:29:28.355080Z",
     "start_time": "2020-11-02T15:29:14.272Z"
    },
    "pycharm": {
     "name": "#%%\n"
    }
   },
   "source": [
    "## Evaluation of the character encoding and image size 128"
   ]
  },
  {
   "cell_type": "code",
   "execution_count": 12,
   "metadata": {
    "ExecuteTime": {
     "end_time": "2020-11-02T15:49:50.630736Z",
     "start_time": "2020-11-02T15:49:31.192250Z"
    }
   },
   "outputs": [
    {
     "name": "stdout",
     "output_type": "stream",
     "text": [
      "setting dataset\n",
      "setting modalities\n",
      "setting model\n",
      "setting clfs\n",
      "setting rec_weights\n",
      "dict_keys(['real', 'random', '', 'PA', 'Lateral', 'text', 'Lateral_PA', 'PA_text', 'Lateral_text', 'Lateral_PA_text'])\n"
     ]
    },
    {
     "name": "stderr",
     "output_type": "stream",
     "text": [
      "/cluster/home/klugh/software/anaconda/envs/temp/lib/python3.8/site-packages/sklearn/metrics/_classification.py:1221: UndefinedMetricWarning: Precision and F-score are ill-defined and being set to 0.0 in labels with no predicted samples. Use `zero_division` parameter to control this behavior.\n",
      "  _warn_prf(average, modifier, msg_start, len(result))\n"
     ]
    },
    {
     "name": "stdout",
     "output_type": "stream",
     "text": [
      "mean precision for PA classifier:  0.23838146123424606\n",
      "mean precision for Lateral classifier:  0.22435125189244173\n",
      "mean precision for text classifier:  0.5800074740633372\n"
     ]
    }
   ],
   "source": [
    "results = test_clfs(FLAGS, 128, 'char', alphabet)\n",
    "for modality in results.keys():\n",
    "    print(f'mean precision for {modality} classifier: ', np.mean(results[modality]['list_precision_vals']))"
   ]
  },
  {
   "cell_type": "code",
   "execution_count": 13,
   "metadata": {
    "ExecuteTime": {
     "end_time": "2020-11-02T15:49:50.636689Z",
     "start_time": "2020-11-02T15:49:50.632555Z"
    },
    "pycharm": {
     "name": "#%%\n"
    }
   },
   "outputs": [
    {
     "name": "stdout",
     "output_type": "stream",
     "text": [
      "report PA: \n",
      "                   precision    recall  f1-score   support\n",
      "\n",
      "    Lung Opacity     0.0000    0.0000    0.0000        34\n",
      "            None     0.8167    1.0000    0.8991       245\n",
      "Pleural Effusion     0.0000    0.0000    0.0000        16\n",
      " Support Devices     0.0000    0.0000    0.0000         5\n",
      "\n",
      "        accuracy                         0.8167       300\n",
      "       macro avg     0.2042    0.2500    0.2248       300\n",
      "    weighted avg     0.6669    0.8167    0.7343       300\n",
      "\n",
      "report Lateral: \n",
      "                   precision    recall  f1-score   support\n",
      "\n",
      "    Lung Opacity     0.0000    0.0000    0.0000        34\n",
      "            None     0.8167    1.0000    0.8991       245\n",
      "Pleural Effusion     0.0000    0.0000    0.0000        16\n",
      " Support Devices     0.0000    0.0000    0.0000         5\n",
      "\n",
      "        accuracy                         0.8167       300\n",
      "       macro avg     0.2042    0.2500    0.2248       300\n",
      "    weighted avg     0.6669    0.8167    0.7343       300\n",
      "\n",
      "report text: \n",
      "                   precision    recall  f1-score   support\n",
      "\n",
      "    Lung Opacity     0.5000    0.0882    0.1500        34\n",
      "            None     0.8288    0.9878    0.9013       245\n",
      "Pleural Effusion     1.0000    0.1250    0.2222        16\n",
      " Support Devices     0.0000    0.0000    0.0000         5\n",
      "\n",
      "        accuracy                         0.8233       300\n",
      "       macro avg     0.5822    0.3002    0.3184       300\n",
      "    weighted avg     0.7868    0.8233    0.7649       300\n",
      "\n"
     ]
    }
   ],
   "source": [
    "for modality in results.keys():\n",
    "    print(f'report {modality}: \\n', results[modality]['report'])"
   ]
  },
  {
   "cell_type": "markdown",
   "metadata": {
    "ExecuteTime": {
     "end_time": "2020-11-02T15:45:05.542627Z",
     "start_time": "2020-11-02T15:45:05.537414Z"
    },
    "pycharm": {
     "name": "#%%\n"
    }
   },
   "source": [
    "## Evaluation of the word encoding and image size 128\n",
    "### The text classifier precision is slightly better for the word encoding"
   ]
  },
  {
   "cell_type": "code",
   "execution_count": 14,
   "metadata": {
    "ExecuteTime": {
     "end_time": "2020-11-02T15:50:20.832372Z",
     "start_time": "2020-11-02T15:49:50.638309Z"
    }
   },
   "outputs": [
    {
     "name": "stdout",
     "output_type": "stream",
     "text": [
      "setting dataset\n",
      "setting modalities\n",
      "setting model\n",
      "setting clfs\n",
      "setting rec_weights\n",
      "dict_keys(['real', 'random', '', 'PA', 'Lateral', 'text', 'Lateral_PA', 'PA_text', 'Lateral_text', 'Lateral_PA_text'])\n"
     ]
    },
    {
     "name": "stderr",
     "output_type": "stream",
     "text": [
      "/cluster/home/klugh/software/anaconda/envs/temp/lib/python3.8/site-packages/sklearn/metrics/_classification.py:1221: UndefinedMetricWarning: Precision and F-score are ill-defined and being set to 0.0 in labels with no predicted samples. Use `zero_division` parameter to control this behavior.\n",
      "  _warn_prf(average, modifier, msg_start, len(result))\n"
     ]
    },
    {
     "name": "stdout",
     "output_type": "stream",
     "text": [
      "mean precision for PA classifier:  0.2446067577642262\n",
      "mean precision for Lateral classifier:  0.23323758451007526\n",
      "mean precision for text classifier:  0.6411993650085026\n"
     ]
    }
   ],
   "source": [
    "results = test_clfs(FLAGS, 128, 'word', alphabet)\n",
    "for modality in results.keys():\n",
    "    print(f'mean precision for {modality} classifier: ', np.mean(results[modality]['list_precision_vals']))"
   ]
  },
  {
   "cell_type": "code",
   "execution_count": 15,
   "metadata": {
    "ExecuteTime": {
     "end_time": "2020-11-02T15:50:20.838114Z",
     "start_time": "2020-11-02T15:50:20.833946Z"
    },
    "pycharm": {
     "name": "#%%\n"
    }
   },
   "outputs": [
    {
     "name": "stdout",
     "output_type": "stream",
     "text": [
      "report PA: \n",
      "                   precision    recall  f1-score   support\n",
      "\n",
      "    Lung Opacity     0.0000    0.0000    0.0000        35\n",
      "            None     0.8100    1.0000    0.8950       243\n",
      "Pleural Effusion     0.0000    0.0000    0.0000        14\n",
      " Support Devices     0.0000    0.0000    0.0000         8\n",
      "\n",
      "        accuracy                         0.8100       300\n",
      "       macro avg     0.2025    0.2500    0.2238       300\n",
      "    weighted avg     0.6561    0.8100    0.7250       300\n",
      "\n",
      "report Lateral: \n",
      "                   precision    recall  f1-score   support\n",
      "\n",
      "    Lung Opacity     0.0000    0.0000    0.0000        35\n",
      "            None     0.8094    0.9959    0.8930       243\n",
      "Pleural Effusion     0.0000    0.0000    0.0000        14\n",
      " Support Devices     0.0000    0.0000    0.0000         8\n",
      "\n",
      "        accuracy                         0.8067       300\n",
      "       macro avg     0.2023    0.2490    0.2232       300\n",
      "    weighted avg     0.6556    0.8067    0.7233       300\n",
      "\n",
      "report text: \n",
      "                   precision    recall  f1-score   support\n",
      "\n",
      "    Lung Opacity     0.7500    0.0857    0.1538        35\n",
      "            None     0.8374    0.9959    0.9098       243\n",
      "Pleural Effusion     1.0000    0.5000    0.6667        14\n",
      " Support Devices     0.0000    0.0000    0.0000         8\n",
      "\n",
      "        accuracy                         0.8400       300\n",
      "       macro avg     0.6468    0.3954    0.4326       300\n",
      "    weighted avg     0.8124    0.8400    0.7860       300\n",
      "\n"
     ]
    }
   ],
   "source": [
    "for modality in results.keys():\n",
    "    print(f'report {modality}: \\n', results[modality]['report'])"
   ]
  },
  {
   "cell_type": "markdown",
   "metadata": {
    "ExecuteTime": {
     "end_time": "2020-11-02T15:29:28.359381Z",
     "start_time": "2020-11-02T15:29:14.280Z"
    },
    "pycharm": {
     "name": "#%%\n"
    }
   },
   "source": [
    "## Evaluation of image size 256\n"
   ]
  },
  {
   "cell_type": "code",
   "execution_count": 16,
   "metadata": {
    "ExecuteTime": {
     "end_time": "2020-11-02T15:51:41.640243Z",
     "start_time": "2020-11-02T15:50:20.839741Z"
    }
   },
   "outputs": [
    {
     "name": "stdout",
     "output_type": "stream",
     "text": [
      "setting dataset\n",
      "setting modalities\n",
      "setting model\n",
      "setting clfs\n",
      "setting rec_weights\n",
      "dict_keys(['real', 'random', '', 'PA', 'Lateral', 'text', 'Lateral_PA', 'PA_text', 'Lateral_text', 'Lateral_PA_text'])\n"
     ]
    }
   ],
   "source": [
    "import numpy as np\n",
    "\n",
    "from mimic.dataio.MimicDataset import Mimic\n",
    "from mimic.utils.experiment import MimicExperiment\n",
    "FLAGS.text_encoding = 'char'\n",
    "FLAGS.img_size = 256\n",
    "mimic_experiment = MimicExperiment(flags=FLAGS, alphabet=alphabet)\n",
    "mimic_test = Mimic(FLAGS, mimic_experiment.labels, alphabet, split='eval')"
   ]
  },
  {
   "cell_type": "code",
   "execution_count": 17,
   "metadata": {
    "ExecuteTime": {
     "end_time": "2020-11-02T15:51:46.091012Z",
     "start_time": "2020-11-02T15:51:41.643139Z"
    },
    "pycharm": {
     "name": "#%%\n"
    }
   },
   "outputs": [
    {
     "name": "stderr",
     "output_type": "stream",
     "text": [
      "/cluster/home/klugh/software/anaconda/envs/temp/lib/python3.8/site-packages/sklearn/metrics/_classification.py:1221: UndefinedMetricWarning: Precision and F-score are ill-defined and being set to 0.0 in labels with no predicted samples. Use `zero_division` parameter to control this behavior.\n",
      "  _warn_prf(average, modifier, msg_start, len(result))\n"
     ]
    },
    {
     "name": "stdout",
     "output_type": "stream",
     "text": [
      "mean precision for pa classifier:  0.17677301569999543\n",
      "mean precision for lat classifier:  0.24670747654542155\n",
      "mean precision for text classifier:  0.5451405516018211\n",
      "report pa:                    precision    recall  f1-score   support\n",
      "\n",
      "    Lung Opacity     0.0000    0.0000    0.0000        36\n",
      "            None     0.8233    1.0000    0.9031       247\n",
      "Pleural Effusion     0.0000    0.0000    0.0000        11\n",
      " Support Devices     0.0000    0.0000    0.0000         6\n",
      "\n",
      "        accuracy                         0.8233       300\n",
      "       macro avg     0.2058    0.2500    0.2258       300\n",
      "    weighted avg     0.6779    0.8233    0.7436       300\n",
      "\n",
      "report lat:                    precision    recall  f1-score   support\n",
      "\n",
      "    Lung Opacity     0.0000    0.0000    0.0000        32\n",
      "            None     0.8200    1.0000    0.9011       246\n",
      "Pleural Effusion     0.0000    0.0000    0.0000        17\n",
      " Support Devices     0.0000    0.0000    0.0000         5\n",
      "\n",
      "        accuracy                         0.8200       300\n",
      "       macro avg     0.2050    0.2500    0.2253       300\n",
      "    weighted avg     0.6724    0.8200    0.7389       300\n",
      "\n",
      "report text:                    precision    recall  f1-score   support\n",
      "\n",
      "    Lung Opacity     0.5000    0.1111    0.1818        27\n",
      "            None     0.8685    0.9882    0.9245       254\n",
      "Pleural Effusion     1.0000    0.3333    0.5000        15\n",
      " Support Devices     0.0000    0.0000    0.0000         4\n",
      "\n",
      "        accuracy                         0.8633       300\n",
      "       macro avg     0.5921    0.3582    0.4016       300\n",
      "    weighted avg     0.8303    0.8633    0.8241       300\n",
      "\n"
     ]
    }
   ],
   "source": [
    "report_pa, list_precision_pa = test_clf(FLAGS, mimic_experiment, mimic_test, 'PA')\n",
    "report_lat, list_precision_lat = test_clf(FLAGS, mimic_experiment, mimic_test, 'Lateral')\n",
    "report_text, list_precision_text = test_clf(FLAGS, mimic_experiment, mimic_test, 'text')\n",
    "print('mean precision for pa classifier: ',np.mean(list_precision_pa))\n",
    "print('mean precision for lat classifier: ',np.mean(list_precision_lat))\n",
    "print('mean precision for text classifier: ',np.mean(list_precision_text))\n",
    "print('report pa: ', report_pa)\n",
    "print('report lat: ', report_lat)\n",
    "print('report text: ', report_text)"
   ]
  },
  {
   "cell_type": "code",
   "execution_count": null,
   "metadata": {},
   "outputs": [],
   "source": []
  }
 ],
 "metadata": {
  "kernelspec": {
   "display_name": "Python 3",
   "language": "python",
   "name": "python3"
  },
  "language_info": {
   "codemirror_mode": {
    "name": "ipython",
    "version": 3
   },
   "file_extension": ".py",
   "mimetype": "text/x-python",
   "name": "python",
   "nbconvert_exporter": "python",
   "pygments_lexer": "ipython3",
   "version": "3.8.5"
  }
 },
 "nbformat": 4,
 "nbformat_minor": 1
}
