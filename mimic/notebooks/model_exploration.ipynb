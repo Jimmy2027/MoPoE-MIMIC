{
 "cells": [
  {
   "cell_type": "code",
   "execution_count": 1,
   "metadata": {
    "ExecuteTime": {
     "end_time": "2020-10-15T10:03:54.780933Z",
     "start_time": "2020-10-15T10:03:54.774866Z"
    }
   },
   "outputs": [],
   "source": [
    "import os"
   ]
  },
  {
   "cell_type": "code",
   "execution_count": 2,
   "metadata": {
    "ExecuteTime": {
     "end_time": "2020-10-15T10:03:55.170245Z",
     "start_time": "2020-10-15T10:03:55.153047Z"
    }
   },
   "outputs": [
    {
     "data": {
      "text/plain": [
       "'/cluster/home/klugh/joint_elbo/mimic'"
      ]
     },
     "execution_count": 2,
     "metadata": {},
     "output_type": "execute_result"
    }
   ],
   "source": [
    "os.getcwd()"
   ]
  },
  {
   "cell_type": "code",
   "execution_count": 3,
   "metadata": {
    "ExecuteTime": {
     "end_time": "2020-10-15T10:11:49.564072Z",
     "start_time": "2020-10-15T10:11:49.553945Z"
    }
   },
   "outputs": [
    {
     "name": "stdout",
     "output_type": "stream",
     "text": [
      "/cluster/home/klugh/joint_elbo\n"
     ]
    }
   ],
   "source": [
    "%cd .."
   ]
  },
  {
   "cell_type": "code",
   "execution_count": 4,
   "metadata": {
    "ExecuteTime": {
     "end_time": "2020-10-15T10:11:52.180593Z",
     "start_time": "2020-10-15T10:11:50.705724Z"
    }
   },
   "outputs": [],
   "source": [
    "import json\n",
    "import os\n",
    "from pathlib import Path\n",
    "\n",
    "import torch\n",
    "\n",
    "from mimic.experiment import MimicExperiment\n",
    "from mimic.utils.filehandling import set_paths"
   ]
  },
  {
   "cell_type": "code",
   "execution_count": 5,
   "metadata": {
    "ExecuteTime": {
     "end_time": "2020-10-15T10:11:52.186665Z",
     "start_time": "2020-10-15T10:11:52.182554Z"
    },
    "pycharm": {
     "name": "#%%\n"
    }
   },
   "outputs": [],
   "source": [
    "from PIL import ImageFont\n",
    "try:\n",
    "    font = ImageFont.truetype('FreeSerif.ttf', 38)\n",
    "except:\n",
    "    font = ImageFont.truetype('/Library/Fonts/Arial.ttf', 38)"
   ]
  },
  {
   "cell_type": "code",
   "execution_count": 8,
   "metadata": {
    "ExecuteTime": {
     "end_time": "2020-10-15T10:13:18.508908Z",
     "start_time": "2020-10-15T10:13:18.495660Z"
    },
    "pycharm": {
     "name": "#%%\n"
    }
   },
   "outputs": [
    {
     "name": "stdout",
     "output_type": "stream",
     "text": [
      "True\n"
     ]
    }
   ],
   "source": [
    "flags_path = os.path.expanduser('~/scratch/mimic/moe/non_factorized/Mimic_2020_10_12_13_46_44_150916/flags.rar')\n",
    "FLAGS = torch.load(flags_path)\n",
    "\n",
    "FLAGS = set_paths(FLAGS)\n",
    "FLAGS.device = torch.device('cuda' if torch.cuda.is_available() else 'cpu')\n",
    "pr\n",
    "alphabet_path = os.path.join(str(Path(os.getcwd())), 'alphabet.json')\n",
    "with open(alphabet_path) as alphabet_file:\n",
    "    alphabet = str(''.join(json.load(alphabet_file)))\n",
    "path =os.path.expanduser('~/scratch/mimic/moe/non_factorized/Mimic_2020_10_12_13_46_44_150916/checkpoints/0239/mm_vae')\n",
    "print(os.path.exists(path))"
   ]
  },
  {
   "cell_type": "code",
   "execution_count": 9,
   "metadata": {
    "ExecuteTime": {
     "end_time": "2020-10-15T10:13:22.696626Z",
     "start_time": "2020-10-15T10:13:22.691751Z"
    },
    "pycharm": {
     "name": "#%%\n"
    }
   },
   "outputs": [
    {
     "name": "stdout",
     "output_type": "stream",
     "text": [
      "/cluster/home/klugh/scratch\n"
     ]
    }
   ],
   "source": [
    "print(FLAGS.dir_data)"
   ]
  },
  {
   "cell_type": "code",
   "execution_count": null,
   "metadata": {
    "ExecuteTime": {
     "start_time": "2020-10-15T10:13:23.399Z"
    },
    "pycharm": {
     "name": "#%%\n"
    }
   },
   "outputs": [
    {
     "name": "stdout",
     "output_type": "stream",
     "text": [
      "setting modalities\n"
     ]
    }
   ],
   "source": [
    "mimic = MimicExperiment(flags=FLAGS, alphabet=alphabet, font = font)"
   ]
  },
  {
   "cell_type": "code",
   "execution_count": null,
   "metadata": {
    "ExecuteTime": {
     "start_time": "2020-10-15T10:13:27.655Z"
    },
    "pycharm": {
     "name": "#%%\n"
    }
   },
   "outputs": [],
   "source": [
    "model = mimic.mm_vae.load_state_dict(torch.load(path, map_location=FLAGS.device))"
   ]
  },
  {
   "cell_type": "code",
   "execution_count": null,
   "metadata": {
    "ExecuteTime": {
     "start_time": "2020-10-15T10:13:28.256Z"
    },
    "pycharm": {
     "name": "#%%\n"
    }
   },
   "outputs": [],
   "source": [
    "random_samples = model.generate(5)\n"
   ]
  },
  {
   "cell_type": "code",
   "execution_count": null,
   "metadata": {
    "pycharm": {
     "name": "#%%\n"
    }
   },
   "outputs": [],
   "source": []
  }
 ],
 "metadata": {
  "kernelspec": {
   "display_name": "Python 3",
   "language": "python",
   "name": "python3"
  },
  "language_info": {
   "codemirror_mode": {
    "name": "ipython",
    "version": 3
   },
   "file_extension": ".py",
   "mimetype": "text/x-python",
   "name": "python",
   "nbconvert_exporter": "python",
   "pygments_lexer": "ipython3",
   "version": "3.7.3"
  }
 },
 "nbformat": 4,
 "nbformat_minor": 1
}
