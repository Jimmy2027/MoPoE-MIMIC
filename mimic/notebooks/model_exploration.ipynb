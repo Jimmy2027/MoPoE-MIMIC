{
 "cells": [
  {
   "cell_type": "code",
   "execution_count": 1,
   "metadata": {
    "ExecuteTime": {
     "end_time": "2020-10-27T08:41:42.455407Z",
     "start_time": "2020-10-27T08:41:42.449985Z"
    }
   },
   "outputs": [],
   "source": [
    "import os"
   ]
  },
  {
   "cell_type": "code",
   "execution_count": 2,
   "metadata": {
    "ExecuteTime": {
     "end_time": "2020-10-27T08:41:43.017611Z",
     "start_time": "2020-10-27T08:41:42.993998Z"
    }
   },
   "outputs": [
    {
     "data": {
      "text/plain": [
       "'/cluster/home/klugh/MIMIC/mimic/notebooks'"
      ]
     },
     "execution_count": 2,
     "metadata": {},
     "output_type": "execute_result"
    }
   ],
   "source": [
    "os.getcwd()"
   ]
  },
  {
   "cell_type": "code",
   "execution_count": 3,
   "metadata": {
    "ExecuteTime": {
     "end_time": "2020-10-27T08:41:47.773640Z",
     "start_time": "2020-10-27T08:41:47.765088Z"
    }
   },
   "outputs": [
    {
     "name": "stdout",
     "output_type": "stream",
     "text": [
      "/cluster/home/klugh/MIMIC/mimic\n"
     ]
    }
   ],
   "source": [
    "%cd .."
   ]
  },
  {
   "cell_type": "code",
   "execution_count": 4,
   "metadata": {
    "ExecuteTime": {
     "end_time": "2020-10-27T08:41:52.272141Z",
     "start_time": "2020-10-27T08:41:49.616752Z"
    }
   },
   "outputs": [],
   "source": [
    "import json\n",
    "import os\n",
    "from pathlib import Path\n",
    "\n",
    "import torch\n",
    "\n",
    "from mimic.utils.experiment import MimicExperiment\n",
    "from mimic.utils.filehandling import set_paths\n",
    "from mimic.networks.VAEtrimodalMimic import VAEtrimodalMimic\n",
    "from mimic.utils import plot"
   ]
  },
  {
   "cell_type": "code",
   "execution_count": 5,
   "metadata": {
    "ExecuteTime": {
     "end_time": "2020-10-27T08:41:52.403121Z",
     "start_time": "2020-10-27T08:41:52.394144Z"
    },
    "pycharm": {
     "name": "#%%\n"
    }
   },
   "outputs": [],
   "source": [
    "from PIL import ImageFont\n",
    "try:\n",
    "    font = ImageFont.truetype('FreeSerif.ttf', 38)\n",
    "except:\n",
    "    font = ImageFont.truetype('/Library/Fonts/Arial.ttf', 38)"
   ]
  },
  {
   "cell_type": "code",
   "execution_count": 6,
   "metadata": {
    "ExecuteTime": {
     "end_time": "2020-10-27T08:41:52.900974Z",
     "start_time": "2020-10-27T08:41:52.511953Z"
    },
    "pycharm": {
     "name": "#%%\n"
    }
   },
   "outputs": [
    {
     "name": "stdout",
     "output_type": "stream",
     "text": [
      "True\n"
     ]
    }
   ],
   "source": [
    "flags_path = os.path.expanduser('~/klugh/mimic/moe/non_factorized/Mimic_2020_10_23_13_17_46_515651/flags.rar')\n",
    "FLAGS = torch.load(flags_path)\n",
    "\n",
    "FLAGS = set_paths(FLAGS)\n",
    "FLAGS.device = torch.device('cuda' if torch.cuda.is_available() else 'cpu')\n",
    "\n",
    "alphabet_path = os.path.join(str(Path(os.getcwd())), 'alphabet.json')\n",
    "with open(alphabet_path) as alphabet_file:\n",
    "    alphabet = str(''.join(json.load(alphabet_file)))\n",
    "path =os.path.expanduser('~/klugh/mimic/moe/non_factorized/Mimic_2020_10_23_13_17_46_515651/checkpoints/0299/mm_vae')\n",
    "print(os.path.exists(path))"
   ]
  },
  {
   "cell_type": "code",
   "execution_count": 7,
   "metadata": {
    "ExecuteTime": {
     "end_time": "2020-10-27T08:41:52.906459Z",
     "start_time": "2020-10-27T08:41:52.902670Z"
    },
    "pycharm": {
     "name": "#%%\n"
    }
   },
   "outputs": [
    {
     "name": "stdout",
     "output_type": "stream",
     "text": [
      "/cluster/home/klugh/scratch\n"
     ]
    }
   ],
   "source": [
    "print(FLAGS.dir_data)\n",
    "FLAGS.dir_data = os.path.expanduser('~/klugh')\n",
    "FLAGS.dir_clf=os.path.expanduser('~/klugh/mimic/trained_classifiers/Mimic128')"
   ]
  },
  {
   "cell_type": "code",
   "execution_count": 8,
   "metadata": {
    "ExecuteTime": {
     "end_time": "2020-10-27T08:42:23.900102Z",
     "start_time": "2020-10-27T08:41:53.058164Z"
    },
    "pycharm": {
     "name": "#%%\n"
    }
   },
   "outputs": [
    {
     "name": "stdout",
     "output_type": "stream",
     "text": [
      "setting dataset\n",
      "setting modalities\n",
      "setting model\n",
      "setting clfs\n",
      "setting rec_weights\n",
      "dict_keys(['real', 'random', '', 'PA', 'Lateral', 'text', 'Lateral_PA', 'PA_text', 'Lateral_text', 'Lateral_PA_text'])\n"
     ]
    }
   ],
   "source": [
    "mimic_experiment = MimicExperiment(flags=FLAGS, alphabet=alphabet, font = font)\n"
   ]
  },
  {
   "cell_type": "code",
   "execution_count": 9,
   "metadata": {
    "ExecuteTime": {
     "end_time": "2020-10-27T08:42:23.917226Z",
     "start_time": "2020-10-27T08:42:23.901956Z"
    }
   },
   "outputs": [
    {
     "data": {
      "text/plain": [
       "VAEtrimodalMimic(\n",
       "  (encoder_pa): EncoderImg(\n",
       "    (feature_extractor): FeatureExtractorImg(\n",
       "      (extractor): Sequential(\n",
       "        (0): Conv2d(1, 64, kernel_size=(3, 3), stride=(2, 2), padding=(1, 1), bias=False)\n",
       "        (1): Sequential(\n",
       "          (0): ResidualBlock2dConv(\n",
       "            (conv1): Conv2d(64, 64, kernel_size=(1, 1), stride=(1, 1), bias=False)\n",
       "            (dropout1): Dropout2d(p=0.5, inplace=False)\n",
       "            (bn1): BatchNorm2d(64, eps=1e-05, momentum=0.1, affine=True, track_running_stats=True)\n",
       "            (relu): ReLU(inplace=True)\n",
       "            (bn2): BatchNorm2d(64, eps=1e-05, momentum=0.1, affine=True, track_running_stats=True)\n",
       "            (conv2): Conv2d(64, 128, kernel_size=(4, 4), stride=(2, 2), padding=(1, 1), bias=False)\n",
       "            (dropout2): Dropout2d(p=0.5, inplace=False)\n",
       "            (downsample): Sequential(\n",
       "              (0): Conv2d(64, 128, kernel_size=(4, 4), stride=(2, 2), padding=(1, 1))\n",
       "              (1): BatchNorm2d(128, eps=1e-05, momentum=0.1, affine=True, track_running_stats=True)\n",
       "            )\n",
       "          )\n",
       "        )\n",
       "        (2): Sequential(\n",
       "          (0): ResidualBlock2dConv(\n",
       "            (conv1): Conv2d(128, 128, kernel_size=(1, 1), stride=(1, 1), bias=False)\n",
       "            (dropout1): Dropout2d(p=0.5, inplace=False)\n",
       "            (bn1): BatchNorm2d(128, eps=1e-05, momentum=0.1, affine=True, track_running_stats=True)\n",
       "            (relu): ReLU(inplace=True)\n",
       "            (bn2): BatchNorm2d(128, eps=1e-05, momentum=0.1, affine=True, track_running_stats=True)\n",
       "            (conv2): Conv2d(128, 192, kernel_size=(4, 4), stride=(2, 2), padding=(1, 1), bias=False)\n",
       "            (dropout2): Dropout2d(p=0.5, inplace=False)\n",
       "            (downsample): Sequential(\n",
       "              (0): Conv2d(128, 192, kernel_size=(4, 4), stride=(2, 2), padding=(1, 1))\n",
       "              (1): BatchNorm2d(192, eps=1e-05, momentum=0.1, affine=True, track_running_stats=True)\n",
       "            )\n",
       "          )\n",
       "        )\n",
       "        (3): Sequential(\n",
       "          (0): ResidualBlock2dConv(\n",
       "            (conv1): Conv2d(192, 192, kernel_size=(1, 1), stride=(1, 1), bias=False)\n",
       "            (dropout1): Dropout2d(p=0.5, inplace=False)\n",
       "            (bn1): BatchNorm2d(192, eps=1e-05, momentum=0.1, affine=True, track_running_stats=True)\n",
       "            (relu): ReLU(inplace=True)\n",
       "            (bn2): BatchNorm2d(192, eps=1e-05, momentum=0.1, affine=True, track_running_stats=True)\n",
       "            (conv2): Conv2d(192, 256, kernel_size=(4, 4), stride=(2, 2), padding=(1, 1), bias=False)\n",
       "            (dropout2): Dropout2d(p=0.5, inplace=False)\n",
       "            (downsample): Sequential(\n",
       "              (0): Conv2d(192, 256, kernel_size=(4, 4), stride=(2, 2), padding=(1, 1))\n",
       "              (1): BatchNorm2d(256, eps=1e-05, momentum=0.1, affine=True, track_running_stats=True)\n",
       "            )\n",
       "          )\n",
       "        )\n",
       "        (4): Sequential(\n",
       "          (0): ResidualBlock2dConv(\n",
       "            (conv1): Conv2d(256, 256, kernel_size=(1, 1), stride=(1, 1), bias=False)\n",
       "            (dropout1): Dropout2d(p=0.5, inplace=False)\n",
       "            (bn1): BatchNorm2d(256, eps=1e-05, momentum=0.1, affine=True, track_running_stats=True)\n",
       "            (relu): ReLU(inplace=True)\n",
       "            (bn2): BatchNorm2d(256, eps=1e-05, momentum=0.1, affine=True, track_running_stats=True)\n",
       "            (conv2): Conv2d(256, 320, kernel_size=(4, 4), stride=(2, 2), padding=(1, 1), bias=False)\n",
       "            (dropout2): Dropout2d(p=0.5, inplace=False)\n",
       "            (downsample): Sequential(\n",
       "              (0): Conv2d(256, 320, kernel_size=(4, 4), stride=(2, 2), padding=(1, 1))\n",
       "              (1): BatchNorm2d(320, eps=1e-05, momentum=0.1, affine=True, track_running_stats=True)\n",
       "            )\n",
       "          )\n",
       "        )\n",
       "        (5): Sequential(\n",
       "          (0): ResidualBlock2dConv(\n",
       "            (conv1): Conv2d(320, 320, kernel_size=(1, 1), stride=(1, 1), bias=False)\n",
       "            (dropout1): Dropout2d(p=0.5, inplace=False)\n",
       "            (bn1): BatchNorm2d(320, eps=1e-05, momentum=0.1, affine=True, track_running_stats=True)\n",
       "            (relu): ReLU(inplace=True)\n",
       "            (bn2): BatchNorm2d(320, eps=1e-05, momentum=0.1, affine=True, track_running_stats=True)\n",
       "            (conv2): Conv2d(320, 320, kernel_size=(4, 4), stride=(2, 2), bias=False)\n",
       "            (dropout2): Dropout2d(p=0.5, inplace=False)\n",
       "            (downsample): Sequential(\n",
       "              (0): Conv2d(320, 320, kernel_size=(4, 4), stride=(2, 2))\n",
       "              (1): BatchNorm2d(320, eps=1e-05, momentum=0.1, affine=True, track_running_stats=True)\n",
       "            )\n",
       "          )\n",
       "        )\n",
       "      )\n",
       "    )\n",
       "    (feature_compressor): LinearFeatureCompressor(\n",
       "      (content_mu): Linear(in_features=320, out_features=64, bias=True)\n",
       "      (content_logvar): Linear(in_features=320, out_features=64, bias=True)\n",
       "    )\n",
       "  )\n",
       "  (encoder_lat): EncoderImg(\n",
       "    (feature_extractor): FeatureExtractorImg(\n",
       "      (extractor): Sequential(\n",
       "        (0): Conv2d(1, 64, kernel_size=(3, 3), stride=(2, 2), padding=(1, 1), bias=False)\n",
       "        (1): Sequential(\n",
       "          (0): ResidualBlock2dConv(\n",
       "            (conv1): Conv2d(64, 64, kernel_size=(1, 1), stride=(1, 1), bias=False)\n",
       "            (dropout1): Dropout2d(p=0.5, inplace=False)\n",
       "            (bn1): BatchNorm2d(64, eps=1e-05, momentum=0.1, affine=True, track_running_stats=True)\n",
       "            (relu): ReLU(inplace=True)\n",
       "            (bn2): BatchNorm2d(64, eps=1e-05, momentum=0.1, affine=True, track_running_stats=True)\n",
       "            (conv2): Conv2d(64, 128, kernel_size=(4, 4), stride=(2, 2), padding=(1, 1), bias=False)\n",
       "            (dropout2): Dropout2d(p=0.5, inplace=False)\n",
       "            (downsample): Sequential(\n",
       "              (0): Conv2d(64, 128, kernel_size=(4, 4), stride=(2, 2), padding=(1, 1))\n",
       "              (1): BatchNorm2d(128, eps=1e-05, momentum=0.1, affine=True, track_running_stats=True)\n",
       "            )\n",
       "          )\n",
       "        )\n",
       "        (2): Sequential(\n",
       "          (0): ResidualBlock2dConv(\n",
       "            (conv1): Conv2d(128, 128, kernel_size=(1, 1), stride=(1, 1), bias=False)\n",
       "            (dropout1): Dropout2d(p=0.5, inplace=False)\n",
       "            (bn1): BatchNorm2d(128, eps=1e-05, momentum=0.1, affine=True, track_running_stats=True)\n",
       "            (relu): ReLU(inplace=True)\n",
       "            (bn2): BatchNorm2d(128, eps=1e-05, momentum=0.1, affine=True, track_running_stats=True)\n",
       "            (conv2): Conv2d(128, 192, kernel_size=(4, 4), stride=(2, 2), padding=(1, 1), bias=False)\n",
       "            (dropout2): Dropout2d(p=0.5, inplace=False)\n",
       "            (downsample): Sequential(\n",
       "              (0): Conv2d(128, 192, kernel_size=(4, 4), stride=(2, 2), padding=(1, 1))\n",
       "              (1): BatchNorm2d(192, eps=1e-05, momentum=0.1, affine=True, track_running_stats=True)\n",
       "            )\n",
       "          )\n",
       "        )\n",
       "        (3): Sequential(\n",
       "          (0): ResidualBlock2dConv(\n",
       "            (conv1): Conv2d(192, 192, kernel_size=(1, 1), stride=(1, 1), bias=False)\n",
       "            (dropout1): Dropout2d(p=0.5, inplace=False)\n",
       "            (bn1): BatchNorm2d(192, eps=1e-05, momentum=0.1, affine=True, track_running_stats=True)\n",
       "            (relu): ReLU(inplace=True)\n",
       "            (bn2): BatchNorm2d(192, eps=1e-05, momentum=0.1, affine=True, track_running_stats=True)\n",
       "            (conv2): Conv2d(192, 256, kernel_size=(4, 4), stride=(2, 2), padding=(1, 1), bias=False)\n",
       "            (dropout2): Dropout2d(p=0.5, inplace=False)\n",
       "            (downsample): Sequential(\n",
       "              (0): Conv2d(192, 256, kernel_size=(4, 4), stride=(2, 2), padding=(1, 1))\n",
       "              (1): BatchNorm2d(256, eps=1e-05, momentum=0.1, affine=True, track_running_stats=True)\n",
       "            )\n",
       "          )\n",
       "        )\n",
       "        (4): Sequential(\n",
       "          (0): ResidualBlock2dConv(\n",
       "            (conv1): Conv2d(256, 256, kernel_size=(1, 1), stride=(1, 1), bias=False)\n",
       "            (dropout1): Dropout2d(p=0.5, inplace=False)\n",
       "            (bn1): BatchNorm2d(256, eps=1e-05, momentum=0.1, affine=True, track_running_stats=True)\n",
       "            (relu): ReLU(inplace=True)\n",
       "            (bn2): BatchNorm2d(256, eps=1e-05, momentum=0.1, affine=True, track_running_stats=True)\n",
       "            (conv2): Conv2d(256, 320, kernel_size=(4, 4), stride=(2, 2), padding=(1, 1), bias=False)\n",
       "            (dropout2): Dropout2d(p=0.5, inplace=False)\n",
       "            (downsample): Sequential(\n",
       "              (0): Conv2d(256, 320, kernel_size=(4, 4), stride=(2, 2), padding=(1, 1))\n",
       "              (1): BatchNorm2d(320, eps=1e-05, momentum=0.1, affine=True, track_running_stats=True)\n",
       "            )\n",
       "          )\n",
       "        )\n",
       "        (5): Sequential(\n",
       "          (0): ResidualBlock2dConv(\n",
       "            (conv1): Conv2d(320, 320, kernel_size=(1, 1), stride=(1, 1), bias=False)\n",
       "            (dropout1): Dropout2d(p=0.5, inplace=False)\n",
       "            (bn1): BatchNorm2d(320, eps=1e-05, momentum=0.1, affine=True, track_running_stats=True)\n",
       "            (relu): ReLU(inplace=True)\n",
       "            (bn2): BatchNorm2d(320, eps=1e-05, momentum=0.1, affine=True, track_running_stats=True)\n",
       "            (conv2): Conv2d(320, 320, kernel_size=(4, 4), stride=(2, 2), bias=False)\n",
       "            (dropout2): Dropout2d(p=0.5, inplace=False)\n",
       "            (downsample): Sequential(\n",
       "              (0): Conv2d(320, 320, kernel_size=(4, 4), stride=(2, 2))\n",
       "              (1): BatchNorm2d(320, eps=1e-05, momentum=0.1, affine=True, track_running_stats=True)\n",
       "            )\n",
       "          )\n",
       "        )\n",
       "      )\n",
       "    )\n",
       "    (feature_compressor): LinearFeatureCompressor(\n",
       "      (content_mu): Linear(in_features=320, out_features=64, bias=True)\n",
       "      (content_logvar): Linear(in_features=320, out_features=64, bias=True)\n",
       "    )\n",
       "  )\n",
       "  (encoder_text): EncoderText(\n",
       "    (feature_extractor): FeatureExtractorText(\n",
       "      (conv1): Conv1d(71, 128, kernel_size=(4,), stride=(2,), padding=(1,))\n",
       "      (resblock_1): Sequential(\n",
       "        (0): ResidualBlock1dConv(\n",
       "          (bn1): BatchNorm1d(128, eps=1e-05, momentum=0.1, affine=True, track_running_stats=True)\n",
       "          (conv1): Conv1d(128, 128, kernel_size=(1,), stride=(1,))\n",
       "          (dropout1): Dropout(p=0.5, inplace=False)\n",
       "          (relu): ReLU(inplace=True)\n",
       "          (bn2): BatchNorm1d(128, eps=1e-05, momentum=0.1, affine=True, track_running_stats=True)\n",
       "          (conv2): Conv1d(128, 256, kernel_size=(4,), stride=(2,), padding=(1,))\n",
       "          (dropout2): Dropout(p=0.5, inplace=False)\n",
       "          (downsample): Sequential(\n",
       "            (0): Conv1d(128, 256, kernel_size=(4,), stride=(2,), padding=(1,))\n",
       "            (1): BatchNorm1d(256, eps=1e-05, momentum=0.1, affine=True, track_running_stats=True)\n",
       "          )\n",
       "        )\n",
       "      )\n",
       "      (resblock_2): Sequential(\n",
       "        (0): ResidualBlock1dConv(\n",
       "          (bn1): BatchNorm1d(256, eps=1e-05, momentum=0.1, affine=True, track_running_stats=True)\n",
       "          (conv1): Conv1d(256, 256, kernel_size=(1,), stride=(1,))\n",
       "          (dropout1): Dropout(p=0.5, inplace=False)\n",
       "          (relu): ReLU(inplace=True)\n",
       "          (bn2): BatchNorm1d(256, eps=1e-05, momentum=0.1, affine=True, track_running_stats=True)\n",
       "          (conv2): Conv1d(256, 384, kernel_size=(4,), stride=(2,), padding=(1,))\n",
       "          (dropout2): Dropout(p=0.5, inplace=False)\n",
       "          (downsample): Sequential(\n",
       "            (0): Conv1d(256, 384, kernel_size=(4,), stride=(2,), padding=(1,))\n",
       "            (1): BatchNorm1d(384, eps=1e-05, momentum=0.1, affine=True, track_running_stats=True)\n",
       "          )\n",
       "        )\n",
       "      )\n",
       "      (resblock_3): Sequential(\n",
       "        (0): ResidualBlock1dConv(\n",
       "          (bn1): BatchNorm1d(384, eps=1e-05, momentum=0.1, affine=True, track_running_stats=True)\n",
       "          (conv1): Conv1d(384, 384, kernel_size=(1,), stride=(1,))\n",
       "          (dropout1): Dropout(p=0.5, inplace=False)\n",
       "          (relu): ReLU(inplace=True)\n",
       "          (bn2): BatchNorm1d(384, eps=1e-05, momentum=0.1, affine=True, track_running_stats=True)\n",
       "          (conv2): Conv1d(384, 512, kernel_size=(4,), stride=(2,), padding=(1,))\n",
       "          (dropout2): Dropout(p=0.5, inplace=False)\n",
       "          (downsample): Sequential(\n",
       "            (0): Conv1d(384, 512, kernel_size=(4,), stride=(2,), padding=(1,))\n",
       "            (1): BatchNorm1d(512, eps=1e-05, momentum=0.1, affine=True, track_running_stats=True)\n",
       "          )\n",
       "        )\n",
       "      )\n",
       "      (resblock_4): Sequential(\n",
       "        (0): ResidualBlock1dConv(\n",
       "          (bn1): BatchNorm1d(512, eps=1e-05, momentum=0.1, affine=True, track_running_stats=True)\n",
       "          (conv1): Conv1d(512, 512, kernel_size=(1,), stride=(1,))\n",
       "          (dropout1): Dropout(p=0.5, inplace=False)\n",
       "          (relu): ReLU(inplace=True)\n",
       "          (bn2): BatchNorm1d(512, eps=1e-05, momentum=0.1, affine=True, track_running_stats=True)\n",
       "          (conv2): Conv1d(512, 512, kernel_size=(4,), stride=(2,), padding=(1,))\n",
       "          (dropout2): Dropout(p=0.5, inplace=False)\n",
       "          (downsample): Sequential(\n",
       "            (0): Conv1d(512, 512, kernel_size=(4,), stride=(2,), padding=(1,))\n",
       "            (1): BatchNorm1d(512, eps=1e-05, momentum=0.1, affine=True, track_running_stats=True)\n",
       "          )\n",
       "        )\n",
       "      )\n",
       "      (resblock_5): Sequential(\n",
       "        (0): ResidualBlock1dConv(\n",
       "          (bn1): BatchNorm1d(512, eps=1e-05, momentum=0.1, affine=True, track_running_stats=True)\n",
       "          (conv1): Conv1d(512, 512, kernel_size=(1,), stride=(1,))\n",
       "          (dropout1): Dropout(p=0.5, inplace=False)\n",
       "          (relu): ReLU(inplace=True)\n",
       "          (bn2): BatchNorm1d(512, eps=1e-05, momentum=0.1, affine=True, track_running_stats=True)\n",
       "          (conv2): Conv1d(512, 512, kernel_size=(4,), stride=(2,), padding=(1,))\n",
       "          (dropout2): Dropout(p=0.5, inplace=False)\n",
       "          (downsample): Sequential(\n",
       "            (0): Conv1d(512, 512, kernel_size=(4,), stride=(2,), padding=(1,))\n",
       "            (1): BatchNorm1d(512, eps=1e-05, momentum=0.1, affine=True, track_running_stats=True)\n",
       "          )\n",
       "        )\n",
       "      )\n",
       "      (resblock_6): Sequential(\n",
       "        (0): ResidualBlock1dConv(\n",
       "          (bn1): BatchNorm1d(512, eps=1e-05, momentum=0.1, affine=True, track_running_stats=True)\n",
       "          (conv1): Conv1d(512, 512, kernel_size=(1,), stride=(1,))\n",
       "          (dropout1): Dropout(p=0.5, inplace=False)\n",
       "          (relu): ReLU(inplace=True)\n",
       "          (bn2): BatchNorm1d(512, eps=1e-05, momentum=0.1, affine=True, track_running_stats=True)\n",
       "          (conv2): Conv1d(512, 640, kernel_size=(4,), stride=(2,), padding=(1,))\n",
       "          (dropout2): Dropout(p=0.5, inplace=False)\n",
       "          (downsample): Sequential(\n",
       "            (0): Conv1d(512, 640, kernel_size=(4,), stride=(2,), padding=(1,))\n",
       "            (1): BatchNorm1d(640, eps=1e-05, momentum=0.1, affine=True, track_running_stats=True)\n",
       "          )\n",
       "        )\n",
       "      )\n",
       "      (resblock_7): Sequential(\n",
       "        (0): ResidualBlock1dConv(\n",
       "          (bn1): BatchNorm1d(640, eps=1e-05, momentum=0.1, affine=True, track_running_stats=True)\n",
       "          (conv1): Conv1d(640, 640, kernel_size=(1,), stride=(1,))\n",
       "          (dropout1): Dropout(p=0.5, inplace=False)\n",
       "          (relu): ReLU(inplace=True)\n",
       "          (bn2): BatchNorm1d(640, eps=1e-05, momentum=0.1, affine=True, track_running_stats=True)\n",
       "          (conv2): Conv1d(640, 640, kernel_size=(4,), stride=(2,), padding=(1,))\n",
       "          (dropout2): Dropout(p=0.5, inplace=False)\n",
       "          (downsample): Sequential(\n",
       "            (0): Conv1d(640, 640, kernel_size=(4,), stride=(2,), padding=(1,))\n",
       "            (1): BatchNorm1d(640, eps=1e-05, momentum=0.1, affine=True, track_running_stats=True)\n",
       "          )\n",
       "        )\n",
       "      )\n",
       "      (resblock_8): Sequential(\n",
       "        (0): ResidualBlock1dConv(\n",
       "          (bn1): BatchNorm1d(640, eps=1e-05, momentum=0.1, affine=True, track_running_stats=True)\n",
       "          (conv1): Conv1d(640, 640, kernel_size=(1,), stride=(1,))\n",
       "          (dropout1): Dropout(p=0.5, inplace=False)\n",
       "          (relu): ReLU(inplace=True)\n",
       "          (bn2): BatchNorm1d(640, eps=1e-05, momentum=0.1, affine=True, track_running_stats=True)\n",
       "          (conv2): Conv1d(640, 640, kernel_size=(4,), stride=(2,))\n",
       "          (dropout2): Dropout(p=0.5, inplace=False)\n",
       "          (downsample): Sequential(\n",
       "            (0): Conv1d(640, 640, kernel_size=(4,), stride=(2,))\n",
       "            (1): BatchNorm1d(640, eps=1e-05, momentum=0.1, affine=True, track_running_stats=True)\n",
       "          )\n",
       "        )\n",
       "      )\n",
       "    )\n",
       "    (feature_compressor): LinearFeatureCompressor(\n",
       "      (content_mu): Linear(in_features=640, out_features=64, bias=True)\n",
       "      (content_logvar): Linear(in_features=640, out_features=64, bias=True)\n",
       "    )\n",
       "  )\n",
       "  (decoder_pa): DecoderImg(\n",
       "    (feature_generator): Linear(in_features=64, out_features=320, bias=True)\n",
       "    (img_generator): DataGeneratorImg(\n",
       "      (generator): Sequential(\n",
       "        (0): Sequential(\n",
       "          (0): ResidualBlock2dTransposeConv(\n",
       "            (conv1): ConvTranspose2d(320, 320, kernel_size=(1, 1), stride=(1, 1), bias=False)\n",
       "            (dropout1): Dropout2d(p=0.5, inplace=False)\n",
       "            (bn1): BatchNorm2d(320, eps=1e-05, momentum=0.1, affine=True, track_running_stats=True)\n",
       "            (relu): ReLU(inplace=True)\n",
       "            (bn2): BatchNorm2d(320, eps=1e-05, momentum=0.1, affine=True, track_running_stats=True)\n",
       "            (conv2): ConvTranspose2d(320, 256, kernel_size=(4, 4), stride=(1, 1), bias=False)\n",
       "            (dropout2): Dropout2d(p=0.5, inplace=False)\n",
       "            (upsample): Sequential(\n",
       "              (0): ConvTranspose2d(320, 256, kernel_size=(4, 4), stride=(1, 1))\n",
       "              (1): BatchNorm2d(256, eps=1e-05, momentum=0.1, affine=True, track_running_stats=True)\n",
       "            )\n",
       "          )\n",
       "        )\n",
       "        (1): Sequential(\n",
       "          (0): ResidualBlock2dTransposeConv(\n",
       "            (conv1): ConvTranspose2d(256, 256, kernel_size=(1, 1), stride=(1, 1), bias=False)\n",
       "            (dropout1): Dropout2d(p=0.5, inplace=False)\n",
       "            (bn1): BatchNorm2d(256, eps=1e-05, momentum=0.1, affine=True, track_running_stats=True)\n",
       "            (relu): ReLU(inplace=True)\n",
       "            (bn2): BatchNorm2d(256, eps=1e-05, momentum=0.1, affine=True, track_running_stats=True)\n",
       "            (conv2): ConvTranspose2d(256, 192, kernel_size=(4, 4), stride=(2, 2), padding=(1, 1), bias=False)\n",
       "            (dropout2): Dropout2d(p=0.5, inplace=False)\n",
       "            (upsample): Sequential(\n",
       "              (0): ConvTranspose2d(256, 192, kernel_size=(4, 4), stride=(2, 2), padding=(1, 1))\n",
       "              (1): BatchNorm2d(192, eps=1e-05, momentum=0.1, affine=True, track_running_stats=True)\n",
       "            )\n",
       "          )\n",
       "        )\n",
       "        (2): Sequential(\n",
       "          (0): ResidualBlock2dTransposeConv(\n",
       "            (conv1): ConvTranspose2d(192, 192, kernel_size=(1, 1), stride=(1, 1), bias=False)\n",
       "            (dropout1): Dropout2d(p=0.5, inplace=False)\n",
       "            (bn1): BatchNorm2d(192, eps=1e-05, momentum=0.1, affine=True, track_running_stats=True)\n",
       "            (relu): ReLU(inplace=True)\n",
       "            (bn2): BatchNorm2d(192, eps=1e-05, momentum=0.1, affine=True, track_running_stats=True)\n",
       "            (conv2): ConvTranspose2d(192, 128, kernel_size=(4, 4), stride=(2, 2), padding=(1, 1), bias=False)\n",
       "            (dropout2): Dropout2d(p=0.5, inplace=False)\n",
       "            (upsample): Sequential(\n",
       "              (0): ConvTranspose2d(192, 128, kernel_size=(4, 4), stride=(2, 2), padding=(1, 1))\n",
       "              (1): BatchNorm2d(128, eps=1e-05, momentum=0.1, affine=True, track_running_stats=True)\n",
       "            )\n",
       "          )\n",
       "        )\n",
       "        (3): Sequential(\n",
       "          (0): ResidualBlock2dTransposeConv(\n",
       "            (conv1): ConvTranspose2d(128, 128, kernel_size=(1, 1), stride=(1, 1), bias=False)\n",
       "            (dropout1): Dropout2d(p=0.5, inplace=False)\n",
       "            (bn1): BatchNorm2d(128, eps=1e-05, momentum=0.1, affine=True, track_running_stats=True)\n",
       "            (relu): ReLU(inplace=True)\n",
       "            (bn2): BatchNorm2d(128, eps=1e-05, momentum=0.1, affine=True, track_running_stats=True)\n",
       "            (conv2): ConvTranspose2d(128, 64, kernel_size=(4, 4), stride=(2, 2), padding=(1, 1), bias=False)\n",
       "            (dropout2): Dropout2d(p=0.5, inplace=False)\n",
       "            (upsample): Sequential(\n",
       "              (0): ConvTranspose2d(128, 64, kernel_size=(4, 4), stride=(2, 2), padding=(1, 1))\n",
       "              (1): BatchNorm2d(64, eps=1e-05, momentum=0.1, affine=True, track_running_stats=True)\n",
       "            )\n",
       "          )\n",
       "        )\n",
       "        (4): Sequential(\n",
       "          (0): ResidualBlock2dTransposeConv(\n",
       "            (conv1): ConvTranspose2d(64, 64, kernel_size=(1, 1), stride=(1, 1), bias=False)\n",
       "            (dropout1): Dropout2d(p=0.5, inplace=False)\n",
       "            (bn1): BatchNorm2d(64, eps=1e-05, momentum=0.1, affine=True, track_running_stats=True)\n",
       "            (relu): ReLU(inplace=True)\n",
       "            (bn2): BatchNorm2d(64, eps=1e-05, momentum=0.1, affine=True, track_running_stats=True)\n",
       "            (conv2): ConvTranspose2d(64, 64, kernel_size=(4, 4), stride=(2, 2), padding=(1, 1), bias=False)\n",
       "            (dropout2): Dropout2d(p=0.5, inplace=False)\n",
       "            (upsample): Sequential(\n",
       "              (0): ConvTranspose2d(64, 64, kernel_size=(4, 4), stride=(2, 2), padding=(1, 1))\n",
       "              (1): BatchNorm2d(64, eps=1e-05, momentum=0.1, affine=True, track_running_stats=True)\n",
       "            )\n",
       "          )\n",
       "        )\n",
       "        (5): ConvTranspose2d(64, 1, kernel_size=(3, 3), stride=(2, 2), padding=(1, 1), output_padding=(1, 1))\n",
       "      )\n",
       "    )\n",
       "  )\n",
       "  (decoder_lat): DecoderImg(\n",
       "    (feature_generator): Linear(in_features=64, out_features=320, bias=True)\n",
       "    (img_generator): DataGeneratorImg(\n",
       "      (generator): Sequential(\n",
       "        (0): Sequential(\n",
       "          (0): ResidualBlock2dTransposeConv(\n",
       "            (conv1): ConvTranspose2d(320, 320, kernel_size=(1, 1), stride=(1, 1), bias=False)\n",
       "            (dropout1): Dropout2d(p=0.5, inplace=False)\n",
       "            (bn1): BatchNorm2d(320, eps=1e-05, momentum=0.1, affine=True, track_running_stats=True)\n",
       "            (relu): ReLU(inplace=True)\n",
       "            (bn2): BatchNorm2d(320, eps=1e-05, momentum=0.1, affine=True, track_running_stats=True)\n",
       "            (conv2): ConvTranspose2d(320, 256, kernel_size=(4, 4), stride=(1, 1), bias=False)\n",
       "            (dropout2): Dropout2d(p=0.5, inplace=False)\n",
       "            (upsample): Sequential(\n",
       "              (0): ConvTranspose2d(320, 256, kernel_size=(4, 4), stride=(1, 1))\n",
       "              (1): BatchNorm2d(256, eps=1e-05, momentum=0.1, affine=True, track_running_stats=True)\n",
       "            )\n",
       "          )\n",
       "        )\n",
       "        (1): Sequential(\n",
       "          (0): ResidualBlock2dTransposeConv(\n",
       "            (conv1): ConvTranspose2d(256, 256, kernel_size=(1, 1), stride=(1, 1), bias=False)\n",
       "            (dropout1): Dropout2d(p=0.5, inplace=False)\n",
       "            (bn1): BatchNorm2d(256, eps=1e-05, momentum=0.1, affine=True, track_running_stats=True)\n",
       "            (relu): ReLU(inplace=True)\n",
       "            (bn2): BatchNorm2d(256, eps=1e-05, momentum=0.1, affine=True, track_running_stats=True)\n",
       "            (conv2): ConvTranspose2d(256, 192, kernel_size=(4, 4), stride=(2, 2), padding=(1, 1), bias=False)\n",
       "            (dropout2): Dropout2d(p=0.5, inplace=False)\n",
       "            (upsample): Sequential(\n",
       "              (0): ConvTranspose2d(256, 192, kernel_size=(4, 4), stride=(2, 2), padding=(1, 1))\n",
       "              (1): BatchNorm2d(192, eps=1e-05, momentum=0.1, affine=True, track_running_stats=True)\n",
       "            )\n",
       "          )\n",
       "        )\n",
       "        (2): Sequential(\n",
       "          (0): ResidualBlock2dTransposeConv(\n",
       "            (conv1): ConvTranspose2d(192, 192, kernel_size=(1, 1), stride=(1, 1), bias=False)\n",
       "            (dropout1): Dropout2d(p=0.5, inplace=False)\n",
       "            (bn1): BatchNorm2d(192, eps=1e-05, momentum=0.1, affine=True, track_running_stats=True)\n",
       "            (relu): ReLU(inplace=True)\n",
       "            (bn2): BatchNorm2d(192, eps=1e-05, momentum=0.1, affine=True, track_running_stats=True)\n",
       "            (conv2): ConvTranspose2d(192, 128, kernel_size=(4, 4), stride=(2, 2), padding=(1, 1), bias=False)\n",
       "            (dropout2): Dropout2d(p=0.5, inplace=False)\n",
       "            (upsample): Sequential(\n",
       "              (0): ConvTranspose2d(192, 128, kernel_size=(4, 4), stride=(2, 2), padding=(1, 1))\n",
       "              (1): BatchNorm2d(128, eps=1e-05, momentum=0.1, affine=True, track_running_stats=True)\n",
       "            )\n",
       "          )\n",
       "        )\n",
       "        (3): Sequential(\n",
       "          (0): ResidualBlock2dTransposeConv(\n",
       "            (conv1): ConvTranspose2d(128, 128, kernel_size=(1, 1), stride=(1, 1), bias=False)\n",
       "            (dropout1): Dropout2d(p=0.5, inplace=False)\n",
       "            (bn1): BatchNorm2d(128, eps=1e-05, momentum=0.1, affine=True, track_running_stats=True)\n",
       "            (relu): ReLU(inplace=True)\n",
       "            (bn2): BatchNorm2d(128, eps=1e-05, momentum=0.1, affine=True, track_running_stats=True)\n",
       "            (conv2): ConvTranspose2d(128, 64, kernel_size=(4, 4), stride=(2, 2), padding=(1, 1), bias=False)\n",
       "            (dropout2): Dropout2d(p=0.5, inplace=False)\n",
       "            (upsample): Sequential(\n",
       "              (0): ConvTranspose2d(128, 64, kernel_size=(4, 4), stride=(2, 2), padding=(1, 1))\n",
       "              (1): BatchNorm2d(64, eps=1e-05, momentum=0.1, affine=True, track_running_stats=True)\n",
       "            )\n",
       "          )\n",
       "        )\n",
       "        (4): Sequential(\n",
       "          (0): ResidualBlock2dTransposeConv(\n",
       "            (conv1): ConvTranspose2d(64, 64, kernel_size=(1, 1), stride=(1, 1), bias=False)\n",
       "            (dropout1): Dropout2d(p=0.5, inplace=False)\n",
       "            (bn1): BatchNorm2d(64, eps=1e-05, momentum=0.1, affine=True, track_running_stats=True)\n",
       "            (relu): ReLU(inplace=True)\n",
       "            (bn2): BatchNorm2d(64, eps=1e-05, momentum=0.1, affine=True, track_running_stats=True)\n",
       "            (conv2): ConvTranspose2d(64, 64, kernel_size=(4, 4), stride=(2, 2), padding=(1, 1), bias=False)\n",
       "            (dropout2): Dropout2d(p=0.5, inplace=False)\n",
       "            (upsample): Sequential(\n",
       "              (0): ConvTranspose2d(64, 64, kernel_size=(4, 4), stride=(2, 2), padding=(1, 1))\n",
       "              (1): BatchNorm2d(64, eps=1e-05, momentum=0.1, affine=True, track_running_stats=True)\n",
       "            )\n",
       "          )\n",
       "        )\n",
       "        (5): ConvTranspose2d(64, 1, kernel_size=(3, 3), stride=(2, 2), padding=(1, 1), output_padding=(1, 1))\n",
       "      )\n",
       "    )\n",
       "  )\n",
       "  (decoder_text): DecoderText(\n",
       "    (feature_generator): Linear(in_features=64, out_features=640, bias=True)\n",
       "    (text_generator): DataGeneratorText(\n",
       "      (resblock_1): Sequential(\n",
       "        (0): ResidualBlock1dTransposeConv(\n",
       "          (bn1): BatchNorm1d(640, eps=1e-05, momentum=0.1, affine=True, track_running_stats=True)\n",
       "          (conv1): ConvTranspose1d(640, 640, kernel_size=(1,), stride=(1,))\n",
       "          (dropout1): Dropout(p=0.5, inplace=False)\n",
       "          (relu): ReLU(inplace=True)\n",
       "          (bn2): BatchNorm1d(640, eps=1e-05, momentum=0.1, affine=True, track_running_stats=True)\n",
       "          (conv2): ConvTranspose1d(640, 640, kernel_size=(4,), stride=(1,))\n",
       "          (dropout2): Dropout(p=0.5, inplace=False)\n",
       "          (upsample): Sequential(\n",
       "            (0): ConvTranspose1d(640, 640, kernel_size=(4,), stride=(1,))\n",
       "            (1): BatchNorm1d(640, eps=1e-05, momentum=0.1, affine=True, track_running_stats=True)\n",
       "          )\n",
       "        )\n",
       "      )\n",
       "      (resblock_2): Sequential(\n",
       "        (0): ResidualBlock1dTransposeConv(\n",
       "          (bn1): BatchNorm1d(640, eps=1e-05, momentum=0.1, affine=True, track_running_stats=True)\n",
       "          (conv1): ConvTranspose1d(640, 640, kernel_size=(1,), stride=(1,))\n",
       "          (dropout1): Dropout(p=0.5, inplace=False)\n",
       "          (relu): ReLU(inplace=True)\n",
       "          (bn2): BatchNorm1d(640, eps=1e-05, momentum=0.1, affine=True, track_running_stats=True)\n",
       "          (conv2): ConvTranspose1d(640, 640, kernel_size=(4,), stride=(2,), padding=(1,))\n",
       "          (dropout2): Dropout(p=0.5, inplace=False)\n",
       "          (upsample): Sequential(\n",
       "            (0): ConvTranspose1d(640, 640, kernel_size=(4,), stride=(2,), padding=(1,))\n",
       "            (1): BatchNorm1d(640, eps=1e-05, momentum=0.1, affine=True, track_running_stats=True)\n",
       "          )\n",
       "        )\n",
       "      )\n",
       "      (resblock_3): Sequential(\n",
       "        (0): ResidualBlock1dTransposeConv(\n",
       "          (bn1): BatchNorm1d(640, eps=1e-05, momentum=0.1, affine=True, track_running_stats=True)\n",
       "          (conv1): ConvTranspose1d(640, 640, kernel_size=(1,), stride=(1,))\n",
       "          (dropout1): Dropout(p=0.5, inplace=False)\n",
       "          (relu): ReLU(inplace=True)\n",
       "          (bn2): BatchNorm1d(640, eps=1e-05, momentum=0.1, affine=True, track_running_stats=True)\n",
       "          (conv2): ConvTranspose1d(640, 640, kernel_size=(4,), stride=(2,), padding=(1,))\n",
       "          (dropout2): Dropout(p=0.5, inplace=False)\n",
       "          (upsample): Sequential(\n",
       "            (0): ConvTranspose1d(640, 640, kernel_size=(4,), stride=(2,), padding=(1,))\n",
       "            (1): BatchNorm1d(640, eps=1e-05, momentum=0.1, affine=True, track_running_stats=True)\n",
       "          )\n",
       "        )\n",
       "      )\n",
       "      (resblock_4): Sequential(\n",
       "        (0): ResidualBlock1dTransposeConv(\n",
       "          (bn1): BatchNorm1d(640, eps=1e-05, momentum=0.1, affine=True, track_running_stats=True)\n",
       "          (conv1): ConvTranspose1d(640, 640, kernel_size=(1,), stride=(1,))\n",
       "          (dropout1): Dropout(p=0.5, inplace=False)\n",
       "          (relu): ReLU(inplace=True)\n",
       "          (bn2): BatchNorm1d(640, eps=1e-05, momentum=0.1, affine=True, track_running_stats=True)\n",
       "          (conv2): ConvTranspose1d(640, 512, kernel_size=(4,), stride=(2,), padding=(1,))\n",
       "          (dropout2): Dropout(p=0.5, inplace=False)\n",
       "          (upsample): Sequential(\n",
       "            (0): ConvTranspose1d(640, 512, kernel_size=(4,), stride=(2,), padding=(1,))\n",
       "            (1): BatchNorm1d(512, eps=1e-05, momentum=0.1, affine=True, track_running_stats=True)\n",
       "          )\n",
       "        )\n",
       "      )\n",
       "      (resblock_5): Sequential(\n",
       "        (0): ResidualBlock1dTransposeConv(\n",
       "          (bn1): BatchNorm1d(512, eps=1e-05, momentum=0.1, affine=True, track_running_stats=True)\n",
       "          (conv1): ConvTranspose1d(512, 512, kernel_size=(1,), stride=(1,))\n",
       "          (dropout1): Dropout(p=0.5, inplace=False)\n",
       "          (relu): ReLU(inplace=True)\n",
       "          (bn2): BatchNorm1d(512, eps=1e-05, momentum=0.1, affine=True, track_running_stats=True)\n",
       "          (conv2): ConvTranspose1d(512, 512, kernel_size=(4,), stride=(2,), padding=(1,))\n",
       "          (dropout2): Dropout(p=0.5, inplace=False)\n",
       "          (upsample): Sequential(\n",
       "            (0): ConvTranspose1d(512, 512, kernel_size=(4,), stride=(2,), padding=(1,))\n",
       "            (1): BatchNorm1d(512, eps=1e-05, momentum=0.1, affine=True, track_running_stats=True)\n",
       "          )\n",
       "        )\n",
       "      )\n",
       "      (resblock_6): Sequential(\n",
       "        (0): ResidualBlock1dTransposeConv(\n",
       "          (bn1): BatchNorm1d(512, eps=1e-05, momentum=0.1, affine=True, track_running_stats=True)\n",
       "          (conv1): ConvTranspose1d(512, 512, kernel_size=(1,), stride=(1,))\n",
       "          (dropout1): Dropout(p=0.5, inplace=False)\n",
       "          (relu): ReLU(inplace=True)\n",
       "          (bn2): BatchNorm1d(512, eps=1e-05, momentum=0.1, affine=True, track_running_stats=True)\n",
       "          (conv2): ConvTranspose1d(512, 384, kernel_size=(4,), stride=(2,), padding=(1,))\n",
       "          (dropout2): Dropout(p=0.5, inplace=False)\n",
       "          (upsample): Sequential(\n",
       "            (0): ConvTranspose1d(512, 384, kernel_size=(4,), stride=(2,), padding=(1,))\n",
       "            (1): BatchNorm1d(384, eps=1e-05, momentum=0.1, affine=True, track_running_stats=True)\n",
       "          )\n",
       "        )\n",
       "      )\n",
       "      (resblock_7): Sequential(\n",
       "        (0): ResidualBlock1dTransposeConv(\n",
       "          (bn1): BatchNorm1d(384, eps=1e-05, momentum=0.1, affine=True, track_running_stats=True)\n",
       "          (conv1): ConvTranspose1d(384, 384, kernel_size=(1,), stride=(1,))\n",
       "          (dropout1): Dropout(p=0.5, inplace=False)\n",
       "          (relu): ReLU(inplace=True)\n",
       "          (bn2): BatchNorm1d(384, eps=1e-05, momentum=0.1, affine=True, track_running_stats=True)\n",
       "          (conv2): ConvTranspose1d(384, 256, kernel_size=(4,), stride=(2,), padding=(1,))\n",
       "          (dropout2): Dropout(p=0.5, inplace=False)\n",
       "          (upsample): Sequential(\n",
       "            (0): ConvTranspose1d(384, 256, kernel_size=(4,), stride=(2,), padding=(1,))\n",
       "            (1): BatchNorm1d(256, eps=1e-05, momentum=0.1, affine=True, track_running_stats=True)\n",
       "          )\n",
       "        )\n",
       "      )\n",
       "      (resblock_8): Sequential(\n",
       "        (0): ResidualBlock1dTransposeConv(\n",
       "          (bn1): BatchNorm1d(256, eps=1e-05, momentum=0.1, affine=True, track_running_stats=True)\n",
       "          (conv1): ConvTranspose1d(256, 256, kernel_size=(1,), stride=(1,))\n",
       "          (dropout1): Dropout(p=0.5, inplace=False)\n",
       "          (relu): ReLU(inplace=True)\n",
       "          (bn2): BatchNorm1d(256, eps=1e-05, momentum=0.1, affine=True, track_running_stats=True)\n",
       "          (conv2): ConvTranspose1d(256, 128, kernel_size=(4,), stride=(2,), padding=(1,))\n",
       "          (dropout2): Dropout(p=0.5, inplace=False)\n",
       "          (upsample): Sequential(\n",
       "            (0): ConvTranspose1d(256, 128, kernel_size=(4,), stride=(2,), padding=(1,))\n",
       "            (1): BatchNorm1d(128, eps=1e-05, momentum=0.1, affine=True, track_running_stats=True)\n",
       "          )\n",
       "        )\n",
       "      )\n",
       "      (conv2): ConvTranspose1d(128, 71, kernel_size=(4,), stride=(2,), padding=(1,))\n",
       "      (softmax): LogSoftmax(dim=1)\n",
       "    )\n",
       "  )\n",
       ")"
      ]
     },
     "execution_count": 9,
     "metadata": {},
     "output_type": "execute_result"
    }
   ],
   "source": [
    "mimic_experiment.mm_vae.to(FLAGS.device)"
   ]
  },
  {
   "cell_type": "code",
   "execution_count": 10,
   "metadata": {
    "ExecuteTime": {
     "end_time": "2020-10-27T08:42:27.224540Z",
     "start_time": "2020-10-27T08:42:23.918933Z"
    },
    "pycharm": {
     "name": "#%%\n"
    }
   },
   "outputs": [
    {
     "data": {
      "text/plain": [
       "<All keys matched successfully>"
      ]
     },
     "execution_count": 10,
     "metadata": {},
     "output_type": "execute_result"
    }
   ],
   "source": [
    "mimic_experiment.mm_vae.load_state_dict(state_dict=torch.load(path))"
   ]
  },
  {
   "cell_type": "code",
   "execution_count": 11,
   "metadata": {
    "ExecuteTime": {
     "end_time": "2020-10-27T08:42:27.650725Z",
     "start_time": "2020-10-27T08:42:27.226434Z"
    },
    "pycharm": {
     "name": "#%%\n"
    }
   },
   "outputs": [],
   "source": [
    "num_samples = 5\n",
    "random_samples = mimic_experiment.mm_vae.generate(num_samples)\n",
    "epoch = 299"
   ]
  },
  {
   "cell_type": "code",
   "execution_count": 12,
   "metadata": {
    "ExecuteTime": {
     "end_time": "2020-10-27T08:42:27.738218Z",
     "start_time": "2020-10-27T08:42:27.652163Z"
    },
    "pycharm": {
     "name": "#%%\n"
    }
   },
   "outputs": [],
   "source": [
    "mods = mimic_experiment.modalities\n",
    "\n",
    "random_plots = dict();\n",
    "for k, m_key_in in enumerate(mods.keys()):\n",
    "    mod = mods[m_key_in];\n",
    "    samples_mod = random_samples[m_key_in];\n",
    "    rec = torch.zeros(mimic_experiment.plot_img_size,\n",
    "                      dtype=torch.float32).repeat(num_samples, 1, 1, 1);\n",
    "    for l in range(0, num_samples):\n",
    "        rand_plot = mod.plot_data(mimic_experiment, samples_mod[l]);\n",
    "        rec[l, :, :, :] = rand_plot;\n",
    "    random_plots[m_key_in] = rec;\n",
    "\n",
    "for k, m_key in enumerate(mods.keys()):\n",
    "    fn = os.path.join(mimic_experiment.flags.dir_random_samples, 'random_epoch_' +\n",
    "                      str(epoch).zfill(4) + '_' + m_key + '.png');\n",
    "    mod_plot = random_plots[m_key];\n",
    "    p = plot.create_fig(fn, mod_plot, 10, save_figure=mimic_experiment.flags.save_figure);\n",
    "    random_plots[m_key] = p;"
   ]
  },
  {
   "cell_type": "code",
   "execution_count": 18,
   "metadata": {
    "ExecuteTime": {
     "end_time": "2020-10-27T08:45:12.732519Z",
     "start_time": "2020-10-27T08:45:12.727169Z"
    }
   },
   "outputs": [
    {
     "name": "stdout",
     "output_type": "stream",
     "text": [
      "dict_keys(['PA', 'Lateral', 'text'])\n"
     ]
    }
   ],
   "source": [
    "print(random_plots.keys())"
   ]
  },
  {
   "cell_type": "code",
   "execution_count": 22,
   "metadata": {
    "ExecuteTime": {
     "end_time": "2020-10-27T08:45:55.708089Z",
     "start_time": "2020-10-27T08:45:55.294847Z"
    }
   },
   "outputs": [
    {
     "data": {
      "image/png": "[encoded data removed]",
      "text/plain": [
       "<Figure size 432x288 with 1 Axes>"
      ]
     },
     "metadata": {
      "needs_background": "light"
     },
     "output_type": "display_data"
    },
    {
     "data": {
      "image/png": "[encoded data removed]",
      "text/plain": [
       "<Figure size 432x288 with 1 Axes>"
      ]
     },
     "metadata": {
      "needs_background": "light"
     },
     "output_type": "display_data"
    },
    {
     "data": {
      "image/png": "[encoded data removed]",
      "text/plain": [
       "<Figure size 432x288 with 1 Axes>"
      ]
     },
     "metadata": {
      "needs_background": "light"
     },
     "output_type": "display_data"
    }
   ],
   "source": [
    "from matplotlib import pyplot as plt\n",
    "plt.imshow(random_plots['PA'])\n",
    "plt.show()\n",
    "plt.imshow(random_plots['Lateral'])\n",
    "plt.show()\n",
    "plt.imshow(random_plots['text'])\n",
    "plt.show()"
   ]
  },
  {
   "cell_type": "code",
   "execution_count": null,
   "metadata": {},
   "outputs": [],
   "source": []
  }
 ],
 "metadata": {
  "kernelspec": {
   "display_name": "Python 3",
   "language": "python",
   "name": "python3"
  },
  "language_info": {
   "codemirror_mode": {
    "name": "ipython",
    "version": 3
   },
   "file_extension": ".py",
   "mimetype": "text/x-python",
   "name": "python",
   "nbconvert_exporter": "python",
   "pygments_lexer": "ipython3",
   "version": "3.8.5"
  }
 },
 "nbformat": 4,
 "nbformat_minor": 1
}
