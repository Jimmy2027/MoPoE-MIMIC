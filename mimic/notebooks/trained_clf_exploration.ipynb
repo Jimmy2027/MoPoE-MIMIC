{
 "cells": [
  {
   "cell_type": "code",
   "execution_count": 1,
   "metadata": {
    "collapsed": true
   },
   "outputs": [],
   "source": [
    "import pandas as pd\n",
    "from pathlib import Path\n",
    "import os\n",
    "import numpy as np"
   ]
  },
  {
   "cell_type": "code",
   "execution_count": 2,
   "outputs": [],
   "source": [
    "experiments_dataframe_path = Path(os.path.abspath(\"trained_clf_exploration.ipynb\")).parent.parent / 'clf_experiments_dataframe_bartholin.csv'"
   ],
   "metadata": {
    "collapsed": false,
    "pycharm": {
     "name": "#%%\n"
    }
   }
  },
  {
   "cell_type": "code",
   "execution_count": 17,
   "outputs": [],
   "source": [
    "df = pd.read_csv(experiments_dataframe_path)"
   ],
   "metadata": {
    "collapsed": false,
    "pycharm": {
     "name": "#%%\n"
    }
   }
  },
  {
   "cell_type": "code",
   "execution_count": 18,
   "outputs": [],
   "source": [
    "eval_columns = ['dice']"
   ],
   "metadata": {
    "collapsed": false,
    "pycharm": {
     "name": "#%%\n"
    }
   }
  },
  {
   "cell_type": "markdown",
   "source": [
    "# Best methods for bin labels"
   ],
   "metadata": {
    "collapsed": false,
    "pycharm": {
     "name": "#%% md\n"
    }
   }
  },
  {
   "cell_type": "code",
   "execution_count": 25,
   "outputs": [
    {
     "data": {
      "text/plain": "        mean img_clf_type  mean_AP_total clf_loss  initial_learning_rate  \\\n15  0.506250     densenet       0.532923     dice                 0.0010   \n13  0.494624     densenet       0.625190     dice                 0.0010   \n10  0.487805     densenet       0.695179     dice                 0.0001   \n9   0.479751       resnet       0.515161     dice                 0.0001   \n11  0.467354     densenet       0.450224     dice                 0.0001   \n14  0.382060       resnet       1.000000     dice                 0.0010   \n16  0.382060     densenet       1.000000     dice                 0.1000   \n17  0.382060     densenet       1.000000     dice                 0.1000   \n19  0.382060       resnet       1.000000     dice                 0.1000   \n20  0.000000       resnet            NaN     dice                 0.1000   \n\n    weighted_sampler  binary_labels modality text_encoding  total_epochs  \\\n15               0.0            1.0       PA          char          19.0   \n13               1.0            1.0       PA          char          12.0   \n10               1.0            1.0       PA          char          21.0   \n9                1.0            1.0       PA          char          17.0   \n11               0.0            1.0       PA          char           7.0   \n14               1.0            1.0       PA          char          99.0   \n16               1.0            1.0       PA          char          99.0   \n17               0.0            1.0       PA          char          99.0   \n19               1.0            1.0       PA          char          99.0   \n20               0.0            1.0       PA          char          12.0   \n\n        dice  \n15  0.506250  \n13  0.494624  \n10  0.487805  \n9   0.479751  \n11  0.467354  \n14  0.382060  \n16  0.382060  \n17  0.382060  \n19  0.382060  \n20  0.000000  ",
      "text/html": "<div>\n<style scoped>\n    .dataframe tbody tr th:only-of-type {\n        vertical-align: middle;\n    }\n\n    .dataframe tbody tr th {\n        vertical-align: top;\n    }\n\n    .dataframe thead th {\n        text-align: right;\n    }\n</style>\n<table border=\"1\" class=\"dataframe\">\n  <thead>\n    <tr style=\"text-align: right;\">\n      <th></th>\n      <th>mean</th>\n      <th>img_clf_type</th>\n      <th>mean_AP_total</th>\n      <th>clf_loss</th>\n      <th>initial_learning_rate</th>\n      <th>weighted_sampler</th>\n      <th>binary_labels</th>\n      <th>modality</th>\n      <th>text_encoding</th>\n      <th>total_epochs</th>\n      <th>dice</th>\n    </tr>\n  </thead>\n  <tbody>\n    <tr>\n      <th>15</th>\n      <td>0.506250</td>\n      <td>densenet</td>\n      <td>0.532923</td>\n      <td>dice</td>\n      <td>0.0010</td>\n      <td>0.0</td>\n      <td>1.0</td>\n      <td>PA</td>\n      <td>char</td>\n      <td>19.0</td>\n      <td>0.506250</td>\n    </tr>\n    <tr>\n      <th>13</th>\n      <td>0.494624</td>\n      <td>densenet</td>\n      <td>0.625190</td>\n      <td>dice</td>\n      <td>0.0010</td>\n      <td>1.0</td>\n      <td>1.0</td>\n      <td>PA</td>\n      <td>char</td>\n      <td>12.0</td>\n      <td>0.494624</td>\n    </tr>\n    <tr>\n      <th>10</th>\n      <td>0.487805</td>\n      <td>densenet</td>\n      <td>0.695179</td>\n      <td>dice</td>\n      <td>0.0001</td>\n      <td>1.0</td>\n      <td>1.0</td>\n      <td>PA</td>\n      <td>char</td>\n      <td>21.0</td>\n      <td>0.487805</td>\n    </tr>\n    <tr>\n      <th>9</th>\n      <td>0.479751</td>\n      <td>resnet</td>\n      <td>0.515161</td>\n      <td>dice</td>\n      <td>0.0001</td>\n      <td>1.0</td>\n      <td>1.0</td>\n      <td>PA</td>\n      <td>char</td>\n      <td>17.0</td>\n      <td>0.479751</td>\n    </tr>\n    <tr>\n      <th>11</th>\n      <td>0.467354</td>\n      <td>densenet</td>\n      <td>0.450224</td>\n      <td>dice</td>\n      <td>0.0001</td>\n      <td>0.0</td>\n      <td>1.0</td>\n      <td>PA</td>\n      <td>char</td>\n      <td>7.0</td>\n      <td>0.467354</td>\n    </tr>\n    <tr>\n      <th>14</th>\n      <td>0.382060</td>\n      <td>resnet</td>\n      <td>1.000000</td>\n      <td>dice</td>\n      <td>0.0010</td>\n      <td>1.0</td>\n      <td>1.0</td>\n      <td>PA</td>\n      <td>char</td>\n      <td>99.0</td>\n      <td>0.382060</td>\n    </tr>\n    <tr>\n      <th>16</th>\n      <td>0.382060</td>\n      <td>densenet</td>\n      <td>1.000000</td>\n      <td>dice</td>\n      <td>0.1000</td>\n      <td>1.0</td>\n      <td>1.0</td>\n      <td>PA</td>\n      <td>char</td>\n      <td>99.0</td>\n      <td>0.382060</td>\n    </tr>\n    <tr>\n      <th>17</th>\n      <td>0.382060</td>\n      <td>densenet</td>\n      <td>1.000000</td>\n      <td>dice</td>\n      <td>0.1000</td>\n      <td>0.0</td>\n      <td>1.0</td>\n      <td>PA</td>\n      <td>char</td>\n      <td>99.0</td>\n      <td>0.382060</td>\n    </tr>\n    <tr>\n      <th>19</th>\n      <td>0.382060</td>\n      <td>resnet</td>\n      <td>1.000000</td>\n      <td>dice</td>\n      <td>0.1000</td>\n      <td>1.0</td>\n      <td>1.0</td>\n      <td>PA</td>\n      <td>char</td>\n      <td>99.0</td>\n      <td>0.382060</td>\n    </tr>\n    <tr>\n      <th>20</th>\n      <td>0.000000</td>\n      <td>resnet</td>\n      <td>NaN</td>\n      <td>dice</td>\n      <td>0.1000</td>\n      <td>0.0</td>\n      <td>1.0</td>\n      <td>PA</td>\n      <td>char</td>\n      <td>12.0</td>\n      <td>0.000000</td>\n    </tr>\n  </tbody>\n</table>\n</div>"
     },
     "execution_count": 25,
     "metadata": {},
     "output_type": "execute_result"
    }
   ],
   "source": [
    "show_cols = ['img_clf_type', 'mean_AP_total', 'clf_loss','initial_learning_rate', 'weighted_sampler','binary_labels', 'modality', 'text_encoding', 'total_epochs',*eval_columns ]\n",
    "temp_exp_df = df.dropna(subset= [*eval_columns])\n",
    "\n",
    "sub_df = temp_exp_df.loc[(temp_exp_df['binary_labels'] == 1)& (temp_exp_df['total_epochs'] > 4), show_cols]\n",
    "df_stats = sub_df[[ *eval_columns]].apply(pd.DataFrame.describe, axis=1)\n",
    "\n",
    "sub_dfdf = sub_df.merge(df_stats, left_index=True, right_index = True)\n",
    "sub_dfdf[['mean',*show_cols]].sort_values(by=['mean'], ascending=False)"
   ],
   "metadata": {
    "collapsed": false,
    "pycharm": {
     "name": "#%%\n"
    }
   }
  },
  {
   "cell_type": "markdown",
   "source": [
    "# Best methods for 3 labels"
   ],
   "metadata": {
    "collapsed": false,
    "pycharm": {
     "name": "#%% md\n"
    }
   }
  },
  {
   "cell_type": "code",
   "execution_count": 22,
   "outputs": [
    {
     "data": {
      "text/plain": "       mean clf_loss  initial_learning_rate  weighted_sampler  binary_labels  \\\n5  0.316279     dice                 0.0010               0.0            NaN   \n3  0.297030     dice                 0.0001               0.0            NaN   \n4  0.248996     dice                 0.0010               1.0            NaN   \n1  0.240296     dice                 0.0001               1.0            NaN   \n2  0.230769     dice                 0.0001               1.0            NaN   \n\n  modality text_encoding  total_epochs      dice  \n5       PA          char          12.0  0.316279  \n3       PA          char          22.0  0.297030  \n4       PA          char           1.0  0.248996  \n1       PA          char           9.0  0.240296  \n2       PA          char           9.0  0.230769  ",
      "text/html": "<div>\n<style scoped>\n    .dataframe tbody tr th:only-of-type {\n        vertical-align: middle;\n    }\n\n    .dataframe tbody tr th {\n        vertical-align: top;\n    }\n\n    .dataframe thead th {\n        text-align: right;\n    }\n</style>\n<table border=\"1\" class=\"dataframe\">\n  <thead>\n    <tr style=\"text-align: right;\">\n      <th></th>\n      <th>mean</th>\n      <th>clf_loss</th>\n      <th>initial_learning_rate</th>\n      <th>weighted_sampler</th>\n      <th>binary_labels</th>\n      <th>modality</th>\n      <th>text_encoding</th>\n      <th>total_epochs</th>\n      <th>dice</th>\n    </tr>\n  </thead>\n  <tbody>\n    <tr>\n      <th>5</th>\n      <td>0.316279</td>\n      <td>dice</td>\n      <td>0.0010</td>\n      <td>0.0</td>\n      <td>NaN</td>\n      <td>PA</td>\n      <td>char</td>\n      <td>12.0</td>\n      <td>0.316279</td>\n    </tr>\n    <tr>\n      <th>3</th>\n      <td>0.297030</td>\n      <td>dice</td>\n      <td>0.0001</td>\n      <td>0.0</td>\n      <td>NaN</td>\n      <td>PA</td>\n      <td>char</td>\n      <td>22.0</td>\n      <td>0.297030</td>\n    </tr>\n    <tr>\n      <th>4</th>\n      <td>0.248996</td>\n      <td>dice</td>\n      <td>0.0010</td>\n      <td>1.0</td>\n      <td>NaN</td>\n      <td>PA</td>\n      <td>char</td>\n      <td>1.0</td>\n      <td>0.248996</td>\n    </tr>\n    <tr>\n      <th>1</th>\n      <td>0.240296</td>\n      <td>dice</td>\n      <td>0.0001</td>\n      <td>1.0</td>\n      <td>NaN</td>\n      <td>PA</td>\n      <td>char</td>\n      <td>9.0</td>\n      <td>0.240296</td>\n    </tr>\n    <tr>\n      <th>2</th>\n      <td>0.230769</td>\n      <td>dice</td>\n      <td>0.0001</td>\n      <td>1.0</td>\n      <td>NaN</td>\n      <td>PA</td>\n      <td>char</td>\n      <td>9.0</td>\n      <td>0.230769</td>\n    </tr>\n  </tbody>\n</table>\n</div>"
     },
     "execution_count": 22,
     "metadata": {},
     "output_type": "execute_result"
    }
   ],
   "source": [
    "show_cols = ['clf_loss','initial_learning_rate', 'weighted_sampler','binary_labels', 'modality', 'total_epochs',*eval_columns ]\n",
    "temp_exp_df = df.dropna(subset= [*eval_columns])\n",
    "\n",
    "sub_df = temp_exp_df.loc[(temp_exp_df['binary_labels'] != 1), show_cols]\n",
    "df_stats = sub_df[[ *eval_columns]].apply(pd.DataFrame.describe, axis=1)\n",
    "\n",
    "sub_dfdf = sub_df.merge(df_stats, left_index=True, right_index = True)\n",
    "sub_dfdf[['mean',*show_cols]].sort_values(by=['mean'], ascending=False)"
   ],
   "metadata": {
    "collapsed": false,
    "pycharm": {
     "name": "#%%\n"
    }
   }
  },
  {
   "cell_type": "markdown",
   "source": [
    "# Which method has the highest average precision?\n",
    "### modality text with word encoding"
   ],
   "metadata": {
    "collapsed": false,
    "pycharm": {
     "name": "#%% md\n"
    }
   }
  },
  {
   "cell_type": "code",
   "execution_count": 8,
   "outputs": [
    {
     "name": "stdout",
     "output_type": "stream",
     "text": [
      "0.5062499984179688\n"
     ]
    },
    {
     "data": {
      "text/plain": "    weighted_sampler  binary_labels modality text_encoding  total_epochs  \\\n12               0.0            1.0       PA          char           3.0   \n15               0.0            1.0       PA          char          19.0   \n\n       dice  \n12  0.50625  \n15  0.50625  ",
      "text/html": "<div>\n<style scoped>\n    .dataframe tbody tr th:only-of-type {\n        vertical-align: middle;\n    }\n\n    .dataframe tbody tr th {\n        vertical-align: top;\n    }\n\n    .dataframe thead th {\n        text-align: right;\n    }\n</style>\n<table border=\"1\" class=\"dataframe\">\n  <thead>\n    <tr style=\"text-align: right;\">\n      <th></th>\n      <th>weighted_sampler</th>\n      <th>binary_labels</th>\n      <th>modality</th>\n      <th>text_encoding</th>\n      <th>total_epochs</th>\n      <th>dice</th>\n    </tr>\n  </thead>\n  <tbody>\n    <tr>\n      <th>12</th>\n      <td>0.0</td>\n      <td>1.0</td>\n      <td>PA</td>\n      <td>char</td>\n      <td>3.0</td>\n      <td>0.50625</td>\n    </tr>\n    <tr>\n      <th>15</th>\n      <td>0.0</td>\n      <td>1.0</td>\n      <td>PA</td>\n      <td>char</td>\n      <td>19.0</td>\n      <td>0.50625</td>\n    </tr>\n  </tbody>\n</table>\n</div>"
     },
     "execution_count": 8,
     "metadata": {},
     "output_type": "execute_result"
    }
   ],
   "source": [
    "print(np.max(df['dice']))\n",
    "df.loc[df['dice'] == np.max(df['dice']), ['weighted_sampler','binary_labels', 'modality', 'text_encoding', 'total_epochs', 'dice']]"
   ],
   "metadata": {
    "collapsed": false,
    "pycharm": {
     "name": "#%%\n"
    }
   }
  },
  {
   "cell_type": "markdown",
   "source": [
    "# Overall the densenet performs better than the resnet\n",
    "### If the fixed_extractor is NaN of False, the whole densenet was trained (fine_tuning). If true, the extractor part was frozen (transfer-learning)."
   ],
   "metadata": {
    "collapsed": false,
    "pycharm": {
     "name": "#%% md\n"
    }
   }
  },
  {
   "cell_type": "code",
   "execution_count": 66,
   "outputs": [
    {
     "data": {
      "text/plain": "   modality  mean_AP  total_epochs  fixed_extractor\n19       PA  0.36311           7.0              NaN",
      "text/html": "<div>\n<style scoped>\n    .dataframe tbody tr th:only-of-type {\n        vertical-align: middle;\n    }\n\n    .dataframe tbody tr th {\n        vertical-align: top;\n    }\n\n    .dataframe thead th {\n        text-align: right;\n    }\n</style>\n<table border=\"1\" class=\"dataframe\">\n  <thead>\n    <tr style=\"text-align: right;\">\n      <th></th>\n      <th>modality</th>\n      <th>mean_AP</th>\n      <th>total_epochs</th>\n      <th>fixed_extractor</th>\n    </tr>\n  </thead>\n  <tbody>\n    <tr>\n      <th>19</th>\n      <td>PA</td>\n      <td>0.36311</td>\n      <td>7.0</td>\n      <td>NaN</td>\n    </tr>\n  </tbody>\n</table>\n</div>"
     },
     "metadata": {},
     "output_type": "display_data"
    },
    {
     "data": {
      "text/plain": "   modality  mean_AP  total_epochs\n18       PA  0.24437          14.0",
      "text/html": "<div>\n<style scoped>\n    .dataframe tbody tr th:only-of-type {\n        vertical-align: middle;\n    }\n\n    .dataframe tbody tr th {\n        vertical-align: top;\n    }\n\n    .dataframe thead th {\n        text-align: right;\n    }\n</style>\n<table border=\"1\" class=\"dataframe\">\n  <thead>\n    <tr style=\"text-align: right;\">\n      <th></th>\n      <th>modality</th>\n      <th>mean_AP</th>\n      <th>total_epochs</th>\n    </tr>\n  </thead>\n  <tbody>\n    <tr>\n      <th>18</th>\n      <td>PA</td>\n      <td>0.24437</td>\n      <td>14.0</td>\n    </tr>\n  </tbody>\n</table>\n</div>"
     },
     "metadata": {},
     "output_type": "display_data"
    }
   ],
   "source": [
    "\n",
    "temp = df.loc[(df['modality'] == 'PA') & (df['img_clf_type'] == 'densenet'), ['modality',  'mean_AP', 'total_epochs', 'fixed_extractor']]\n",
    "display(temp.loc[temp['mean_AP'] == temp['mean_AP'].max()])\n",
    "\n",
    "temp = df.loc[(df['modality'] == 'PA') & (df['img_clf_type'] == 'resnet'), ['modality',  'mean_AP', 'total_epochs']]\n",
    "display(temp.loc[temp['mean_AP'] == temp['mean_AP'].max()])"
   ],
   "metadata": {
    "collapsed": false,
    "pycharm": {
     "name": "#%%\n"
    }
   }
  },
  {
   "cell_type": "code",
   "execution_count": 67,
   "outputs": [
    {
     "data": {
      "text/plain": "  modality   mean_AP  total_epochs\n6     text  0.609341          32.0",
      "text/html": "<div>\n<style scoped>\n    .dataframe tbody tr th:only-of-type {\n        vertical-align: middle;\n    }\n\n    .dataframe tbody tr th {\n        vertical-align: top;\n    }\n\n    .dataframe thead th {\n        text-align: right;\n    }\n</style>\n<table border=\"1\" class=\"dataframe\">\n  <thead>\n    <tr style=\"text-align: right;\">\n      <th></th>\n      <th>modality</th>\n      <th>mean_AP</th>\n      <th>total_epochs</th>\n    </tr>\n  </thead>\n  <tbody>\n    <tr>\n      <th>6</th>\n      <td>text</td>\n      <td>0.609341</td>\n      <td>32.0</td>\n    </tr>\n  </tbody>\n</table>\n</div>"
     },
     "metadata": {},
     "output_type": "display_data"
    },
    {
     "data": {
      "text/plain": "   modality   mean_AP  total_epochs\n54     text  0.673686           7.0",
      "text/html": "<div>\n<style scoped>\n    .dataframe tbody tr th:only-of-type {\n        vertical-align: middle;\n    }\n\n    .dataframe tbody tr th {\n        vertical-align: top;\n    }\n\n    .dataframe thead th {\n        text-align: right;\n    }\n</style>\n<table border=\"1\" class=\"dataframe\">\n  <thead>\n    <tr style=\"text-align: right;\">\n      <th></th>\n      <th>modality</th>\n      <th>mean_AP</th>\n      <th>total_epochs</th>\n    </tr>\n  </thead>\n  <tbody>\n    <tr>\n      <th>54</th>\n      <td>text</td>\n      <td>0.673686</td>\n      <td>7.0</td>\n    </tr>\n  </tbody>\n</table>\n</div>"
     },
     "metadata": {},
     "output_type": "display_data"
    }
   ],
   "source": [
    "temp = df.loc[(df['modality'] == 'text') & (df['img_clf_type'] == 'densenet'), ['modality',  'mean_AP', 'total_epochs']]\n",
    "display(temp.loc[temp['mean_AP'] == temp['mean_AP'].max()])\n",
    "\n",
    "temp = df.loc[(df['modality'] == 'text') & (df['img_clf_type'] == 'resnet'), ['modality',  'mean_AP', 'total_epochs']]\n",
    "display(temp.loc[temp['mean_AP'] == temp['mean_AP'].max()])"
   ],
   "metadata": {
    "collapsed": false,
    "pycharm": {
     "name": "#%%\n"
    }
   }
  },
  {
   "cell_type": "code",
   "execution_count": 68,
   "outputs": [
    {
     "data": {
      "text/plain": "  modality   mean_AP  total_epochs\n7  Lateral  0.370199           5.0",
      "text/html": "<div>\n<style scoped>\n    .dataframe tbody tr th:only-of-type {\n        vertical-align: middle;\n    }\n\n    .dataframe tbody tr th {\n        vertical-align: top;\n    }\n\n    .dataframe thead th {\n        text-align: right;\n    }\n</style>\n<table border=\"1\" class=\"dataframe\">\n  <thead>\n    <tr style=\"text-align: right;\">\n      <th></th>\n      <th>modality</th>\n      <th>mean_AP</th>\n      <th>total_epochs</th>\n    </tr>\n  </thead>\n  <tbody>\n    <tr>\n      <th>7</th>\n      <td>Lateral</td>\n      <td>0.370199</td>\n      <td>5.0</td>\n    </tr>\n  </tbody>\n</table>\n</div>"
     },
     "metadata": {},
     "output_type": "display_data"
    },
    {
     "data": {
      "text/plain": "   modality   mean_AP  total_epochs\n72  Lateral  0.107731          13.0\n73  Lateral  0.107731          13.0",
      "text/html": "<div>\n<style scoped>\n    .dataframe tbody tr th:only-of-type {\n        vertical-align: middle;\n    }\n\n    .dataframe tbody tr th {\n        vertical-align: top;\n    }\n\n    .dataframe thead th {\n        text-align: right;\n    }\n</style>\n<table border=\"1\" class=\"dataframe\">\n  <thead>\n    <tr style=\"text-align: right;\">\n      <th></th>\n      <th>modality</th>\n      <th>mean_AP</th>\n      <th>total_epochs</th>\n    </tr>\n  </thead>\n  <tbody>\n    <tr>\n      <th>72</th>\n      <td>Lateral</td>\n      <td>0.107731</td>\n      <td>13.0</td>\n    </tr>\n    <tr>\n      <th>73</th>\n      <td>Lateral</td>\n      <td>0.107731</td>\n      <td>13.0</td>\n    </tr>\n  </tbody>\n</table>\n</div>"
     },
     "metadata": {},
     "output_type": "display_data"
    }
   ],
   "source": [
    "temp = df.loc[(df['modality'] == 'Lateral') & (df['img_clf_type'] == 'densenet'), ['modality',  'mean_AP', 'total_epochs']]\n",
    "display(temp.loc[temp['mean_AP'] == temp['mean_AP'].max()])\n",
    "\n",
    "temp = df.loc[(df['modality'] == 'Lateral') & (df['img_clf_type'] == 'resnet'), ['modality',  'mean_AP', 'total_epochs']]\n",
    "display(temp.loc[temp['mean_AP'] == temp['mean_AP'].max()])"
   ],
   "metadata": {
    "collapsed": false,
    "pycharm": {
     "name": "#%%\n"
    }
   }
  },
  {
   "cell_type": "markdown",
   "source": [
    "# What works best for the densenet, transfer learning or fine-tuning?\n",
    "### Fine tuning works better"
   ],
   "metadata": {
    "collapsed": false,
    "pycharm": {
     "name": "#%% md\n"
    }
   }
  },
  {
   "cell_type": "code",
   "execution_count": 69,
   "outputs": [
    {
     "data": {
      "text/plain": "   modality   mean_AP  total_epochs  fixed_extractor\n67       PA  0.307301          50.0              1.0",
      "text/html": "<div>\n<style scoped>\n    .dataframe tbody tr th:only-of-type {\n        vertical-align: middle;\n    }\n\n    .dataframe tbody tr th {\n        vertical-align: top;\n    }\n\n    .dataframe thead th {\n        text-align: right;\n    }\n</style>\n<table border=\"1\" class=\"dataframe\">\n  <thead>\n    <tr style=\"text-align: right;\">\n      <th></th>\n      <th>modality</th>\n      <th>mean_AP</th>\n      <th>total_epochs</th>\n      <th>fixed_extractor</th>\n    </tr>\n  </thead>\n  <tbody>\n    <tr>\n      <th>67</th>\n      <td>PA</td>\n      <td>0.307301</td>\n      <td>50.0</td>\n      <td>1.0</td>\n    </tr>\n  </tbody>\n</table>\n</div>"
     },
     "metadata": {},
     "output_type": "display_data"
    },
    {
     "data": {
      "text/plain": "  modality   mean_AP  total_epochs  fixed_extractor\n7  Lateral  0.370199           5.0              NaN",
      "text/html": "<div>\n<style scoped>\n    .dataframe tbody tr th:only-of-type {\n        vertical-align: middle;\n    }\n\n    .dataframe tbody tr th {\n        vertical-align: top;\n    }\n\n    .dataframe thead th {\n        text-align: right;\n    }\n</style>\n<table border=\"1\" class=\"dataframe\">\n  <thead>\n    <tr style=\"text-align: right;\">\n      <th></th>\n      <th>modality</th>\n      <th>mean_AP</th>\n      <th>total_epochs</th>\n      <th>fixed_extractor</th>\n    </tr>\n  </thead>\n  <tbody>\n    <tr>\n      <th>7</th>\n      <td>Lateral</td>\n      <td>0.370199</td>\n      <td>5.0</td>\n      <td>NaN</td>\n    </tr>\n  </tbody>\n</table>\n</div>"
     },
     "metadata": {},
     "output_type": "display_data"
    }
   ],
   "source": [
    "temp =df.loc[((df['img_clf_type'] == 'densenet') & (df['modality'] != 'text')&(df['fixed_extractor'] == 1.0)), ['modality', 'mean_AP', 'total_epochs', 'fixed_extractor']]\n",
    "display(temp.loc[temp['mean_AP'] == temp['mean_AP'].max()])\n",
    "\n",
    "temp =df.loc[((df['img_clf_type'] == 'densenet') & (df['modality'] != 'text')&(df['fixed_extractor'] != 1.0)), ['modality', 'mean_AP', 'total_epochs', 'fixed_extractor']]\n",
    "display(temp.loc[temp['mean_AP'] == temp['mean_AP'].max()])"
   ],
   "metadata": {
    "collapsed": false,
    "pycharm": {
     "name": "#%%\n"
    }
   }
  },
  {
   "cell_type": "markdown",
   "source": [
    "# Does a bigger image size improve the score by a lot?"
   ],
   "metadata": {
    "collapsed": false,
    "pycharm": {
     "name": "#%% md\n",
     "is_executing": true
    }
   }
  },
  {
   "cell_type": "code",
   "execution_count": 73,
   "outputs": [
    {
     "data": {
      "text/plain": "   modality  mean_AP  total_epochs  fixed_extractor\n19       PA  0.36311           7.0              NaN",
      "text/html": "<div>\n<style scoped>\n    .dataframe tbody tr th:only-of-type {\n        vertical-align: middle;\n    }\n\n    .dataframe tbody tr th {\n        vertical-align: top;\n    }\n\n    .dataframe thead th {\n        text-align: right;\n    }\n</style>\n<table border=\"1\" class=\"dataframe\">\n  <thead>\n    <tr style=\"text-align: right;\">\n      <th></th>\n      <th>modality</th>\n      <th>mean_AP</th>\n      <th>total_epochs</th>\n      <th>fixed_extractor</th>\n    </tr>\n  </thead>\n  <tbody>\n    <tr>\n      <th>19</th>\n      <td>PA</td>\n      <td>0.36311</td>\n      <td>7.0</td>\n      <td>NaN</td>\n    </tr>\n  </tbody>\n</table>\n</div>"
     },
     "metadata": {},
     "output_type": "display_data"
    },
    {
     "data": {
      "text/plain": "   modality   mean_AP  total_epochs  fixed_extractor\n83      NaN  0.679154           1.0              1.0",
      "text/html": "<div>\n<style scoped>\n    .dataframe tbody tr th:only-of-type {\n        vertical-align: middle;\n    }\n\n    .dataframe tbody tr th {\n        vertical-align: top;\n    }\n\n    .dataframe thead th {\n        text-align: right;\n    }\n</style>\n<table border=\"1\" class=\"dataframe\">\n  <thead>\n    <tr style=\"text-align: right;\">\n      <th></th>\n      <th>modality</th>\n      <th>mean_AP</th>\n      <th>total_epochs</th>\n      <th>fixed_extractor</th>\n    </tr>\n  </thead>\n  <tbody>\n    <tr>\n      <th>83</th>\n      <td>NaN</td>\n      <td>0.679154</td>\n      <td>1.0</td>\n      <td>1.0</td>\n    </tr>\n  </tbody>\n</table>\n</div>"
     },
     "metadata": {},
     "output_type": "display_data"
    }
   ],
   "source": [
    "temp = df.loc[((df['img_size'] == 128) & (df['modality'] != 'text')), ['modality', 'mean_AP', 'total_epochs', 'fixed_extractor']]\n",
    "display(temp.loc[temp['mean_AP'] == temp['mean_AP'].max()])\n",
    "\n",
    "temp = df.loc[((df['img_size'] == 256) & (df['modality'] != 'text')), ['modality', 'mean_AP', 'total_epochs', 'fixed_extractor']]\n",
    "display(temp.loc[temp['mean_AP'] == temp['mean_AP'].max()])"
   ],
   "metadata": {
    "collapsed": false,
    "pycharm": {
     "name": "#%%\n"
    }
   }
  },
  {
   "cell_type": "code",
   "execution_count": null,
   "outputs": [],
   "source": [
    "# Does a larger\n"
   ],
   "metadata": {
    "collapsed": false,
    "pycharm": {
     "name": "#%%\n"
    }
   }
  }
 ],
 "metadata": {
  "kernelspec": {
   "display_name": "Python 3",
   "language": "python",
   "name": "python3"
  },
  "language_info": {
   "codemirror_mode": {
    "name": "ipython",
    "version": 2
   },
   "file_extension": ".py",
   "mimetype": "text/x-python",
   "name": "python",
   "nbconvert_exporter": "python",
   "pygments_lexer": "ipython2",
   "version": "2.7.6"
  }
 },
 "nbformat": 4,
 "nbformat_minor": 0
}