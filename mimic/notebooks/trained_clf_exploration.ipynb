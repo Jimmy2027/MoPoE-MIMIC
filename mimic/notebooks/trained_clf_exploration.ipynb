{
 "cells": [
  {
   "cell_type": "code",
   "execution_count": 1,
   "metadata": {
    "collapsed": true
   },
   "outputs": [],
   "source": [
    "import pandas as pd\n",
    "from pathlib import Path\n",
    "import os\n",
    "import numpy as np"
   ]
  },
  {
   "cell_type": "code",
   "execution_count": 2,
   "outputs": [],
   "source": [
    "experiments_dataframe_path = Path(os.path.abspath(\"trained_clf_exploration.ipynb\")).parent.parent / 'clf_experiments_dataframe_bartholin.csv'"
   ],
   "metadata": {
    "collapsed": false,
    "pycharm": {
     "name": "#%%\n"
    }
   }
  },
  {
   "cell_type": "code",
   "execution_count": 7,
   "outputs": [
    {
     "name": "stdout",
     "output_type": "stream",
     "text": [
      "['DIM_img', 'DIM_text', 'alpha_modalities', 'alphabet', 'batch_size', 'beta', 'beta_1', 'beta_2', 'beta_content', 'beta_m1_style', 'beta_m2_style', 'beta_m3_style', 'beta_style', 'calc_nll', 'calc_prd', 'class_dim', 'clf_experiment_uid', 'clf_loss', 'clf_save_m1', 'clf_save_m2', 'clf_save_m3', 'config_path', 'dataloader_workers', 'dataset', 'decoder_save_m1', 'decoder_save_m2', 'decoder_save_m3', 'device', 'dir_clf', 'dir_data', 'dir_experiment', 'dir_fid', 'dir_logs_clf', 'distributed', 'div_weight_m1_content', 'div_weight_m2_content', 'div_weight_m3_content', 'div_weight_uniform_content', 'encoder_save_m1', 'encoder_save_m2', 'encoder_save_m3', 'end_epoch', 'eval_freq', 'eval_freq_fid', 'eval_lr', 'exp_str_prefix', 'experiment_uid', 'factorized_representation', 'feature_extractor_img', 'fixed_extractor', 'fixed_image_extractor', 'image_channels', 'img_clf_type', 'img_size', 'inception_state_dict', 'initial_learning_rate', 'joint_elbo', 'len_sequence', 'likelihood_m1', 'likelihood_m2', 'likelihood_m3', 'load_flags', 'load_saved', 'log_file', 'max_early_stopping_index', 'method', 'mm_vae_save', 'modality', 'modality_jsd', 'modality_moe', 'modality_poe', 'n_crops', 'normalization', 'num_features', 'num_samples_fid', 'num_training_samples_lr', 'only_text_modality', 'poe_unimodal_elbos', 'rec_weight_m1', 'rec_weight_m2', 'rec_weight_m3', 'reduce_lr_on_plateau', 'save_figure', 'start_early_stopping_epoch', 'start_epoch', 'steps_per_training_epoch', 'style_lat_dim', 'style_pa_dim', 'style_text_dim', 'text_clf_type', 'text_encoding', 'undersample_dataset', 'use_clf', 'use_toy_dataset', 'verbose', 'weighted_sampler', 'which_grid', 'word_min_occ', 'experiment_duration', 'total_epochs', 'mean_eval_loss', 'accuracy', 'recall', 'specificity', 'precision', 'f1', 'jaccard', 'dice', 'mean_AP_Lung Opacity', 'mean_AP_Pleural Effusion', 'mean_AP_Support Devices', 'mean_AP_total', 'pred_count_Lung Opacity', 'pred_count_Pleural Effusion', 'pred_count_Support Devices', 'gt_count_Lung Opacity', 'gt_count_Pleural Effusion', 'gt_count_Support Devices', 'eval_loss', 'mean_epoch_time', 'binary_labels', 'mean_AP_Finding', 'pred_count_Finding', 'gt_count_Finding']\n"
     ]
    }
   ],
   "source": [
    "df = pd.read_csv(experiments_dataframe_path)\n",
    "\n",
    "print(df.columns.tolist())"
   ],
   "metadata": {
    "collapsed": false,
    "pycharm": {
     "name": "#%%\n"
    }
   }
  },
  {
   "cell_type": "code",
   "execution_count": 11,
   "outputs": [],
   "source": [
    "eval_columns = ['dice', 'mean_AP_total', 'precision', 'specificity', 'accuracy']"
   ],
   "metadata": {
    "collapsed": false,
    "pycharm": {
     "name": "#%%\n"
    }
   }
  },
  {
   "cell_type": "markdown",
   "source": [
    "# Best methods for bin labels"
   ],
   "metadata": {
    "collapsed": false,
    "pycharm": {
     "name": "#%% md\n"
    }
   }
  },
  {
   "cell_type": "code",
   "execution_count": 12,
   "outputs": [
    {
     "data": {
      "text/plain": "        mean  pred_count_Finding  gt_count_Finding img_clf_type  \\\n15  0.551575               205.0             115.0     densenet   \n13  0.545566               257.0             115.0     densenet   \n10  0.543623               295.0             115.0     densenet   \n9   0.532362               206.0             115.0       resnet   \n11  0.524261               176.0             115.0     densenet   \n14  0.475723               487.0             115.0       resnet   \n16  0.475723               487.0             115.0     densenet   \n17  0.475723               487.0             115.0     densenet   \n19  0.475723               487.0             115.0       resnet   \n\n    mean_AP_total  mean_AP_total clf_loss  initial_learning_rate  \\\n15       0.532923       0.532923     dice                 0.0010   \n13       0.625190       0.625190     dice                 0.0010   \n10       0.695179       0.695179     dice                 0.0001   \n9        0.515161       0.515161     dice                 0.0001   \n11       0.450224       0.450224     dice                 0.0001   \n14       1.000000       1.000000     dice                 0.0010   \n16       1.000000       1.000000     dice                 0.1000   \n17       1.000000       1.000000     dice                 0.1000   \n19       1.000000       1.000000     dice                 0.1000   \n\n    weighted_sampler  binary_labels modality text_encoding  total_epochs  \\\n15               0.0            1.0       PA          char          19.0   \n13               1.0            1.0       PA          char          12.0   \n10               1.0            1.0       PA          char          21.0   \n9                1.0            1.0       PA          char          17.0   \n11               0.0            1.0       PA          char           7.0   \n14               1.0            1.0       PA          char          99.0   \n16               1.0            1.0       PA          char          99.0   \n17               0.0            1.0       PA          char          99.0   \n19               1.0            1.0       PA          char          99.0   \n\n        dice  mean_AP_total  mean_AP_total  precision  specificity  accuracy  \n15  0.506250       0.532923       0.532923   0.395122     0.666667  0.675565  \n13  0.494624       0.625190       0.625190   0.357977     0.556452  0.613963  \n10  0.487805       0.695179       0.695179   0.338983     0.475806  0.568789  \n9   0.479751       0.515161       0.515161   0.373786     0.653226  0.657084  \n11  0.467354       0.450224       0.450224   0.386364     0.709677  0.681725  \n14  0.382060       1.000000       1.000000   0.236140     0.000000  0.236140  \n16  0.382060       1.000000       1.000000   0.236140     0.000000  0.236140  \n17  0.382060       1.000000       1.000000   0.236140     0.000000  0.236140  \n19  0.382060       1.000000       1.000000   0.236140     0.000000  0.236140  ",
      "text/html": "<div>\n<style scoped>\n    .dataframe tbody tr th:only-of-type {\n        vertical-align: middle;\n    }\n\n    .dataframe tbody tr th {\n        vertical-align: top;\n    }\n\n    .dataframe thead th {\n        text-align: right;\n    }\n</style>\n<table border=\"1\" class=\"dataframe\">\n  <thead>\n    <tr style=\"text-align: right;\">\n      <th></th>\n      <th>mean</th>\n      <th>pred_count_Finding</th>\n      <th>gt_count_Finding</th>\n      <th>img_clf_type</th>\n      <th>mean_AP_total</th>\n      <th>mean_AP_total</th>\n      <th>clf_loss</th>\n      <th>initial_learning_rate</th>\n      <th>weighted_sampler</th>\n      <th>binary_labels</th>\n      <th>modality</th>\n      <th>text_encoding</th>\n      <th>total_epochs</th>\n      <th>dice</th>\n      <th>mean_AP_total</th>\n      <th>mean_AP_total</th>\n      <th>precision</th>\n      <th>specificity</th>\n      <th>accuracy</th>\n    </tr>\n  </thead>\n  <tbody>\n    <tr>\n      <th>15</th>\n      <td>0.551575</td>\n      <td>205.0</td>\n      <td>115.0</td>\n      <td>densenet</td>\n      <td>0.532923</td>\n      <td>0.532923</td>\n      <td>dice</td>\n      <td>0.0010</td>\n      <td>0.0</td>\n      <td>1.0</td>\n      <td>PA</td>\n      <td>char</td>\n      <td>19.0</td>\n      <td>0.506250</td>\n      <td>0.532923</td>\n      <td>0.532923</td>\n      <td>0.395122</td>\n      <td>0.666667</td>\n      <td>0.675565</td>\n    </tr>\n    <tr>\n      <th>13</th>\n      <td>0.545566</td>\n      <td>257.0</td>\n      <td>115.0</td>\n      <td>densenet</td>\n      <td>0.625190</td>\n      <td>0.625190</td>\n      <td>dice</td>\n      <td>0.0010</td>\n      <td>1.0</td>\n      <td>1.0</td>\n      <td>PA</td>\n      <td>char</td>\n      <td>12.0</td>\n      <td>0.494624</td>\n      <td>0.625190</td>\n      <td>0.625190</td>\n      <td>0.357977</td>\n      <td>0.556452</td>\n      <td>0.613963</td>\n    </tr>\n    <tr>\n      <th>10</th>\n      <td>0.543623</td>\n      <td>295.0</td>\n      <td>115.0</td>\n      <td>densenet</td>\n      <td>0.695179</td>\n      <td>0.695179</td>\n      <td>dice</td>\n      <td>0.0001</td>\n      <td>1.0</td>\n      <td>1.0</td>\n      <td>PA</td>\n      <td>char</td>\n      <td>21.0</td>\n      <td>0.487805</td>\n      <td>0.695179</td>\n      <td>0.695179</td>\n      <td>0.338983</td>\n      <td>0.475806</td>\n      <td>0.568789</td>\n    </tr>\n    <tr>\n      <th>9</th>\n      <td>0.532362</td>\n      <td>206.0</td>\n      <td>115.0</td>\n      <td>resnet</td>\n      <td>0.515161</td>\n      <td>0.515161</td>\n      <td>dice</td>\n      <td>0.0001</td>\n      <td>1.0</td>\n      <td>1.0</td>\n      <td>PA</td>\n      <td>char</td>\n      <td>17.0</td>\n      <td>0.479751</td>\n      <td>0.515161</td>\n      <td>0.515161</td>\n      <td>0.373786</td>\n      <td>0.653226</td>\n      <td>0.657084</td>\n    </tr>\n    <tr>\n      <th>11</th>\n      <td>0.524261</td>\n      <td>176.0</td>\n      <td>115.0</td>\n      <td>densenet</td>\n      <td>0.450224</td>\n      <td>0.450224</td>\n      <td>dice</td>\n      <td>0.0001</td>\n      <td>0.0</td>\n      <td>1.0</td>\n      <td>PA</td>\n      <td>char</td>\n      <td>7.0</td>\n      <td>0.467354</td>\n      <td>0.450224</td>\n      <td>0.450224</td>\n      <td>0.386364</td>\n      <td>0.709677</td>\n      <td>0.681725</td>\n    </tr>\n    <tr>\n      <th>14</th>\n      <td>0.475723</td>\n      <td>487.0</td>\n      <td>115.0</td>\n      <td>resnet</td>\n      <td>1.000000</td>\n      <td>1.000000</td>\n      <td>dice</td>\n      <td>0.0010</td>\n      <td>1.0</td>\n      <td>1.0</td>\n      <td>PA</td>\n      <td>char</td>\n      <td>99.0</td>\n      <td>0.382060</td>\n      <td>1.000000</td>\n      <td>1.000000</td>\n      <td>0.236140</td>\n      <td>0.000000</td>\n      <td>0.236140</td>\n    </tr>\n    <tr>\n      <th>16</th>\n      <td>0.475723</td>\n      <td>487.0</td>\n      <td>115.0</td>\n      <td>densenet</td>\n      <td>1.000000</td>\n      <td>1.000000</td>\n      <td>dice</td>\n      <td>0.1000</td>\n      <td>1.0</td>\n      <td>1.0</td>\n      <td>PA</td>\n      <td>char</td>\n      <td>99.0</td>\n      <td>0.382060</td>\n      <td>1.000000</td>\n      <td>1.000000</td>\n      <td>0.236140</td>\n      <td>0.000000</td>\n      <td>0.236140</td>\n    </tr>\n    <tr>\n      <th>17</th>\n      <td>0.475723</td>\n      <td>487.0</td>\n      <td>115.0</td>\n      <td>densenet</td>\n      <td>1.000000</td>\n      <td>1.000000</td>\n      <td>dice</td>\n      <td>0.1000</td>\n      <td>0.0</td>\n      <td>1.0</td>\n      <td>PA</td>\n      <td>char</td>\n      <td>99.0</td>\n      <td>0.382060</td>\n      <td>1.000000</td>\n      <td>1.000000</td>\n      <td>0.236140</td>\n      <td>0.000000</td>\n      <td>0.236140</td>\n    </tr>\n    <tr>\n      <th>19</th>\n      <td>0.475723</td>\n      <td>487.0</td>\n      <td>115.0</td>\n      <td>resnet</td>\n      <td>1.000000</td>\n      <td>1.000000</td>\n      <td>dice</td>\n      <td>0.1000</td>\n      <td>1.0</td>\n      <td>1.0</td>\n      <td>PA</td>\n      <td>char</td>\n      <td>99.0</td>\n      <td>0.382060</td>\n      <td>1.000000</td>\n      <td>1.000000</td>\n      <td>0.236140</td>\n      <td>0.000000</td>\n      <td>0.236140</td>\n    </tr>\n  </tbody>\n</table>\n</div>"
     },
     "execution_count": 12,
     "metadata": {},
     "output_type": "execute_result"
    }
   ],
   "source": [
    "show_cols = ['pred_count_Finding', 'gt_count_Finding', 'img_clf_type', 'mean_AP_total', 'clf_loss','initial_learning_rate', 'weighted_sampler','binary_labels', 'modality', 'text_encoding', 'total_epochs',*eval_columns ]\n",
    "temp_exp_df = df.dropna(subset= [*eval_columns])\n",
    "\n",
    "sub_df = temp_exp_df.loc[(temp_exp_df['binary_labels'] == 1)& (temp_exp_df['total_epochs'] > 4), show_cols]\n",
    "df_stats = sub_df[[ *eval_columns]].apply(pd.DataFrame.describe, axis=1)\n",
    "\n",
    "sub_dfdf = sub_df.merge(df_stats, left_index=True, right_index = True)\n",
    "sub_dfdf[['mean',*show_cols]].sort_values(by=['mean'], ascending=False)"
   ],
   "metadata": {
    "collapsed": false,
    "pycharm": {
     "name": "#%%\n"
    }
   }
  },
  {
   "cell_type": "markdown",
   "source": [
    "# Best methods for 3 labels"
   ],
   "metadata": {
    "collapsed": false,
    "pycharm": {
     "name": "#%% md\n"
    }
   }
  },
  {
   "cell_type": "code",
   "execution_count": 13,
   "outputs": [
    {
     "data": {
      "text/plain": "       mean clf_loss  initial_learning_rate  weighted_sampler  binary_labels  \\\n5  0.517090     dice                 0.0010               0.0            NaN   \n3  0.510575     dice                 0.0001               0.0            NaN   \n2  0.459846     dice                 0.0001               1.0            NaN   \n4  0.445229     dice                 0.0010               1.0            NaN   \n1  0.436213     dice                 0.0001               1.0            NaN   \n\n  modality  total_epochs      dice  mean_AP_total  precision  specificity  \\\n5       PA          12.0  0.316279       0.165604   0.274194     0.932534   \n3       PA          22.0  0.297030       0.145942   0.270270     0.939280   \n2       PA           9.0  0.230769       0.175054   0.169231     0.878561   \n4       PA           1.0  0.248996       0.345893   0.152334     0.741379   \n1       PA           9.0  0.240296       0.373350   0.144444     0.711394   \n\n   accuracy  \n5  0.896842  \n3  0.900351  \n2  0.845614  \n4  0.737544  \n1  0.711579  ",
      "text/html": "<div>\n<style scoped>\n    .dataframe tbody tr th:only-of-type {\n        vertical-align: middle;\n    }\n\n    .dataframe tbody tr th {\n        vertical-align: top;\n    }\n\n    .dataframe thead th {\n        text-align: right;\n    }\n</style>\n<table border=\"1\" class=\"dataframe\">\n  <thead>\n    <tr style=\"text-align: right;\">\n      <th></th>\n      <th>mean</th>\n      <th>clf_loss</th>\n      <th>initial_learning_rate</th>\n      <th>weighted_sampler</th>\n      <th>binary_labels</th>\n      <th>modality</th>\n      <th>total_epochs</th>\n      <th>dice</th>\n      <th>mean_AP_total</th>\n      <th>precision</th>\n      <th>specificity</th>\n      <th>accuracy</th>\n    </tr>\n  </thead>\n  <tbody>\n    <tr>\n      <th>5</th>\n      <td>0.517090</td>\n      <td>dice</td>\n      <td>0.0010</td>\n      <td>0.0</td>\n      <td>NaN</td>\n      <td>PA</td>\n      <td>12.0</td>\n      <td>0.316279</td>\n      <td>0.165604</td>\n      <td>0.274194</td>\n      <td>0.932534</td>\n      <td>0.896842</td>\n    </tr>\n    <tr>\n      <th>3</th>\n      <td>0.510575</td>\n      <td>dice</td>\n      <td>0.0001</td>\n      <td>0.0</td>\n      <td>NaN</td>\n      <td>PA</td>\n      <td>22.0</td>\n      <td>0.297030</td>\n      <td>0.145942</td>\n      <td>0.270270</td>\n      <td>0.939280</td>\n      <td>0.900351</td>\n    </tr>\n    <tr>\n      <th>2</th>\n      <td>0.459846</td>\n      <td>dice</td>\n      <td>0.0001</td>\n      <td>1.0</td>\n      <td>NaN</td>\n      <td>PA</td>\n      <td>9.0</td>\n      <td>0.230769</td>\n      <td>0.175054</td>\n      <td>0.169231</td>\n      <td>0.878561</td>\n      <td>0.845614</td>\n    </tr>\n    <tr>\n      <th>4</th>\n      <td>0.445229</td>\n      <td>dice</td>\n      <td>0.0010</td>\n      <td>1.0</td>\n      <td>NaN</td>\n      <td>PA</td>\n      <td>1.0</td>\n      <td>0.248996</td>\n      <td>0.345893</td>\n      <td>0.152334</td>\n      <td>0.741379</td>\n      <td>0.737544</td>\n    </tr>\n    <tr>\n      <th>1</th>\n      <td>0.436213</td>\n      <td>dice</td>\n      <td>0.0001</td>\n      <td>1.0</td>\n      <td>NaN</td>\n      <td>PA</td>\n      <td>9.0</td>\n      <td>0.240296</td>\n      <td>0.373350</td>\n      <td>0.144444</td>\n      <td>0.711394</td>\n      <td>0.711579</td>\n    </tr>\n  </tbody>\n</table>\n</div>"
     },
     "execution_count": 13,
     "metadata": {},
     "output_type": "execute_result"
    }
   ],
   "source": [
    "show_cols = ['clf_loss','initial_learning_rate', 'weighted_sampler','binary_labels', 'modality', 'total_epochs',*eval_columns ]\n",
    "temp_exp_df = df.dropna(subset= [*eval_columns])\n",
    "\n",
    "sub_df = temp_exp_df.loc[(temp_exp_df['binary_labels'] != 1), show_cols]\n",
    "df_stats = sub_df[[ *eval_columns]].apply(pd.DataFrame.describe, axis=1)\n",
    "\n",
    "sub_dfdf = sub_df.merge(df_stats, left_index=True, right_index = True)\n",
    "sub_dfdf[['mean',*show_cols]].sort_values(by=['mean'], ascending=False)"
   ],
   "metadata": {
    "collapsed": false,
    "pycharm": {
     "name": "#%%\n"
    }
   }
  },
  {
   "cell_type": "markdown",
   "source": [
    "# Which method has the highest average precision?\n",
    "### modality text with word encoding"
   ],
   "metadata": {
    "collapsed": false,
    "pycharm": {
     "name": "#%% md\n"
    }
   }
  },
  {
   "cell_type": "code",
   "execution_count": 8,
   "outputs": [
    {
     "name": "stdout",
     "output_type": "stream",
     "text": [
      "0.5062499984179688\n"
     ]
    },
    {
     "data": {
      "text/plain": "    weighted_sampler  binary_labels modality text_encoding  total_epochs  \\\n12               0.0            1.0       PA          char           3.0   \n15               0.0            1.0       PA          char          19.0   \n\n       dice  \n12  0.50625  \n15  0.50625  ",
      "text/html": "<div>\n<style scoped>\n    .dataframe tbody tr th:only-of-type {\n        vertical-align: middle;\n    }\n\n    .dataframe tbody tr th {\n        vertical-align: top;\n    }\n\n    .dataframe thead th {\n        text-align: right;\n    }\n</style>\n<table border=\"1\" class=\"dataframe\">\n  <thead>\n    <tr style=\"text-align: right;\">\n      <th></th>\n      <th>weighted_sampler</th>\n      <th>binary_labels</th>\n      <th>modality</th>\n      <th>text_encoding</th>\n      <th>total_epochs</th>\n      <th>dice</th>\n    </tr>\n  </thead>\n  <tbody>\n    <tr>\n      <th>12</th>\n      <td>0.0</td>\n      <td>1.0</td>\n      <td>PA</td>\n      <td>char</td>\n      <td>3.0</td>\n      <td>0.50625</td>\n    </tr>\n    <tr>\n      <th>15</th>\n      <td>0.0</td>\n      <td>1.0</td>\n      <td>PA</td>\n      <td>char</td>\n      <td>19.0</td>\n      <td>0.50625</td>\n    </tr>\n  </tbody>\n</table>\n</div>"
     },
     "execution_count": 8,
     "metadata": {},
     "output_type": "execute_result"
    }
   ],
   "source": [
    "print(np.max(df['dice']))\n",
    "df.loc[df['dice'] == np.max(df['dice']), ['weighted_sampler','binary_labels', 'modality', 'text_encoding', 'total_epochs', 'dice']]"
   ],
   "metadata": {
    "collapsed": false,
    "pycharm": {
     "name": "#%%\n"
    }
   }
  },
  {
   "cell_type": "markdown",
   "source": [
    "# Overall the densenet performs better than the resnet\n",
    "### If the fixed_extractor is NaN of False, the whole densenet was trained (fine_tuning). If true, the extractor part was frozen (transfer-learning)."
   ],
   "metadata": {
    "collapsed": false,
    "pycharm": {
     "name": "#%% md\n"
    }
   }
  },
  {
   "cell_type": "code",
   "execution_count": 66,
   "outputs": [
    {
     "data": {
      "text/plain": "   modality  mean_AP  total_epochs  fixed_extractor\n19       PA  0.36311           7.0              NaN",
      "text/html": "<div>\n<style scoped>\n    .dataframe tbody tr th:only-of-type {\n        vertical-align: middle;\n    }\n\n    .dataframe tbody tr th {\n        vertical-align: top;\n    }\n\n    .dataframe thead th {\n        text-align: right;\n    }\n</style>\n<table border=\"1\" class=\"dataframe\">\n  <thead>\n    <tr style=\"text-align: right;\">\n      <th></th>\n      <th>modality</th>\n      <th>mean_AP</th>\n      <th>total_epochs</th>\n      <th>fixed_extractor</th>\n    </tr>\n  </thead>\n  <tbody>\n    <tr>\n      <th>19</th>\n      <td>PA</td>\n      <td>0.36311</td>\n      <td>7.0</td>\n      <td>NaN</td>\n    </tr>\n  </tbody>\n</table>\n</div>"
     },
     "metadata": {},
     "output_type": "display_data"
    },
    {
     "data": {
      "text/plain": "   modality  mean_AP  total_epochs\n18       PA  0.24437          14.0",
      "text/html": "<div>\n<style scoped>\n    .dataframe tbody tr th:only-of-type {\n        vertical-align: middle;\n    }\n\n    .dataframe tbody tr th {\n        vertical-align: top;\n    }\n\n    .dataframe thead th {\n        text-align: right;\n    }\n</style>\n<table border=\"1\" class=\"dataframe\">\n  <thead>\n    <tr style=\"text-align: right;\">\n      <th></th>\n      <th>modality</th>\n      <th>mean_AP</th>\n      <th>total_epochs</th>\n    </tr>\n  </thead>\n  <tbody>\n    <tr>\n      <th>18</th>\n      <td>PA</td>\n      <td>0.24437</td>\n      <td>14.0</td>\n    </tr>\n  </tbody>\n</table>\n</div>"
     },
     "metadata": {},
     "output_type": "display_data"
    }
   ],
   "source": [
    "\n",
    "temp = df.loc[(df['modality'] == 'PA') & (df['img_clf_type'] == 'densenet'), ['modality',  'mean_AP', 'total_epochs', 'fixed_extractor']]\n",
    "display(temp.loc[temp['mean_AP'] == temp['mean_AP'].max()])\n",
    "\n",
    "temp = df.loc[(df['modality'] == 'PA') & (df['img_clf_type'] == 'resnet'), ['modality',  'mean_AP', 'total_epochs']]\n",
    "display(temp.loc[temp['mean_AP'] == temp['mean_AP'].max()])"
   ],
   "metadata": {
    "collapsed": false,
    "pycharm": {
     "name": "#%%\n"
    }
   }
  },
  {
   "cell_type": "code",
   "execution_count": 67,
   "outputs": [
    {
     "data": {
      "text/plain": "  modality   mean_AP  total_epochs\n6     text  0.609341          32.0",
      "text/html": "<div>\n<style scoped>\n    .dataframe tbody tr th:only-of-type {\n        vertical-align: middle;\n    }\n\n    .dataframe tbody tr th {\n        vertical-align: top;\n    }\n\n    .dataframe thead th {\n        text-align: right;\n    }\n</style>\n<table border=\"1\" class=\"dataframe\">\n  <thead>\n    <tr style=\"text-align: right;\">\n      <th></th>\n      <th>modality</th>\n      <th>mean_AP</th>\n      <th>total_epochs</th>\n    </tr>\n  </thead>\n  <tbody>\n    <tr>\n      <th>6</th>\n      <td>text</td>\n      <td>0.609341</td>\n      <td>32.0</td>\n    </tr>\n  </tbody>\n</table>\n</div>"
     },
     "metadata": {},
     "output_type": "display_data"
    },
    {
     "data": {
      "text/plain": "   modality   mean_AP  total_epochs\n54     text  0.673686           7.0",
      "text/html": "<div>\n<style scoped>\n    .dataframe tbody tr th:only-of-type {\n        vertical-align: middle;\n    }\n\n    .dataframe tbody tr th {\n        vertical-align: top;\n    }\n\n    .dataframe thead th {\n        text-align: right;\n    }\n</style>\n<table border=\"1\" class=\"dataframe\">\n  <thead>\n    <tr style=\"text-align: right;\">\n      <th></th>\n      <th>modality</th>\n      <th>mean_AP</th>\n      <th>total_epochs</th>\n    </tr>\n  </thead>\n  <tbody>\n    <tr>\n      <th>54</th>\n      <td>text</td>\n      <td>0.673686</td>\n      <td>7.0</td>\n    </tr>\n  </tbody>\n</table>\n</div>"
     },
     "metadata": {},
     "output_type": "display_data"
    }
   ],
   "source": [
    "temp = df.loc[(df['modality'] == 'text') & (df['img_clf_type'] == 'densenet'), ['modality',  'mean_AP', 'total_epochs']]\n",
    "display(temp.loc[temp['mean_AP'] == temp['mean_AP'].max()])\n",
    "\n",
    "temp = df.loc[(df['modality'] == 'text') & (df['img_clf_type'] == 'resnet'), ['modality',  'mean_AP', 'total_epochs']]\n",
    "display(temp.loc[temp['mean_AP'] == temp['mean_AP'].max()])"
   ],
   "metadata": {
    "collapsed": false,
    "pycharm": {
     "name": "#%%\n"
    }
   }
  },
  {
   "cell_type": "code",
   "execution_count": 68,
   "outputs": [
    {
     "data": {
      "text/plain": "  modality   mean_AP  total_epochs\n7  Lateral  0.370199           5.0",
      "text/html": "<div>\n<style scoped>\n    .dataframe tbody tr th:only-of-type {\n        vertical-align: middle;\n    }\n\n    .dataframe tbody tr th {\n        vertical-align: top;\n    }\n\n    .dataframe thead th {\n        text-align: right;\n    }\n</style>\n<table border=\"1\" class=\"dataframe\">\n  <thead>\n    <tr style=\"text-align: right;\">\n      <th></th>\n      <th>modality</th>\n      <th>mean_AP</th>\n      <th>total_epochs</th>\n    </tr>\n  </thead>\n  <tbody>\n    <tr>\n      <th>7</th>\n      <td>Lateral</td>\n      <td>0.370199</td>\n      <td>5.0</td>\n    </tr>\n  </tbody>\n</table>\n</div>"
     },
     "metadata": {},
     "output_type": "display_data"
    },
    {
     "data": {
      "text/plain": "   modality   mean_AP  total_epochs\n72  Lateral  0.107731          13.0\n73  Lateral  0.107731          13.0",
      "text/html": "<div>\n<style scoped>\n    .dataframe tbody tr th:only-of-type {\n        vertical-align: middle;\n    }\n\n    .dataframe tbody tr th {\n        vertical-align: top;\n    }\n\n    .dataframe thead th {\n        text-align: right;\n    }\n</style>\n<table border=\"1\" class=\"dataframe\">\n  <thead>\n    <tr style=\"text-align: right;\">\n      <th></th>\n      <th>modality</th>\n      <th>mean_AP</th>\n      <th>total_epochs</th>\n    </tr>\n  </thead>\n  <tbody>\n    <tr>\n      <th>72</th>\n      <td>Lateral</td>\n      <td>0.107731</td>\n      <td>13.0</td>\n    </tr>\n    <tr>\n      <th>73</th>\n      <td>Lateral</td>\n      <td>0.107731</td>\n      <td>13.0</td>\n    </tr>\n  </tbody>\n</table>\n</div>"
     },
     "metadata": {},
     "output_type": "display_data"
    }
   ],
   "source": [
    "temp = df.loc[(df['modality'] == 'Lateral') & (df['img_clf_type'] == 'densenet'), ['modality',  'mean_AP', 'total_epochs']]\n",
    "display(temp.loc[temp['mean_AP'] == temp['mean_AP'].max()])\n",
    "\n",
    "temp = df.loc[(df['modality'] == 'Lateral') & (df['img_clf_type'] == 'resnet'), ['modality',  'mean_AP', 'total_epochs']]\n",
    "display(temp.loc[temp['mean_AP'] == temp['mean_AP'].max()])"
   ],
   "metadata": {
    "collapsed": false,
    "pycharm": {
     "name": "#%%\n"
    }
   }
  },
  {
   "cell_type": "markdown",
   "source": [
    "# What works best for the densenet, transfer learning or fine-tuning?\n",
    "### Fine tuning works better"
   ],
   "metadata": {
    "collapsed": false,
    "pycharm": {
     "name": "#%% md\n"
    }
   }
  },
  {
   "cell_type": "code",
   "execution_count": 69,
   "outputs": [
    {
     "data": {
      "text/plain": "   modality   mean_AP  total_epochs  fixed_extractor\n67       PA  0.307301          50.0              1.0",
      "text/html": "<div>\n<style scoped>\n    .dataframe tbody tr th:only-of-type {\n        vertical-align: middle;\n    }\n\n    .dataframe tbody tr th {\n        vertical-align: top;\n    }\n\n    .dataframe thead th {\n        text-align: right;\n    }\n</style>\n<table border=\"1\" class=\"dataframe\">\n  <thead>\n    <tr style=\"text-align: right;\">\n      <th></th>\n      <th>modality</th>\n      <th>mean_AP</th>\n      <th>total_epochs</th>\n      <th>fixed_extractor</th>\n    </tr>\n  </thead>\n  <tbody>\n    <tr>\n      <th>67</th>\n      <td>PA</td>\n      <td>0.307301</td>\n      <td>50.0</td>\n      <td>1.0</td>\n    </tr>\n  </tbody>\n</table>\n</div>"
     },
     "metadata": {},
     "output_type": "display_data"
    },
    {
     "data": {
      "text/plain": "  modality   mean_AP  total_epochs  fixed_extractor\n7  Lateral  0.370199           5.0              NaN",
      "text/html": "<div>\n<style scoped>\n    .dataframe tbody tr th:only-of-type {\n        vertical-align: middle;\n    }\n\n    .dataframe tbody tr th {\n        vertical-align: top;\n    }\n\n    .dataframe thead th {\n        text-align: right;\n    }\n</style>\n<table border=\"1\" class=\"dataframe\">\n  <thead>\n    <tr style=\"text-align: right;\">\n      <th></th>\n      <th>modality</th>\n      <th>mean_AP</th>\n      <th>total_epochs</th>\n      <th>fixed_extractor</th>\n    </tr>\n  </thead>\n  <tbody>\n    <tr>\n      <th>7</th>\n      <td>Lateral</td>\n      <td>0.370199</td>\n      <td>5.0</td>\n      <td>NaN</td>\n    </tr>\n  </tbody>\n</table>\n</div>"
     },
     "metadata": {},
     "output_type": "display_data"
    }
   ],
   "source": [
    "temp =df.loc[((df['img_clf_type'] == 'densenet') & (df['modality'] != 'text')&(df['fixed_extractor'] == 1.0)), ['modality', 'mean_AP', 'total_epochs', 'fixed_extractor']]\n",
    "display(temp.loc[temp['mean_AP'] == temp['mean_AP'].max()])\n",
    "\n",
    "temp =df.loc[((df['img_clf_type'] == 'densenet') & (df['modality'] != 'text')&(df['fixed_extractor'] != 1.0)), ['modality', 'mean_AP', 'total_epochs', 'fixed_extractor']]\n",
    "display(temp.loc[temp['mean_AP'] == temp['mean_AP'].max()])"
   ],
   "metadata": {
    "collapsed": false,
    "pycharm": {
     "name": "#%%\n"
    }
   }
  },
  {
   "cell_type": "markdown",
   "source": [
    "# Does a bigger image size improve the score by a lot?"
   ],
   "metadata": {
    "collapsed": false,
    "pycharm": {
     "name": "#%% md\n",
     "is_executing": true
    }
   }
  },
  {
   "cell_type": "code",
   "execution_count": 73,
   "outputs": [
    {
     "data": {
      "text/plain": "   modality  mean_AP  total_epochs  fixed_extractor\n19       PA  0.36311           7.0              NaN",
      "text/html": "<div>\n<style scoped>\n    .dataframe tbody tr th:only-of-type {\n        vertical-align: middle;\n    }\n\n    .dataframe tbody tr th {\n        vertical-align: top;\n    }\n\n    .dataframe thead th {\n        text-align: right;\n    }\n</style>\n<table border=\"1\" class=\"dataframe\">\n  <thead>\n    <tr style=\"text-align: right;\">\n      <th></th>\n      <th>modality</th>\n      <th>mean_AP</th>\n      <th>total_epochs</th>\n      <th>fixed_extractor</th>\n    </tr>\n  </thead>\n  <tbody>\n    <tr>\n      <th>19</th>\n      <td>PA</td>\n      <td>0.36311</td>\n      <td>7.0</td>\n      <td>NaN</td>\n    </tr>\n  </tbody>\n</table>\n</div>"
     },
     "metadata": {},
     "output_type": "display_data"
    },
    {
     "data": {
      "text/plain": "   modality   mean_AP  total_epochs  fixed_extractor\n83      NaN  0.679154           1.0              1.0",
      "text/html": "<div>\n<style scoped>\n    .dataframe tbody tr th:only-of-type {\n        vertical-align: middle;\n    }\n\n    .dataframe tbody tr th {\n        vertical-align: top;\n    }\n\n    .dataframe thead th {\n        text-align: right;\n    }\n</style>\n<table border=\"1\" class=\"dataframe\">\n  <thead>\n    <tr style=\"text-align: right;\">\n      <th></th>\n      <th>modality</th>\n      <th>mean_AP</th>\n      <th>total_epochs</th>\n      <th>fixed_extractor</th>\n    </tr>\n  </thead>\n  <tbody>\n    <tr>\n      <th>83</th>\n      <td>NaN</td>\n      <td>0.679154</td>\n      <td>1.0</td>\n      <td>1.0</td>\n    </tr>\n  </tbody>\n</table>\n</div>"
     },
     "metadata": {},
     "output_type": "display_data"
    }
   ],
   "source": [
    "temp = df.loc[((df['img_size'] == 128) & (df['modality'] != 'text')), ['modality', 'mean_AP', 'total_epochs', 'fixed_extractor']]\n",
    "display(temp.loc[temp['mean_AP'] == temp['mean_AP'].max()])\n",
    "\n",
    "temp = df.loc[((df['img_size'] == 256) & (df['modality'] != 'text')), ['modality', 'mean_AP', 'total_epochs', 'fixed_extractor']]\n",
    "display(temp.loc[temp['mean_AP'] == temp['mean_AP'].max()])"
   ],
   "metadata": {
    "collapsed": false,
    "pycharm": {
     "name": "#%%\n"
    }
   }
  },
  {
   "cell_type": "code",
   "execution_count": null,
   "outputs": [],
   "source": [
    "# Does a larger\n"
   ],
   "metadata": {
    "collapsed": false,
    "pycharm": {
     "name": "#%%\n"
    }
   }
  }
 ],
 "metadata": {
  "kernelspec": {
   "display_name": "Python 3",
   "language": "python",
   "name": "python3"
  },
  "language_info": {
   "codemirror_mode": {
    "name": "ipython",
    "version": 2
   },
   "file_extension": ".py",
   "mimetype": "text/x-python",
   "name": "python",
   "nbconvert_exporter": "python",
   "pygments_lexer": "ipython2",
   "version": "2.7.6"
  }
 },
 "nbformat": 4,
 "nbformat_minor": 0
}