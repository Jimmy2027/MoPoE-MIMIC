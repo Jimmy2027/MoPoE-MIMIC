{
 "cells": [
  {
   "cell_type": "code",
   "execution_count": 1,
   "outputs": [
    {
     "name": "stderr",
     "output_type": "stream",
     "text": [
      "[14:23:15 CET] Log file: /Users/Hendrik/Documents/master3/leomed_mimic/mimic/logger/logs/UTC-20210201-132314.log\n"
     ]
    }
   ],
   "source": [
    "import torch\n",
    "import torch.nn as nn\n",
    "from matplotlib import pyplot as plt\n",
    "from torch.utils.data import DataLoader\n",
    "\n",
    "import mimic\n",
    "from mimic.utils import text as text\n",
    "from mimic.utils.experiment import MimicExperiment\n",
    "from mimic.utils.filehandling import get_config_path\n",
    "from mimic.utils.flags import parser\n",
    "from mimic.utils.flags import update_flags_with_config\n",
    "from dataclasses import dataclass"
   ],
   "metadata": {
    "collapsed": false,
    "pycharm": {
     "name": "#%%\n"
    }
   }
  },
  {
   "cell_type": "code",
   "execution_count": 2,
   "outputs": [],
   "source": [
    "device = torch.device(\"cuda:0\" if torch.cuda.is_available() else \"cpu\")\n",
    "\n",
    "FLAGS = parser.parse_args([])\n",
    "\n",
    "config_path = get_config_path(FLAGS)"
   ],
   "metadata": {
    "collapsed": false,
    "pycharm": {
     "name": "#%%\n"
    }
   }
  },
  {
   "cell_type": "code",
   "execution_count": 3,
   "outputs": [],
   "source": [
    "flags = update_flags_with_config(config_path, testing=True)"
   ],
   "metadata": {
    "collapsed": false,
    "pycharm": {
     "name": "#%%\n"
    }
   }
  },
  {
   "cell_type": "code",
   "execution_count": 4,
   "outputs": [],
   "source": [
    "flags.modality = 'PA'\n",
    "flags.img_size = 128\n",
    "flags.text_encoding = 'word'\n",
    "flags.feature_extractor_img = 'resnet'\n",
    "flags.batch_size = 1\n",
    "flags.dataloader_workers = 0\n",
    "flags.device = device\n",
    "flags.normalization = False\n",
    "flags.len_sequence = 128\n",
    "flags.str_experiment = 'something'\n",
    "flags.alpha_modalities = [flags.div_weight_uniform_content, flags.div_weight_m1_content,\n",
    "                          flags.div_weight_m2_content, flags.div_weight_m3_content]\n",
    "flags.use_clf = False\n",
    "flags.dir_gen_eval_fid = 'fdgb'"
   ],
   "metadata": {
    "collapsed": false,
    "pycharm": {
     "name": "#%%\n"
    }
   }
  },
  {
   "cell_type": "code",
   "execution_count": null,
   "outputs": [],
   "source": [
    "exp = MimicExperiment(flags)\n",
    "exp.plot_img_size = torch.Size([1, flags.img_size, flags.img_size])\n",
    "exp.modalities['text'].plot_img_size = torch.Size([1, flags.img_size+128, flags.img_size])\n",
    "mods = exp.modalities\n",
    "\n",
    "trainloader = DataLoader(exp.dataset_train, batch_size=flags.batch_size,\n",
    "                         shuffle=False,\n",
    "                         num_workers=flags.dataloader_workers, pin_memory=False)\n",
    "\n",
    "nbr_samples = 5\n"
   ],
   "metadata": {
    "collapsed": false,
    "pycharm": {
     "name": "#%%\n",
     "is_executing": true
    }
   }
  },
  {
   "cell_type": "code",
   "execution_count": null,
   "outputs": [],
   "source": [
    "def get_datas(which_label:int):\n",
    "    datas = {'PA': [], 'Lateral': [], 'text': []}\n",
    "    texts = []\n",
    "    labels_list = []\n",
    "    for data, labels in trainloader:\n",
    "        if labels[0][which_label].item() == 1:\n",
    "            for mod_key, mod in mods.items():\n",
    "                datas[mod_key].append(mod.plot_data(exp, data[mod_key].squeeze(0)))\n",
    "                if mod_key == 'text':\n",
    "                    texts.append(data[mod_key])\n",
    "                labels_list.append(labels[0].tolist())\n",
    "            if len(datas[mod_key]) == nbr_samples:\n",
    "                return datas, texts, labels_list"
   ],
   "metadata": {
    "collapsed": false,
    "pycharm": {
     "name": "#%%\n",
     "is_executing": true
    }
   }
  },
  {
   "cell_type": "code",
   "execution_count": null,
   "outputs": [],
   "source": [
    "datas, texts, labels_list = get_datas(2)"
   ],
   "metadata": {
    "collapsed": false,
    "pycharm": {
     "name": "#%%\n",
     "is_executing": true
    }
   }
  },
  {
   "cell_type": "code",
   "execution_count": null,
   "outputs": [],
   "source": [
    "rec = torch.Tensor()\n",
    "\n",
    "for mod in mods:\n",
    "    for idx in range(nbr_samples):\n",
    "        if mod == 'text':\n",
    "            img = datas[f'{mod}'][idx].cpu().unsqueeze(0)\n",
    "        else:\n",
    "\n",
    "            img = datas[f'{mod}'][idx].cpu()\n",
    "            # pad the non text modalities such that they fit in a wider rectangle.\n",
    "            m = nn.ZeroPad2d((64, 64, 0, 0))\n",
    "            img = m(img.squeeze()).unsqueeze(0).unsqueeze(0)\n",
    "        rec = torch.cat((rec, img), 0)\n",
    "\n",
    "fig = mimic.utils.plot.create_fig(f'something.png',\n",
    "                                  img_data=rec,\n",
    "                                  num_img_row=nbr_samples, save_figure=False)"
   ],
   "metadata": {
    "collapsed": false,
    "pycharm": {
     "name": "#%%\n",
     "is_executing": true
    }
   }
  },
  {
   "cell_type": "code",
   "execution_count": null,
   "outputs": [],
   "source": [
    "plt.imshow(fig)\n",
    "plt.show()\n",
    "plt.close()"
   ],
   "metadata": {
    "collapsed": false,
    "pycharm": {
     "name": "#%%\n",
     "is_executing": true
    }
   }
  },
  {
   "cell_type": "code",
   "execution_count": null,
   "outputs": [],
   "source": [
    "for i in range(nbr_samples):\n",
    "    text_sample = text.tensor_to_text(exp, texts[i], one_hot=False)[0]\n",
    "    text_sample = [word for word in text_sample if word != '<pad>']\n",
    "    print(' '.join(text_sample).replace('.', '.\\n'))\n",
    "    print(labels_list[i])\n",
    "    plt.figure()\n",
    "    plt.subplot(1, 2, 1)\n",
    "    plt.imshow(datas['PA'][i].squeeze())\n",
    "    plt.subplot(1, 2, 2)\n",
    "    plt.imshow(datas['Lateral'][i].squeeze())\n",
    "    plt.show()\n",
    "    plt.close()"
   ],
   "metadata": {
    "collapsed": false,
    "pycharm": {
     "name": "#%%\n",
     "is_executing": true
    }
   }
  },
  {
   "cell_type": "markdown",
   "source": [
    "# Lung Opacity"
   ],
   "metadata": {
    "collapsed": false,
    "pycharm": {
     "name": "#%% md\n"
    }
   }
  },
  {
   "cell_type": "code",
   "execution_count": null,
   "outputs": [],
   "source": [
    "datas, texts, labels_list = get_datas(0)"
   ],
   "metadata": {
    "collapsed": false,
    "pycharm": {
     "name": "#%%\n",
     "is_executing": true
    }
   }
  },
  {
   "cell_type": "code",
   "execution_count": null,
   "outputs": [],
   "source": [
    "for i in range(nbr_samples):\n",
    "    text_sample = text.tensor_to_text(exp, texts[i], one_hot=False)[0]\n",
    "    text_sample = [word for word in text_sample if word != '<pad>']\n",
    "    print(' '.join(text_sample).replace('.', '.\\n'))\n",
    "    print(labels_list[i])\n",
    "    plt.figure()\n",
    "    plt.subplot(1, 2, 1)\n",
    "    plt.imshow(datas['PA'][i].squeeze())\n",
    "    plt.subplot(1, 2, 2)\n",
    "    plt.imshow(datas['Lateral'][i].squeeze())\n",
    "    plt.show()\n",
    "    plt.close()"
   ],
   "metadata": {
    "collapsed": false,
    "pycharm": {
     "name": "#%%\n",
     "is_executing": true
    }
   }
  },
  {
   "cell_type": "markdown",
   "source": [
    "# Pleural Effusion"
   ],
   "metadata": {
    "collapsed": false,
    "pycharm": {
     "name": "#%% md\n"
    }
   }
  },
  {
   "cell_type": "code",
   "execution_count": null,
   "outputs": [],
   "source": [
    "datas, texts, labels_list = get_datas(1)"
   ],
   "metadata": {
    "collapsed": false,
    "pycharm": {
     "name": "#%%\n",
     "is_executing": true
    }
   }
  },
  {
   "cell_type": "code",
   "execution_count": null,
   "outputs": [],
   "source": [
    "for i in range(nbr_samples):\n",
    "    text_sample = text.tensor_to_text(exp, texts[i], one_hot=False)[0]\n",
    "    text_sample = [word for word in text_sample if word != '<pad>']\n",
    "    print(' '.join(text_sample).replace('.', '.\\n'))\n",
    "    print(labels_list[i])\n",
    "    plt.figure()\n",
    "    plt.subplot(1, 2, 1)\n",
    "    plt.imshow(datas['PA'][i].squeeze())\n",
    "    plt.subplot(1, 2, 2)\n",
    "    plt.imshow(datas['Lateral'][i].squeeze())\n",
    "    plt.show()\n",
    "    plt.close()"
   ],
   "metadata": {
    "collapsed": false,
    "pycharm": {
     "name": "#%%\n",
     "is_executing": true
    }
   }
  },
  {
   "cell_type": "markdown",
   "source": [
    "# Experiments with the torch.WeightedRandomSampler"
   ],
   "metadata": {
    "collapsed": false,
    "pycharm": {
     "name": "#%% md\n"
    }
   }
  },
  {
   "cell_type": "markdown",
   "source": [
    "## Without sampling"
   ],
   "metadata": {
    "collapsed": false,
    "pycharm": {
     "name": "#%% md\n",
     "is_executing": true
    }
   }
  },
  {
   "cell_type": "code",
   "execution_count": null,
   "outputs": [],
   "source": [
    "trainloader = DataLoader(exp.dataset_train, batch_size=50,\n",
    "                         shuffle=False,\n",
    "                         num_workers=flags.dataloader_workers, pin_memory=False)"
   ],
   "metadata": {
    "collapsed": false,
    "pycharm": {
     "name": "#%%\n",
     "is_executing": true
    }
   }
  },
  {
   "cell_type": "code",
   "execution_count": null,
   "outputs": [],
   "source": [
    "all_labels = torch.Tensor()\n",
    "for _, labels in trainloader:\n",
    "    all_labels = torch.cat((all_labels, labels.cpu()), 0)"
   ],
   "metadata": {
    "collapsed": false,
    "pycharm": {
     "name": "#%%\n",
     "is_executing": true
    }
   }
  },
  {
   "cell_type": "code",
   "execution_count": null,
   "outputs": [],
   "source": [
    "print(all_labels.shape)"
   ],
   "metadata": {
    "collapsed": false,
    "pycharm": {
     "name": "#%%\n",
     "is_executing": true
    }
   }
  },
  {
   "cell_type": "code",
   "execution_count": null,
   "outputs": [],
   "source": [
    "{label: all_labels[:, i].sum() for i, label in enumerate(['Lung Opacity', 'Pleural Effusion', 'Support Devices'])}"
   ],
   "metadata": {
    "collapsed": false,
    "pycharm": {
     "name": "#%%\n",
     "is_executing": true
    }
   }
  },
  {
   "cell_type": "markdown",
   "source": [
    "### With sampling"
   ],
   "metadata": {
    "collapsed": false,
    "pycharm": {
     "name": "#%% md\n"
    }
   }
  },
  {
   "cell_type": "code",
   "execution_count": null,
   "outputs": [],
   "source": [
    "def calculateWeights(label_dict, d_set):\n",
    "    arr = []\n",
    "    for label, count in label_dict.items():\n",
    "        weight = count / len(d_set)\n",
    "        arr.append(weight)\n",
    "    return arr"
   ],
   "metadata": {
    "collapsed": false,
    "pycharm": {
     "name": "#%%\n",
     "is_executing": true
    }
   }
  },
  {
   "cell_type": "code",
   "execution_count": null,
   "outputs": [],
   "source": [
    "labels_df = exp.dataset_train.labels\n",
    "counts = labels_df[labels_df == 1].count()"
   ],
   "metadata": {
    "collapsed": false,
    "pycharm": {
     "name": "#%%\n",
     "is_executing": true
    }
   }
  },
  {
   "cell_type": "code",
   "execution_count": null,
   "outputs": [],
   "source": [
    "print(counts)"
   ],
   "metadata": {
    "collapsed": false,
    "pycharm": {
     "name": "#%%\n",
     "is_executing": true
    }
   }
  },
  {
   "cell_type": "code",
   "execution_count": null,
   "outputs": [],
   "source": [
    "weights = calculateWeights(counts, exp.dataset_train)\n",
    "weights = torch.DoubleTensor(weights)\n",
    "sampler = torch.utils.data.sampler.WeightedRandomSampler(weights, len(exp.dataset_train), replacement=True)"
   ],
   "metadata": {
    "collapsed": false,
    "pycharm": {
     "name": "#%%\n",
     "is_executing": true
    }
   }
  },
  {
   "cell_type": "code",
   "execution_count": null,
   "outputs": [],
   "source": [
    "trainloader = DataLoader(exp.dataset_train, batch_size=50, sampler=sampler,\n",
    "                         shuffle=False,\n",
    "                         num_workers=flags.dataloader_workers, pin_memory=False)"
   ],
   "metadata": {
    "collapsed": false,
    "pycharm": {
     "name": "#%%\n",
     "is_executing": true
    }
   }
  },
  {
   "cell_type": "code",
   "execution_count": null,
   "outputs": [],
   "source": [
    "all_labels = torch.Tensor()\n",
    "for _, labels in trainloader:\n",
    "    all_labels = torch.cat((all_labels, labels.cpu()), 0)"
   ],
   "metadata": {
    "collapsed": false,
    "pycharm": {
     "name": "#%%\n",
     "is_executing": true
    }
   }
  },
  {
   "cell_type": "code",
   "execution_count": null,
   "outputs": [],
   "source": [
    "print(all_labels.shape)"
   ],
   "metadata": {
    "collapsed": false,
    "pycharm": {
     "name": "#%%\n",
     "is_executing": true
    }
   }
  },
  {
   "cell_type": "code",
   "execution_count": null,
   "outputs": [],
   "source": [
    "{label: all_labels[:, i].sum() for i, label in enumerate(['Lung Opacity', 'Pleural Effusion', 'Support Devices'])}\n",
    "\n",
    "\n"
   ],
   "metadata": {
    "collapsed": false,
    "pycharm": {
     "name": "#%%\n",
     "is_executing": true
    }
   }
  },
  {
   "cell_type": "code",
   "execution_count": null,
   "outputs": [],
   "source": [],
   "metadata": {
    "collapsed": false,
    "pycharm": {
     "name": "#%%\n"
    }
   }
  }
 ],
 "metadata": {
  "kernelspec": {
   "display_name": "Python 3",
   "language": "python",
   "name": "python3"
  },
  "language_info": {
   "codemirror_mode": {
    "name": "ipython",
    "version": 2
   },
   "file_extension": ".py",
   "mimetype": "text/x-python",
   "name": "python",
   "nbconvert_exporter": "python",
   "pygments_lexer": "ipython2",
   "version": "2.7.6"
  }
 },
 "nbformat": 4,
 "nbformat_minor": 0
}