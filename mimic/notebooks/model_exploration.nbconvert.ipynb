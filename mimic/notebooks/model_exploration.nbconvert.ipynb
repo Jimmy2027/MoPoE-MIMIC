{
 "cells": [
  {
   "cell_type": "code",
   "execution_count": 1,
   "metadata": {
    "ExecuteTime": {
     "end_time": "2020-10-30T21:00:04.894077Z",
     "start_time": "2020-10-30T21:00:04.884441Z"
    },
    "execution": {
     "iopub.execute_input": "2020-10-31T10:53:35.657988Z",
     "iopub.status.busy": "2020-10-31T10:53:35.656881Z",
     "iopub.status.idle": "2020-10-31T10:53:35.668519Z",
     "shell.execute_reply": "2020-10-31T10:53:35.669645Z"
    }
   },
   "outputs": [
    {
     "name": "stdout",
     "output_type": "stream",
     "text": [
      "/cluster/home/klugh/MIMIC/mimic\n"
     ]
    }
   ],
   "source": [
    "import os\n",
    "os.getcwd()\n",
    "%cd .."
   ]
  },
  {
   "cell_type": "code",
   "execution_count": 2,
   "metadata": {
    "ExecuteTime": {
     "end_time": "2020-10-30T21:00:10.187828Z",
     "start_time": "2020-10-30T21:00:04.897187Z"
    },
    "execution": {
     "iopub.execute_input": "2020-10-31T10:53:35.678300Z",
     "iopub.status.busy": "2020-10-31T10:53:35.677184Z",
     "iopub.status.idle": "2020-10-31T10:53:48.771638Z",
     "shell.execute_reply": "2020-10-31T10:53:48.770593Z"
    }
   },
   "outputs": [
    {
     "name": "stdout",
     "output_type": "stream",
     "text": [
      "True\n"
     ]
    }
   ],
   "source": [
    "from pathlib import Path\n",
    "\n",
    "from mimic.utils.experiment import MimicExperiment\n",
    "from mimic.utils.filehandling import set_paths\n",
    "from mimic.utils import plot\n",
    "from tensorflow.python.summary.summary_iterator import summary_iterator\n",
    "import json\n",
    "\n",
    "import torch\n",
    "import numpy as np\n",
    "from mimic.utils.filehandling import get_config_path\n",
    "from mimic.notebooks.utils.boilerplate import test_clfs, test_clf_text, test_clf_pa, test_clf_lat"
   ]
  },
  {
   "cell_type": "code",
   "execution_count": 3,
   "metadata": {
    "ExecuteTime": {
     "end_time": "2020-10-30T21:00:10.196058Z",
     "start_time": "2020-10-30T21:00:10.189881Z"
    },
    "execution": {
     "iopub.execute_input": "2020-10-31T10:53:48.792029Z",
     "iopub.status.busy": "2020-10-31T10:53:48.790950Z",
     "iopub.status.idle": "2020-10-31T10:53:48.795026Z",
     "shell.execute_reply": "2020-10-31T10:53:48.794067Z"
    },
    "pycharm": {
     "name": "#%%\n"
    }
   },
   "outputs": [],
   "source": [
    "from PIL import ImageFont\n",
    "try:\n",
    "    font = ImageFont.truetype('FreeSerif.ttf', 38)\n",
    "except:\n",
    "    font = ImageFont.truetype('/Library/Fonts/Arial.ttf', 38)"
   ]
  },
  {
   "cell_type": "code",
   "execution_count": 4,
   "metadata": {
    "ExecuteTime": {
     "end_time": "2020-10-30T21:00:10.608213Z",
     "start_time": "2020-10-30T21:00:10.198041Z"
    },
    "execution": {
     "iopub.execute_input": "2020-10-31T10:53:48.804095Z",
     "iopub.status.busy": "2020-10-31T10:53:48.802995Z",
     "iopub.status.idle": "2020-10-31T10:53:48.821446Z",
     "shell.execute_reply": "2020-10-31T10:53:48.820339Z"
    },
    "pycharm": {
     "name": "#%%\n"
    }
   },
   "outputs": [
    {
     "name": "stdout",
     "output_type": "stream",
     "text": [
      "True\n"
     ]
    }
   ],
   "source": [
    "experiment_dir = '~/klugh/mimic/moe/non_factorized/Mimic_2020_10_30_17_20_31_531755'\n",
    "flags_path = os.path.expanduser(os.path.join(experiment_dir,'flags.rar'))\n",
    "FLAGS = torch.load(flags_path)\n",
    "\n",
    "FLAGS = set_paths(FLAGS)\n",
    "FLAGS.device = torch.device('cuda' if torch.cuda.is_available() else 'cpu')\n",
    "\n",
    "alphabet_path = os.path.join(str(Path(os.getcwd())), 'alphabet.json')\n",
    "with open(alphabet_path) as alphabet_file:\n",
    "    alphabet = str(''.join(json.load(alphabet_file)))\n",
    "path =os.path.expanduser(os.path.join(experiment_dir,'checkpoints/0004/mm_vae'))\n",
    "print(os.path.exists(path))"
   ]
  },
  {
   "cell_type": "code",
   "execution_count": 5,
   "metadata": {
    "ExecuteTime": {
     "end_time": "2020-10-30T21:00:10.616959Z",
     "start_time": "2020-10-30T21:00:10.611277Z"
    },
    "execution": {
     "iopub.execute_input": "2020-10-31T10:53:48.828439Z",
     "iopub.status.busy": "2020-10-31T10:53:48.827365Z",
     "iopub.status.idle": "2020-10-31T10:53:48.832222Z",
     "shell.execute_reply": "2020-10-31T10:53:48.831122Z"
    },
    "pycharm": {
     "name": "#%%\n"
    }
   },
   "outputs": [
    {
     "name": "stdout",
     "output_type": "stream",
     "text": [
      "/cluster/home/klugh/scratch\n"
     ]
    }
   ],
   "source": [
    "print(FLAGS.dir_data)\n",
    "FLAGS.dir_data = os.path.expanduser('~/klugh')\n",
    "FLAGS.dir_clf=os.path.expanduser('~/klugh/mimic/trained_classifiers')"
   ]
  },
  {
   "cell_type": "code",
   "execution_count": 6,
   "metadata": {
    "ExecuteTime": {
     "end_time": "2020-10-30T21:00:57.180072Z",
     "start_time": "2020-10-30T21:00:10.619160Z"
    },
    "execution": {
     "iopub.execute_input": "2020-10-31T10:53:48.840610Z",
     "iopub.status.busy": "2020-10-31T10:53:48.839590Z",
     "iopub.status.idle": "2020-10-31T10:54:22.059883Z",
     "shell.execute_reply": "2020-10-31T10:54:22.058765Z"
    },
    "pycharm": {
     "name": "#%%\n"
    }
   },
   "outputs": [
    {
     "name": "stdout",
     "output_type": "stream",
     "text": [
      "setting dataset\n",
      "setting modalities\n",
      "setting model\n",
      "setting clfs\n",
      "setting rec_weights\n",
      "dict_keys(['real', 'random', '', 'PA', 'Lateral', 'text', 'Lateral_PA', 'PA_text', 'Lateral_text', 'Lateral_PA_text'])\n"
     ]
    }
   ],
   "source": [
    "mimic_experiment = MimicExperiment(flags=FLAGS, alphabet=alphabet)\n"
   ]
  },
  {
   "cell_type": "code",
   "execution_count": 7,
   "metadata": {
    "ExecuteTime": {
     "end_time": "2020-10-30T21:00:57.191262Z",
     "start_time": "2020-10-30T21:00:57.182502Z"
    },
    "execution": {
     "iopub.execute_input": "2020-10-31T10:54:22.066007Z",
     "iopub.status.busy": "2020-10-31T10:54:22.064952Z",
     "iopub.status.idle": "2020-10-31T10:54:22.078209Z",
     "shell.execute_reply": "2020-10-31T10:54:22.077258Z"
    },
    "pycharm": {
     "name": "#%%\n"
    }
   },
   "outputs": [],
   "source": [
    "%%capture\n",
    "mimic_experiment.mm_vae.to(FLAGS.device);"
   ]
  },
  {
   "cell_type": "code",
   "execution_count": 8,
   "metadata": {
    "ExecuteTime": {
     "end_time": "2020-10-30T21:00:57.196635Z",
     "start_time": "2020-10-30T21:00:57.193509Z"
    },
    "execution": {
     "iopub.execute_input": "2020-10-31T10:54:22.082423Z",
     "iopub.status.busy": "2020-10-31T10:54:22.081501Z",
     "iopub.status.idle": "2020-10-31T10:54:22.084490Z",
     "shell.execute_reply": "2020-10-31T10:54:22.085404Z"
    }
   },
   "outputs": [
    {
     "name": "stdout",
     "output_type": "stream",
     "text": [
      "128\n"
     ]
    }
   ],
   "source": [
    "print(FLAGS.img_size)"
   ]
  },
  {
   "cell_type": "code",
   "execution_count": 9,
   "metadata": {
    "ExecuteTime": {
     "end_time": "2020-10-30T21:00:58.538345Z",
     "start_time": "2020-10-30T21:00:57.198168Z"
    },
    "execution": {
     "iopub.execute_input": "2020-10-31T10:54:22.089643Z",
     "iopub.status.busy": "2020-10-31T10:54:22.088761Z",
     "iopub.status.idle": "2020-10-31T10:54:22.713884Z",
     "shell.execute_reply": "2020-10-31T10:54:22.714962Z"
    },
    "pycharm": {
     "name": "#%%\n"
    }
   },
   "outputs": [
    {
     "data": {
      "text/plain": [
       "<All keys matched successfully>"
      ]
     },
     "execution_count": 1,
     "metadata": {},
     "output_type": "execute_result"
    }
   ],
   "source": [
    "mimic_experiment.mm_vae.load_state_dict(state_dict=torch.load(path))"
   ]
  },
  {
   "cell_type": "code",
   "execution_count": 10,
   "metadata": {
    "ExecuteTime": {
     "end_time": "2020-10-30T21:00:58.781270Z",
     "start_time": "2020-10-30T21:00:58.540183Z"
    },
    "execution": {
     "iopub.execute_input": "2020-10-31T10:54:22.720036Z",
     "iopub.status.busy": "2020-10-31T10:54:22.718973Z",
     "iopub.status.idle": "2020-10-31T10:54:23.136766Z",
     "shell.execute_reply": "2020-10-31T10:54:23.135606Z"
    },
    "pycharm": {
     "name": "#%%\n"
    }
   },
   "outputs": [],
   "source": [
    "num_samples = 5\n",
    "random_samples = mimic_experiment.mm_vae.generate(num_samples)\n",
    "epoch = 299"
   ]
  },
  {
   "cell_type": "code",
   "execution_count": 11,
   "metadata": {
    "ExecuteTime": {
     "end_time": "2020-10-30T21:00:59.930777Z",
     "start_time": "2020-10-30T21:00:58.782970Z"
    },
    "execution": {
     "iopub.execute_input": "2020-10-31T10:54:23.143836Z",
     "iopub.status.busy": "2020-10-31T10:54:23.142797Z",
     "iopub.status.idle": "2020-10-31T10:54:24.253252Z",
     "shell.execute_reply": "2020-10-31T10:54:24.252125Z"
    },
    "pycharm": {
     "name": "#%%\n"
    }
   },
   "outputs": [],
   "source": [
    "mods = mimic_experiment.modalities\n",
    "\n",
    "random_plots = dict();\n",
    "for k, m_key_in in enumerate(mods.keys()):\n",
    "    mod = mods[m_key_in];\n",
    "    samples_mod = random_samples[m_key_in];\n",
    "    rec = torch.zeros(mimic_experiment.plot_img_size,\n",
    "                      dtype=torch.float32).repeat(num_samples, 1, 1, 1);\n",
    "    for l in range(0, num_samples):\n",
    "        rand_plot = mod.plot_data(mimic_experiment, samples_mod[l]);\n",
    "        rec[l, :, :, :] = rand_plot;\n",
    "    random_plots[m_key_in] = rec;\n",
    "\n",
    "for k, m_key in enumerate(mods.keys()):\n",
    "    fn = os.path.join(mimic_experiment.flags.dir_random_samples, 'random_epoch_' +\n",
    "                      str(epoch).zfill(4) + '_' + m_key + '.png');\n",
    "    mod_plot = random_plots[m_key];\n",
    "    p = plot.create_fig(fn, mod_plot, 10, save_figure=mimic_experiment.flags.save_figure);\n",
    "    random_plots[m_key] = p;"
   ]
  },
  {
   "cell_type": "code",
   "execution_count": 12,
   "metadata": {
    "ExecuteTime": {
     "end_time": "2020-10-30T21:00:59.936288Z",
     "start_time": "2020-10-30T21:00:59.932463Z"
    },
    "execution": {
     "iopub.execute_input": "2020-10-31T10:54:24.258409Z",
     "iopub.status.busy": "2020-10-31T10:54:24.257341Z",
     "iopub.status.idle": "2020-10-31T10:54:24.260869Z",
     "shell.execute_reply": "2020-10-31T10:54:24.261920Z"
    }
   },
   "outputs": [
    {
     "name": "stdout",
     "output_type": "stream",
     "text": [
      "dict_keys(['PA', 'Lateral', 'text'])\n"
     ]
    }
   ],
   "source": [
    "print(random_plots.keys())"
   ]
  },
  {
   "cell_type": "code",
   "execution_count": 13,
   "metadata": {
    "ExecuteTime": {
     "end_time": "2020-10-30T21:01:01.744943Z",
     "start_time": "2020-10-30T21:00:59.939619Z"
    },
    "execution": {
     "iopub.execute_input": "2020-10-31T10:54:24.277489Z",
     "iopub.status.busy": "2020-10-31T10:54:24.276442Z",
     "iopub.status.idle": "2020-10-31T10:54:25.760597Z",
     "shell.execute_reply": "2020-10-31T10:54:25.761650Z"
    },
    "pycharm": {
     "name": "#%%\n"
    }
   },
   "outputs": [
    {
     "data": {
      "image/png": "[encoded data removed]",
      "text/plain": [
       "<Figure size 432x288 with 1 Axes>"
      ]
     },
     "metadata": {
      "needs_background": "light"
     },
     "output_type": "display_data"
    },
    {
     "data": {
      "image/png": "[encoded data removed]",
      "text/plain": [
       "<Figure size 432x288 with 1 Axes>"
      ]
     },
     "metadata": {
      "needs_background": "light"
     },
     "output_type": "display_data"
    },
    {
     "data": {
      "image/png": "[encoded data removed]",
      "text/plain": [
       "<Figure size 432x288 with 1 Axes>"
      ]
     },
     "metadata": {
      "needs_background": "light"
     },
     "output_type": "display_data"
    }
   ],
   "source": [
    "from matplotlib import pyplot as plt\n",
    "plt.imshow(random_plots['PA'])\n",
    "plt.show()\n",
    "plt.imshow(random_plots['Lateral'])\n",
    "plt.show()\n",
    "plt.imshow(random_plots['text'])\n",
    "plt.show()"
   ]
  },
  {
   "cell_type": "markdown",
   "metadata": {
    "pycharm": {
     "name": "#%% md\n"
    }
   },
   "source": [
    "# Test of the latent representations of the MMVAE\n",
    "### Average precision scores on the latent representations, averaged over the batches"
   ]
  },
  {
   "cell_type": "code",
   "execution_count": 14,
   "metadata": {
    "ExecuteTime": {
     "end_time": "2020-10-30T21:01:03.138283Z",
     "start_time": "2020-10-30T21:01:01.746764Z"
    },
    "execution": {
     "iopub.execute_input": "2020-10-31T10:54:25.770023Z",
     "iopub.status.busy": "2020-10-31T10:54:25.768980Z",
     "iopub.status.idle": "2020-10-31T10:54:26.093599Z",
     "shell.execute_reply": "2020-10-31T10:54:26.092406Z"
    },
    "pycharm": {
     "name": "#%%\n"
    }
   },
   "outputs": [
    {
     "name": "stdout",
     "output_type": "stream",
     "text": [
      "WARNING:tensorflow:From /cluster/home/klugh/software/anaconda/envs/temp/lib/python3.8/site-packages/tensorflow/python/summary/summary_iterator.py:68: tf_record_iterator (from tensorflow.python.lib.io.tf_record) is deprecated and will be removed in a future version.\n",
      "Instructions for updating:\n",
      "Use eager execution and: \n",
      "`tf.data.TFRecordDataset(path)`\n"
     ]
    }
   ],
   "source": [
    "config_path = get_config_path()\n",
    "with open(config_path, 'rt') as json_file:\n",
    "    config = json.load(json_file)\n",
    "\n",
    "checkpoint_path = os.path.expanduser(config['dir_fid'])\n",
    "lr_evals = dict()\n",
    "for modality_method in ['moe']:\n",
    "    for factorization in os.listdir(os.path.join(checkpoint_path, modality_method)):\n",
    "        for experiment in os.listdir(os.path.join(checkpoint_path, modality_method, factorization)):\n",
    "            if experiment.startswith('Mimic'):\n",
    "                lr_evals[experiment] = dict()\n",
    "                lr_eval = lr_evals[experiment]\n",
    "                experiment_dir_ = os.path.join(checkpoint_path, modality_method, factorization, experiment)\n",
    "                lr_eval_dir = os.path.join(experiment_dir_, 'logs', 'Latent Representation')\n",
    "                if os.path.exists(lr_eval_dir):\n",
    "                    for label in os.listdir(lr_eval_dir):\n",
    "                        lr_eval[label] = dict()\n",
    "                        for lr in os.listdir(os.path.join(lr_eval_dir, label)):\n",
    "                            lr_eval[label][lr] = dict()\n",
    "                            for logfile in os.listdir(os.path.join(lr_eval_dir, label, lr)):\n",
    "                                for summary in summary_iterator(os.path.join(lr_eval_dir, label, lr, logfile)):\n",
    "                                    value = summary.summary.value\n",
    "                                    temp = str(value).split('\\n')\n",
    "                                    for elem in temp:\n",
    "                                        elem = elem\n",
    "                                        if elem.startswith('simple_value'):\n",
    "                                            lr_eval[label][lr][summary.step] = elem.split(' ')[1]"
   ]
  },
  {
   "cell_type": "code",
   "execution_count": 15,
   "metadata": {
    "ExecuteTime": {
     "end_time": "2020-10-30T21:01:03.172916Z",
     "start_time": "2020-10-30T21:01:03.140784Z"
    },
    "execution": {
     "iopub.execute_input": "2020-10-31T10:54:26.116055Z",
     "iopub.status.busy": "2020-10-31T10:54:26.102835Z",
     "iopub.status.idle": "2020-10-31T10:54:26.137246Z",
     "shell.execute_reply": "2020-10-31T10:54:26.136239Z"
    },
    "pycharm": {
     "name": "#%%\n"
    }
   },
   "outputs": [],
   "source": [
    "import pandas as pd\n",
    "experiments_dataframe = pd.read_csv('experiments_dataframe.csv')\n",
    "dfs = []\n",
    "for experiment in lr_evals.keys():\n",
    "    experiment_evals = lr_evals[experiment]\n",
    "    if experiment_evals:\n",
    "        for label in experiment_evals.keys():\n",
    "            for lr in experiment_evals[label].keys():\n",
    "                steps = experiment_evals[label][lr].keys()\n",
    "                max_step = max(steps)\n",
    "                experiment_evals[label][lr] = experiment_evals[label][lr][max_step]\n",
    "\n",
    "        df = pd.DataFrame(experiment_evals).astype(float)\n",
    "        index = df.index\n",
    "        index.name = f'Steps: {max_step}'\n",
    "        df['mean'] = df.mean(numeric_only=True, axis=1)\n",
    "        dfs.append((df, experiment))"
   ]
  },
  {
   "cell_type": "code",
   "execution_count": 16,
   "metadata": {
    "ExecuteTime": {
     "end_time": "2020-10-30T21:01:03.214934Z",
     "start_time": "2020-10-30T21:01:03.176840Z"
    },
    "execution": {
     "iopub.execute_input": "2020-10-31T10:54:26.150034Z",
     "iopub.status.busy": "2020-10-31T10:54:26.149093Z",
     "iopub.status.idle": "2020-10-31T10:54:26.191266Z",
     "shell.execute_reply": "2020-10-31T10:54:26.190395Z"
    },
    "pycharm": {
     "name": "#%%\n"
    }
   },
   "outputs": [
    {
     "name": "stdout",
     "output_type": "stream",
     "text": [
      "Experiment Mimic_2020_10_30_17_20_31_531755 with text encoding: word, image size: 128.0, method: joint_elbo \n",
      " and trained for 18.0 epochs with batch size: 180.0 and 200.0 steps per training epoch\n"
     ]
    },
    {
     "data": {
      "text/html": [
       "<div>\n",
       "<style scoped>\n",
       "    .dataframe tbody tr th:only-of-type {\n",
       "        vertical-align: middle;\n",
       "    }\n",
       "\n",
       "    .dataframe tbody tr th {\n",
       "        vertical-align: top;\n",
       "    }\n",
       "\n",
       "    .dataframe thead th {\n",
       "        text-align: right;\n",
       "    }\n",
       "</style>\n",
       "<table border=\"1\" class=\"dataframe\">\n",
       "  <thead>\n",
       "    <tr style=\"text-align: right;\">\n",
       "      <th></th>\n",
       "      <th>Pleural Effusion</th>\n",
       "      <th>Support Devices</th>\n",
       "      <th>Lung Opacity</th>\n",
       "      <th>mean</th>\n",
       "    </tr>\n",
       "    <tr>\n",
       "      <th>Steps: 4060</th>\n",
       "      <th></th>\n",
       "      <th></th>\n",
       "      <th></th>\n",
       "      <th></th>\n",
       "    </tr>\n",
       "  </thead>\n",
       "  <tbody>\n",
       "    <tr>\n",
       "      <th>PA_text</th>\n",
       "      <td>0.063194</td>\n",
       "      <td>0.025</td>\n",
       "      <td>0.131944</td>\n",
       "      <td>0.073380</td>\n",
       "    </tr>\n",
       "    <tr>\n",
       "      <th>Lateral_PA_text</th>\n",
       "      <td>0.130208</td>\n",
       "      <td>0.025</td>\n",
       "      <td>0.112831</td>\n",
       "      <td>0.089346</td>\n",
       "    </tr>\n",
       "    <tr>\n",
       "      <th>PA</th>\n",
       "      <td>0.059722</td>\n",
       "      <td>0.025</td>\n",
       "      <td>0.115278</td>\n",
       "      <td>0.066667</td>\n",
       "    </tr>\n",
       "    <tr>\n",
       "      <th>text</th>\n",
       "      <td>0.055556</td>\n",
       "      <td>0.025</td>\n",
       "      <td>0.155556</td>\n",
       "      <td>0.078704</td>\n",
       "    </tr>\n",
       "    <tr>\n",
       "      <th>Lateral_text</th>\n",
       "      <td>0.161111</td>\n",
       "      <td>0.025</td>\n",
       "      <td>0.116667</td>\n",
       "      <td>0.100926</td>\n",
       "    </tr>\n",
       "    <tr>\n",
       "      <th>Lateral_PA</th>\n",
       "      <td>0.095833</td>\n",
       "      <td>0.025</td>\n",
       "      <td>0.108796</td>\n",
       "      <td>0.076543</td>\n",
       "    </tr>\n",
       "    <tr>\n",
       "      <th>Lateral</th>\n",
       "      <td>0.126389</td>\n",
       "      <td>0.025</td>\n",
       "      <td>0.105556</td>\n",
       "      <td>0.085648</td>\n",
       "    </tr>\n",
       "  </tbody>\n",
       "</table>\n",
       "</div>"
      ],
      "text/plain": [
       "                 Pleural Effusion  Support Devices  Lung Opacity      mean\n",
       "Steps: 4060                                                               \n",
       "PA_text                  0.063194            0.025      0.131944  0.073380\n",
       "Lateral_PA_text          0.130208            0.025      0.112831  0.089346\n",
       "PA                       0.059722            0.025      0.115278  0.066667\n",
       "text                     0.055556            0.025      0.155556  0.078704\n",
       "Lateral_text             0.161111            0.025      0.116667  0.100926\n",
       "Lateral_PA               0.095833            0.025      0.108796  0.076543\n",
       "Lateral                  0.126389            0.025      0.105556  0.085648"
      ]
     },
     "metadata": {},
     "output_type": "display_data"
    },
    {
     "name": "stdout",
     "output_type": "stream",
     "text": [
      "Experiment Mimic_2020_10_26_23_01_20_004865 with text encoding: word, image size: 128.0, method: jsd \n",
      " and trained for 15.0 epochs with batch size: 180.0 and -1.0 steps per training epoch\n"
     ]
    },
    {
     "data": {
      "text/html": [
       "<div>\n",
       "<style scoped>\n",
       "    .dataframe tbody tr th:only-of-type {\n",
       "        vertical-align: middle;\n",
       "    }\n",
       "\n",
       "    .dataframe tbody tr th {\n",
       "        vertical-align: top;\n",
       "    }\n",
       "\n",
       "    .dataframe thead th {\n",
       "        text-align: right;\n",
       "    }\n",
       "</style>\n",
       "<table border=\"1\" class=\"dataframe\">\n",
       "  <thead>\n",
       "    <tr style=\"text-align: right;\">\n",
       "      <th></th>\n",
       "      <th>Pleural Effusion</th>\n",
       "      <th>Support Devices</th>\n",
       "      <th>Lung Opacity</th>\n",
       "      <th>mean</th>\n",
       "    </tr>\n",
       "    <tr>\n",
       "      <th>Steps: 6740</th>\n",
       "      <th></th>\n",
       "      <th></th>\n",
       "      <th></th>\n",
       "      <th></th>\n",
       "    </tr>\n",
       "  </thead>\n",
       "  <tbody>\n",
       "    <tr>\n",
       "      <th>PA_text</th>\n",
       "      <td>0.165385</td>\n",
       "      <td>0.019444</td>\n",
       "      <td>0.112879</td>\n",
       "      <td>0.099236</td>\n",
       "    </tr>\n",
       "    <tr>\n",
       "      <th>Lateral_PA_text</th>\n",
       "      <td>0.210279</td>\n",
       "      <td>0.019444</td>\n",
       "      <td>0.111111</td>\n",
       "      <td>0.113612</td>\n",
       "    </tr>\n",
       "    <tr>\n",
       "      <th>PA</th>\n",
       "      <td>0.093269</td>\n",
       "      <td>0.019444</td>\n",
       "      <td>0.114646</td>\n",
       "      <td>0.075787</td>\n",
       "    </tr>\n",
       "    <tr>\n",
       "      <th>text</th>\n",
       "      <td>0.058333</td>\n",
       "      <td>0.019444</td>\n",
       "      <td>0.133333</td>\n",
       "      <td>0.070370</td>\n",
       "    </tr>\n",
       "    <tr>\n",
       "      <th>Lateral_text</th>\n",
       "      <td>0.129701</td>\n",
       "      <td>0.019444</td>\n",
       "      <td>0.111111</td>\n",
       "      <td>0.086752</td>\n",
       "    </tr>\n",
       "    <tr>\n",
       "      <th>Lateral_PA</th>\n",
       "      <td>0.099451</td>\n",
       "      <td>0.019444</td>\n",
       "      <td>0.123232</td>\n",
       "      <td>0.080709</td>\n",
       "    </tr>\n",
       "    <tr>\n",
       "      <th>Lateral</th>\n",
       "      <td>0.104060</td>\n",
       "      <td>0.019444</td>\n",
       "      <td>0.186111</td>\n",
       "      <td>0.103205</td>\n",
       "    </tr>\n",
       "  </tbody>\n",
       "</table>\n",
       "</div>"
      ],
      "text/plain": [
       "                 Pleural Effusion  Support Devices  Lung Opacity      mean\n",
       "Steps: 6740                                                               \n",
       "PA_text                  0.165385         0.019444      0.112879  0.099236\n",
       "Lateral_PA_text          0.210279         0.019444      0.111111  0.113612\n",
       "PA                       0.093269         0.019444      0.114646  0.075787\n",
       "text                     0.058333         0.019444      0.133333  0.070370\n",
       "Lateral_text             0.129701         0.019444      0.111111  0.086752\n",
       "Lateral_PA               0.099451         0.019444      0.123232  0.080709\n",
       "Lateral                  0.104060         0.019444      0.186111  0.103205"
      ]
     },
     "metadata": {},
     "output_type": "display_data"
    },
    {
     "name": "stdout",
     "output_type": "stream",
     "text": [
      "Experiment Mimic_2020_10_27_14_47_11_079212 with text encoding: char, image size: 128.0, method: jsd \n",
      " and trained for 99.0 epochs with batch size: 180.0 and 100.0 steps per training epoch\n"
     ]
    },
    {
     "data": {
      "text/html": [
       "<div>\n",
       "<style scoped>\n",
       "    .dataframe tbody tr th:only-of-type {\n",
       "        vertical-align: middle;\n",
       "    }\n",
       "\n",
       "    .dataframe tbody tr th {\n",
       "        vertical-align: top;\n",
       "    }\n",
       "\n",
       "    .dataframe thead th {\n",
       "        text-align: right;\n",
       "    }\n",
       "</style>\n",
       "<table border=\"1\" class=\"dataframe\">\n",
       "  <thead>\n",
       "    <tr style=\"text-align: right;\">\n",
       "      <th></th>\n",
       "      <th>Pleural Effusion</th>\n",
       "      <th>Support Devices</th>\n",
       "      <th>Lung Opacity</th>\n",
       "      <th>mean</th>\n",
       "    </tr>\n",
       "    <tr>\n",
       "      <th>Steps: 10300</th>\n",
       "      <th></th>\n",
       "      <th></th>\n",
       "      <th></th>\n",
       "      <th></th>\n",
       "    </tr>\n",
       "  </thead>\n",
       "  <tbody>\n",
       "    <tr>\n",
       "      <th>PA_text</th>\n",
       "      <td>0.102381</td>\n",
       "      <td>0.027778</td>\n",
       "      <td>0.131647</td>\n",
       "      <td>0.087269</td>\n",
       "    </tr>\n",
       "    <tr>\n",
       "      <th>Lateral_PA_text</th>\n",
       "      <td>0.069444</td>\n",
       "      <td>0.027778</td>\n",
       "      <td>0.129117</td>\n",
       "      <td>0.075446</td>\n",
       "    </tr>\n",
       "    <tr>\n",
       "      <th>PA</th>\n",
       "      <td>0.069444</td>\n",
       "      <td>0.027778</td>\n",
       "      <td>0.115625</td>\n",
       "      <td>0.070949</td>\n",
       "    </tr>\n",
       "    <tr>\n",
       "      <th>text</th>\n",
       "      <td>0.069444</td>\n",
       "      <td>0.027778</td>\n",
       "      <td>0.112401</td>\n",
       "      <td>0.069874</td>\n",
       "    </tr>\n",
       "    <tr>\n",
       "      <th>Lateral_text</th>\n",
       "      <td>0.069444</td>\n",
       "      <td>0.027778</td>\n",
       "      <td>0.131250</td>\n",
       "      <td>0.076157</td>\n",
       "    </tr>\n",
       "    <tr>\n",
       "      <th>Lateral_PA</th>\n",
       "      <td>0.069444</td>\n",
       "      <td>0.027778</td>\n",
       "      <td>0.102778</td>\n",
       "      <td>0.066667</td>\n",
       "    </tr>\n",
       "    <tr>\n",
       "      <th>Lateral</th>\n",
       "      <td>0.069444</td>\n",
       "      <td>0.027778</td>\n",
       "      <td>0.102778</td>\n",
       "      <td>0.066667</td>\n",
       "    </tr>\n",
       "  </tbody>\n",
       "</table>\n",
       "</div>"
      ],
      "text/plain": [
       "                 Pleural Effusion  Support Devices  Lung Opacity      mean\n",
       "Steps: 10300                                                              \n",
       "PA_text                  0.102381         0.027778      0.131647  0.087269\n",
       "Lateral_PA_text          0.069444         0.027778      0.129117  0.075446\n",
       "PA                       0.069444         0.027778      0.115625  0.070949\n",
       "text                     0.069444         0.027778      0.112401  0.069874\n",
       "Lateral_text             0.069444         0.027778      0.131250  0.076157\n",
       "Lateral_PA               0.069444         0.027778      0.102778  0.066667\n",
       "Lateral                  0.069444         0.027778      0.102778  0.066667"
      ]
     },
     "metadata": {},
     "output_type": "display_data"
    },
    {
     "name": "stdout",
     "output_type": "stream",
     "text": [
      "Experiment Mimic_2020_10_23_13_17_46_515651 with text encoding: char, image size: 128.0, method: joint_elbo \n",
      " and trained for 299.0 epochs with batch size: 256.0 and -1.0 steps per training epoch\n"
     ]
    },
    {
     "data": {
      "text/html": [
       "<div>\n",
       "<style scoped>\n",
       "    .dataframe tbody tr th:only-of-type {\n",
       "        vertical-align: middle;\n",
       "    }\n",
       "\n",
       "    .dataframe tbody tr th {\n",
       "        vertical-align: top;\n",
       "    }\n",
       "\n",
       "    .dataframe thead th {\n",
       "        text-align: right;\n",
       "    }\n",
       "</style>\n",
       "<table border=\"1\" class=\"dataframe\">\n",
       "  <thead>\n",
       "    <tr style=\"text-align: right;\">\n",
       "      <th></th>\n",
       "      <th>Pleural Effusion</th>\n",
       "      <th>Support Devices</th>\n",
       "      <th>Lung Opacity</th>\n",
       "      <th>mean</th>\n",
       "    </tr>\n",
       "    <tr>\n",
       "      <th>Steps: 71100</th>\n",
       "      <th></th>\n",
       "      <th></th>\n",
       "      <th></th>\n",
       "      <th></th>\n",
       "    </tr>\n",
       "  </thead>\n",
       "  <tbody>\n",
       "    <tr>\n",
       "      <th>PA_text</th>\n",
       "      <td>0.054688</td>\n",
       "      <td>0.027344</td>\n",
       "      <td>0.154948</td>\n",
       "      <td>0.078993</td>\n",
       "    </tr>\n",
       "    <tr>\n",
       "      <th>Lateral_PA_text</th>\n",
       "      <td>0.172519</td>\n",
       "      <td>0.027344</td>\n",
       "      <td>0.158118</td>\n",
       "      <td>0.119327</td>\n",
       "    </tr>\n",
       "    <tr>\n",
       "      <th>PA</th>\n",
       "      <td>0.056276</td>\n",
       "      <td>0.027344</td>\n",
       "      <td>0.127363</td>\n",
       "      <td>0.070328</td>\n",
       "    </tr>\n",
       "    <tr>\n",
       "      <th>text</th>\n",
       "      <td>0.122210</td>\n",
       "      <td>0.027344</td>\n",
       "      <td>0.119420</td>\n",
       "      <td>0.089658</td>\n",
       "    </tr>\n",
       "    <tr>\n",
       "      <th>Lateral_text</th>\n",
       "      <td>0.114397</td>\n",
       "      <td>0.027344</td>\n",
       "      <td>0.182021</td>\n",
       "      <td>0.107921</td>\n",
       "    </tr>\n",
       "    <tr>\n",
       "      <th>Lateral_PA</th>\n",
       "      <td>0.062686</td>\n",
       "      <td>0.027344</td>\n",
       "      <td>0.126877</td>\n",
       "      <td>0.072302</td>\n",
       "    </tr>\n",
       "    <tr>\n",
       "      <th>Lateral</th>\n",
       "      <td>0.060985</td>\n",
       "      <td>0.027344</td>\n",
       "      <td>0.153607</td>\n",
       "      <td>0.080645</td>\n",
       "    </tr>\n",
       "  </tbody>\n",
       "</table>\n",
       "</div>"
      ],
      "text/plain": [
       "                 Pleural Effusion  Support Devices  Lung Opacity      mean\n",
       "Steps: 71100                                                              \n",
       "PA_text                  0.054688         0.027344      0.154948  0.078993\n",
       "Lateral_PA_text          0.172519         0.027344      0.158118  0.119327\n",
       "PA                       0.056276         0.027344      0.127363  0.070328\n",
       "text                     0.122210         0.027344      0.119420  0.089658\n",
       "Lateral_text             0.114397         0.027344      0.182021  0.107921\n",
       "Lateral_PA               0.062686         0.027344      0.126877  0.072302\n",
       "Lateral                  0.060985         0.027344      0.153607  0.080645"
      ]
     },
     "metadata": {},
     "output_type": "display_data"
    }
   ],
   "source": [
    "for df, experiment in dfs:\n",
    "    flags = experiments_dataframe.loc[experiments_dataframe['experiment_uid'] == experiment]\n",
    "\n",
    "    print(f'Experiment {experiment} with text encoding: {flags.text_encoding.item()}, '\n",
    "          f'image size: {flags.img_size.item()}, method: {flags.method.item()} \\n and trained '\n",
    "          f'for {flags.total_epochs.item()} epochs with batch size: {flags.batch_size.item()} '\n",
    "          f'and {flags.steps_per_training_epoch.item()} steps per training epoch')\n",
    "    display(df)"
   ]
  },
  {
   "cell_type": "markdown",
   "metadata": {
    "pycharm": {
     "name": "#%% md\n"
    }
   },
   "source": [
    " # Evaluation of the classifiers\n",
    " All classifiers were trained for 100 epochs"
   ]
  },
  {
   "cell_type": "code",
   "execution_count": 17,
   "metadata": {
    "ExecuteTime": {
     "end_time": "2020-10-30T21:01:03.221755Z",
     "start_time": "2020-10-30T21:01:03.217661Z"
    },
    "execution": {
     "iopub.execute_input": "2020-10-31T10:54:26.196428Z",
     "iopub.status.busy": "2020-10-31T10:54:26.195585Z",
     "iopub.status.idle": "2020-10-31T10:54:26.199190Z",
     "shell.execute_reply": "2020-10-31T10:54:26.198304Z"
    },
    "pycharm": {
     "name": "#%%\n"
    }
   },
   "outputs": [],
   "source": [
    "labels = ['Lung Opacity', 'Pleural Effusion', 'Support Devices']\n",
    "\n",
    "FLAGS.num_features = len(alphabet)\n",
    "FLAGS.batch_size = 300\n"
   ]
  },
  {
   "cell_type": "markdown",
   "metadata": {
    "pycharm": {
     "name": "#%% md\n"
    }
   },
   "source": [
    "## Evaluation of the character encoding and image size 128"
   ]
  },
  {
   "cell_type": "code",
   "execution_count": 18,
   "metadata": {
    "ExecuteTime": {
     "end_time": "2020-10-30T21:01:22.034672Z",
     "start_time": "2020-10-30T21:01:03.224397Z"
    },
    "execution": {
     "iopub.execute_input": "2020-10-31T10:54:26.205777Z",
     "iopub.status.busy": "2020-10-31T10:54:26.204920Z",
     "iopub.status.idle": "2020-10-31T10:54:42.687954Z",
     "shell.execute_reply": "2020-10-31T10:54:42.689011Z"
    }
   },
   "outputs": [
    {
     "name": "stdout",
     "output_type": "stream",
     "text": [
      "setting dataset\n",
      "setting modalities\n",
      "setting model\n",
      "setting clfs\n",
      "setting rec_weights\n",
      "dict_keys(['real', 'random', '', 'PA', 'Lateral', 'text', 'Lateral_PA', 'PA_text', 'Lateral_text', 'Lateral_PA_text'])\n",
      "char\n",
      "mean precision for pa classifier:  0.39415439014746345\n",
      "mean precision for lat classifier:  0.23401534481353384\n",
      "mean precision for text classifier:  0.5803474159536921\n"
     ]
    }
   ],
   "source": [
    "list_precision_pa, list_precision_lat, list_precision_text = test_clfs(FLAGS, 128, 'char', alphabet)\n",
    "\n",
    "print('mean precision for pa classifier: ', np.mean(list_precision_pa))\n",
    "print('mean precision for lat classifier: ',np.mean(list_precision_lat))\n",
    "print('mean precision for text classifier: ',np.mean(list_precision_text))"
   ]
  },
  {
   "cell_type": "markdown",
   "metadata": {
    "pycharm": {
     "name": "#%% md\n"
    }
   },
   "source": [
    "## Evaluation of the word encoding and image size 128\n",
    "### The text classifier precision is slightly better for the word encoding"
   ]
  },
  {
   "cell_type": "code",
   "execution_count": 19,
   "metadata": {
    "ExecuteTime": {
     "end_time": "2020-10-30T21:01:55.066887Z",
     "start_time": "2020-10-30T21:01:22.037223Z"
    },
    "execution": {
     "iopub.execute_input": "2020-10-31T10:54:42.695882Z",
     "iopub.status.busy": "2020-10-31T10:54:42.694802Z",
     "iopub.status.idle": "2020-10-31T10:55:12.920768Z",
     "shell.execute_reply": "2020-10-31T10:55:12.919833Z"
    }
   },
   "outputs": [
    {
     "name": "stdout",
     "output_type": "stream",
     "text": [
      "setting dataset\n",
      "setting modalities\n",
      "setting model\n",
      "setting clfs\n",
      "setting rec_weights\n",
      "dict_keys(['real', 'random', '', 'PA', 'Lateral', 'text', 'Lateral_PA', 'PA_text', 'Lateral_text', 'Lateral_PA_text'])\n",
      "word\n",
      "mean precision for pa classifier:  0.36514591827396703\n",
      "mean precision for lat classifier:  0.2211051543545864\n",
      "mean precision for text classifier:  0.674078788856655\n"
     ]
    }
   ],
   "source": [
    "list_precision_pa, list_precision_lat,list_precision_text = test_clfs(FLAGS, 128, 'word', alphabet)\n",
    "print('mean precision for pa classifier: ',np.mean(list_precision_pa))\n",
    "print('mean precision for lat classifier: ',np.mean(list_precision_lat))\n",
    "print('mean precision for text classifier: ',np.mean(list_precision_text))"
   ]
  },
  {
   "cell_type": "markdown",
   "metadata": {
    "pycharm": {
     "name": "#%% md\n"
    }
   },
   "source": [
    "## Evaluation of image size 256\n",
    "Loading the 256 dataset crashes jupyter notebooks for some reason. If that's the case, run it from the command\n",
    "line with: `jupyter nbconvert --to notebook --execute notebooks/model_exploration.ipynb`"
   ]
  },
  {
   "cell_type": "code",
   "execution_count": 20,
   "metadata": {
    "ExecuteTime": {
     "start_time": "2020-10-30T21:00:04.930Z"
    },
    "execution": {
     "iopub.execute_input": "2020-10-31T10:55:12.928458Z",
     "iopub.status.busy": "2020-10-31T10:55:12.927408Z",
     "iopub.status.idle": "2020-10-31T10:56:06.394582Z",
     "shell.execute_reply": "2020-10-31T10:56:06.395472Z"
    },
    "pycharm": {
     "name": "#%%\n"
    }
   },
   "outputs": [
    {
     "name": "stdout",
     "output_type": "stream",
     "text": [
      "setting dataset\n",
      "setting modalities\n",
      "setting model\n",
      "setting clfs\n",
      "setting rec_weights\n",
      "dict_keys(['real', 'random', '', 'PA', 'Lateral', 'text', 'Lateral_PA', 'PA_text', 'Lateral_text', 'Lateral_PA_text'])\n"
     ]
    }
   ],
   "source": [
    "import numpy as np\n",
    "\n",
    "from mimic.dataio.MimicDataset import Mimic\n",
    "from mimic.utils.experiment import MimicExperiment\n",
    "FLAGS.text_encoding = 'char'\n",
    "FLAGS.img_size = 256\n",
    "mimic_experiment = MimicExperiment(flags=FLAGS, alphabet=alphabet)\n",
    "mimic_test = Mimic(FLAGS, mimic_experiment.labels, alphabet, split='test')\n",
    "model_text = mimic_experiment.clfs['text']"
   ]
  },
  {
   "cell_type": "code",
   "execution_count": 21,
   "metadata": {
    "ExecuteTime": {
     "start_time": "2020-10-30T21:00:04.931Z"
    },
    "execution": {
     "iopub.execute_input": "2020-10-31T10:56:06.401643Z",
     "iopub.status.busy": "2020-10-31T10:56:06.400569Z",
     "iopub.status.idle": "2020-10-31T10:56:12.131808Z",
     "shell.execute_reply": "2020-10-31T10:56:12.132664Z"
    }
   },
   "outputs": [
    {
     "name": "stdout",
     "output_type": "stream",
     "text": [
      "char\n",
      "char\n",
      "char\n",
      "mean precision for pa classifier:  0.41602969689539815\n",
      "mean precision for lat classifier:  0.40079714910746855\n",
      "mean precision for text classifier:  0.5953110664731457\n"
     ]
    }
   ],
   "source": [
    "list_precision_pa = test_clf_pa(FLAGS, mimic_experiment, mimic_test, alphabet)\n",
    "list_precision_lat = test_clf_lat(FLAGS, mimic_experiment, mimic_test, alphabet)\n",
    "list_precision_text = test_clf_text(FLAGS, mimic_experiment, mimic_test, alphabet)\n",
    "print('mean precision for pa classifier: ',np.mean(list_precision_pa))\n",
    "print('mean precision for lat classifier: ',np.mean(list_precision_lat))\n",
    "print('mean precision for text classifier: ',np.mean(list_precision_text))\n"
   ]
  },
  {
   "cell_type": "code",
   "execution_count": null,
   "metadata": {},
   "outputs": [],
   "source": []
  }
 ],
 "metadata": {
  "kernelspec": {
   "display_name": "Python 3",
   "language": "python",
   "name": "python3"
  },
  "language_info": {
   "codemirror_mode": {
    "name": "ipython",
    "version": 3
   },
   "file_extension": ".py",
   "mimetype": "text/x-python",
   "name": "python",
   "nbconvert_exporter": "python",
   "pygments_lexer": "ipython3",
   "version": "3.8.5"
  }
 },
 "nbformat": 4,
 "nbformat_minor": 1
}
