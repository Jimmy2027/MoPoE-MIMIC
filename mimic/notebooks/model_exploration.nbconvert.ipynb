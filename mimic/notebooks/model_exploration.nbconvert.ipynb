{
 "cells": [
  {
   "cell_type": "code",
   "execution_count": 1,
   "metadata": {
    "ExecuteTime": {
     "end_time": "2020-10-30T19:49:11.359857Z",
     "start_time": "2020-10-30T19:49:11.349440Z"
    },
    "execution": {
     "iopub.execute_input": "2020-10-30T19:56:05.604769Z",
     "iopub.status.busy": "2020-10-30T19:56:05.603724Z",
     "iopub.status.idle": "2020-10-30T19:56:05.611404Z",
     "shell.execute_reply": "2020-10-30T19:56:05.612376Z"
    }
   },
   "outputs": [
    {
     "name": "stdout",
     "output_type": "stream",
     "text": [
      "/cluster/home/klugh/MIMIC/mimic\n"
     ]
    }
   ],
   "source": [
    "import os\n",
    "os.getcwd()\n",
    "%cd .."
   ]
  },
  {
   "cell_type": "code",
   "execution_count": 2,
   "metadata": {
    "ExecuteTime": {
     "end_time": "2020-10-30T19:49:19.406860Z",
     "start_time": "2020-10-30T19:49:11.363020Z"
    },
    "execution": {
     "iopub.execute_input": "2020-10-30T19:56:05.620380Z",
     "iopub.status.busy": "2020-10-30T19:56:05.619410Z",
     "iopub.status.idle": "2020-10-30T19:56:12.662274Z",
     "shell.execute_reply": "2020-10-30T19:56:12.663365Z"
    }
   },
   "outputs": [
    {
     "name": "stdout",
     "output_type": "stream",
     "text": [
      "True\n"
     ]
    }
   ],
   "source": [
    "from pathlib import Path\n",
    "\n",
    "from mimic.utils.experiment import MimicExperiment\n",
    "from mimic.utils.filehandling import set_paths\n",
    "from mimic.utils import plot\n",
    "from tensorflow.python.summary.summary_iterator import summary_iterator\n",
    "import json\n",
    "\n",
    "import torch\n",
    "import numpy as np\n",
    "from mimic.utils.filehandling import get_config_path\n",
    "from mimic.notebooks.utils.boilerplate import test_clfs, test_clf_text, test_clf_pa, test_clf_lat"
   ]
  },
  {
   "cell_type": "code",
   "execution_count": 3,
   "metadata": {
    "ExecuteTime": {
     "end_time": "2020-10-30T19:49:19.417671Z",
     "start_time": "2020-10-30T19:49:19.408995Z"
    },
    "execution": {
     "iopub.execute_input": "2020-10-30T19:56:12.674012Z",
     "iopub.status.busy": "2020-10-30T19:56:12.673007Z",
     "iopub.status.idle": "2020-10-30T19:56:12.676218Z",
     "shell.execute_reply": "2020-10-30T19:56:12.675163Z"
    },
    "pycharm": {
     "name": "#%%\n"
    }
   },
   "outputs": [],
   "source": [
    "from PIL import ImageFont\n",
    "try:\n",
    "    font = ImageFont.truetype('FreeSerif.ttf', 38)\n",
    "except:\n",
    "    font = ImageFont.truetype('/Library/Fonts/Arial.ttf', 38)"
   ]
  },
  {
   "cell_type": "code",
   "execution_count": 4,
   "metadata": {
    "ExecuteTime": {
     "end_time": "2020-10-30T19:49:19.446465Z",
     "start_time": "2020-10-30T19:49:19.419897Z"
    },
    "execution": {
     "iopub.execute_input": "2020-10-30T19:56:12.683438Z",
     "iopub.status.busy": "2020-10-30T19:56:12.682380Z",
     "iopub.status.idle": "2020-10-30T19:56:12.694056Z",
     "shell.execute_reply": "2020-10-30T19:56:12.693075Z"
    },
    "pycharm": {
     "name": "#%%\n"
    }
   },
   "outputs": [
    {
     "name": "stdout",
     "output_type": "stream",
     "text": [
      "True\n"
     ]
    }
   ],
   "source": [
    "experiment_dir = '~/klugh/mimic/moe/non_factorized/Mimic_2020_10_30_17_20_31_531755'\n",
    "flags_path = os.path.expanduser(os.path.join(experiment_dir,'flags.rar'))\n",
    "FLAGS = torch.load(flags_path)\n",
    "\n",
    "FLAGS = set_paths(FLAGS)\n",
    "FLAGS.device = torch.device('cuda' if torch.cuda.is_available() else 'cpu')\n",
    "\n",
    "alphabet_path = os.path.join(str(Path(os.getcwd())), 'alphabet.json')\n",
    "with open(alphabet_path) as alphabet_file:\n",
    "    alphabet = str(''.join(json.load(alphabet_file)))\n",
    "path =os.path.expanduser(os.path.join(experiment_dir,'checkpoints/0004/mm_vae'))\n",
    "print(os.path.exists(path))"
   ]
  },
  {
   "cell_type": "code",
   "execution_count": 5,
   "metadata": {
    "ExecuteTime": {
     "end_time": "2020-10-30T19:49:19.457452Z",
     "start_time": "2020-10-30T19:49:19.448213Z"
    },
    "execution": {
     "iopub.execute_input": "2020-10-30T19:56:12.698952Z",
     "iopub.status.busy": "2020-10-30T19:56:12.698087Z",
     "iopub.status.idle": "2020-10-30T19:56:12.701827Z",
     "shell.execute_reply": "2020-10-30T19:56:12.700935Z"
    },
    "pycharm": {
     "name": "#%%\n"
    }
   },
   "outputs": [
    {
     "name": "stdout",
     "output_type": "stream",
     "text": [
      "/cluster/home/klugh/scratch\n"
     ]
    }
   ],
   "source": [
    "print(FLAGS.dir_data)\n",
    "FLAGS.dir_data = os.path.expanduser('~/klugh')\n",
    "FLAGS.dir_clf=os.path.expanduser('~/klugh/mimic/trained_classifiers')"
   ]
  },
  {
   "cell_type": "code",
   "execution_count": 6,
   "metadata": {
    "ExecuteTime": {
     "end_time": "2020-10-30T19:50:03.989850Z",
     "start_time": "2020-10-30T19:49:19.459134Z"
    },
    "execution": {
     "iopub.execute_input": "2020-10-30T19:56:12.707985Z",
     "iopub.status.busy": "2020-10-30T19:56:12.707126Z",
     "iopub.status.idle": "2020-10-30T19:57:20.555745Z",
     "shell.execute_reply": "2020-10-30T19:57:20.554615Z"
    },
    "pycharm": {
     "name": "#%%\n"
    }
   },
   "outputs": [
    {
     "name": "stdout",
     "output_type": "stream",
     "text": [
      "setting dataset\n",
      "setting modalities\n",
      "setting model\n",
      "setting clfs\n",
      "setting rec_weights\n",
      "dict_keys(['real', 'random', '', 'PA', 'Lateral', 'text', 'Lateral_PA', 'PA_text', 'Lateral_text', 'Lateral_PA_text'])\n"
     ]
    }
   ],
   "source": [
    "mimic_experiment = MimicExperiment(flags=FLAGS, alphabet=alphabet)\n"
   ]
  },
  {
   "cell_type": "code",
   "execution_count": 7,
   "metadata": {
    "ExecuteTime": {
     "end_time": "2020-10-30T19:50:04.001604Z",
     "start_time": "2020-10-30T19:50:03.991741Z"
    },
    "execution": {
     "iopub.execute_input": "2020-10-30T19:57:20.561470Z",
     "iopub.status.busy": "2020-10-30T19:57:20.560409Z",
     "iopub.status.idle": "2020-10-30T19:57:20.580035Z",
     "shell.execute_reply": "2020-10-30T19:57:20.581013Z"
    },
    "pycharm": {
     "name": "#%%\n"
    }
   },
   "outputs": [
    {
     "data": {
      "text/plain": [
       "VAEtrimodalMimic(\n",
       "  (encoder_pa): EncoderImg(\n",
       "    (feature_extractor): FeatureExtractorImg(\n",
       "      (conv1): Conv2d(1, 64, kernel_size=(3, 3), stride=(2, 2), padding=(1, 1), bias=False)\n",
       "      (resblock_1): Sequential(\n",
       "        (0): ResidualBlock2dConv(\n",
       "          (conv1): Conv2d(64, 64, kernel_size=(1, 1), stride=(1, 1), bias=False)\n",
       "          (dropout1): Dropout2d(p=0.5, inplace=False)\n",
       "          (bn1): BatchNorm2d(64, eps=1e-05, momentum=0.1, affine=True, track_running_stats=True)\n",
       "          (relu): ReLU(inplace=True)\n",
       "          (bn2): BatchNorm2d(64, eps=1e-05, momentum=0.1, affine=True, track_running_stats=True)\n",
       "          (conv2): Conv2d(64, 128, kernel_size=(4, 4), stride=(2, 2), padding=(1, 1), bias=False)\n",
       "          (dropout2): Dropout2d(p=0.5, inplace=False)\n",
       "          (downsample): Sequential(\n",
       "            (0): Conv2d(64, 128, kernel_size=(4, 4), stride=(2, 2), padding=(1, 1))\n",
       "            (1): BatchNorm2d(128, eps=1e-05, momentum=0.1, affine=True, track_running_stats=True)\n",
       "          )\n",
       "        )\n",
       "      )\n",
       "      (resblock_2): Sequential(\n",
       "        (0): ResidualBlock2dConv(\n",
       "          (conv1): Conv2d(128, 128, kernel_size=(1, 1), stride=(1, 1), bias=False)\n",
       "          (dropout1): Dropout2d(p=0.5, inplace=False)\n",
       "          (bn1): BatchNorm2d(128, eps=1e-05, momentum=0.1, affine=True, track_running_stats=True)\n",
       "          (relu): ReLU(inplace=True)\n",
       "          (bn2): BatchNorm2d(128, eps=1e-05, momentum=0.1, affine=True, track_running_stats=True)\n",
       "          (conv2): Conv2d(128, 192, kernel_size=(4, 4), stride=(2, 2), padding=(1, 1), bias=False)\n",
       "          (dropout2): Dropout2d(p=0.5, inplace=False)\n",
       "          (downsample): Sequential(\n",
       "            (0): Conv2d(128, 192, kernel_size=(4, 4), stride=(2, 2), padding=(1, 1))\n",
       "            (1): BatchNorm2d(192, eps=1e-05, momentum=0.1, affine=True, track_running_stats=True)\n",
       "          )\n",
       "        )\n",
       "      )\n",
       "      (resblock_3): Sequential(\n",
       "        (0): ResidualBlock2dConv(\n",
       "          (conv1): Conv2d(192, 192, kernel_size=(1, 1), stride=(1, 1), bias=False)\n",
       "          (dropout1): Dropout2d(p=0.5, inplace=False)\n",
       "          (bn1): BatchNorm2d(192, eps=1e-05, momentum=0.1, affine=True, track_running_stats=True)\n",
       "          (relu): ReLU(inplace=True)\n",
       "          (bn2): BatchNorm2d(192, eps=1e-05, momentum=0.1, affine=True, track_running_stats=True)\n",
       "          (conv2): Conv2d(192, 256, kernel_size=(4, 4), stride=(2, 2), padding=(1, 1), bias=False)\n",
       "          (dropout2): Dropout2d(p=0.5, inplace=False)\n",
       "          (downsample): Sequential(\n",
       "            (0): Conv2d(192, 256, kernel_size=(4, 4), stride=(2, 2), padding=(1, 1))\n",
       "            (1): BatchNorm2d(256, eps=1e-05, momentum=0.1, affine=True, track_running_stats=True)\n",
       "          )\n",
       "        )\n",
       "      )\n",
       "      (resblock_4): Sequential(\n",
       "        (0): ResidualBlock2dConv(\n",
       "          (conv1): Conv2d(256, 256, kernel_size=(1, 1), stride=(1, 1), bias=False)\n",
       "          (dropout1): Dropout2d(p=0.5, inplace=False)\n",
       "          (bn1): BatchNorm2d(256, eps=1e-05, momentum=0.1, affine=True, track_running_stats=True)\n",
       "          (relu): ReLU(inplace=True)\n",
       "          (bn2): BatchNorm2d(256, eps=1e-05, momentum=0.1, affine=True, track_running_stats=True)\n",
       "          (conv2): Conv2d(256, 320, kernel_size=(4, 4), stride=(2, 2), padding=(1, 1), bias=False)\n",
       "          (dropout2): Dropout2d(p=0.5, inplace=False)\n",
       "          (downsample): Sequential(\n",
       "            (0): Conv2d(256, 320, kernel_size=(4, 4), stride=(2, 2), padding=(1, 1))\n",
       "            (1): BatchNorm2d(320, eps=1e-05, momentum=0.1, affine=True, track_running_stats=True)\n",
       "          )\n",
       "        )\n",
       "      )\n",
       "      (resblock_5): Sequential(\n",
       "        (0): ResidualBlock2dConv(\n",
       "          (conv1): Conv2d(320, 320, kernel_size=(1, 1), stride=(1, 1), bias=False)\n",
       "          (dropout1): Dropout2d(p=0.5, inplace=False)\n",
       "          (bn1): BatchNorm2d(320, eps=1e-05, momentum=0.1, affine=True, track_running_stats=True)\n",
       "          (relu): ReLU(inplace=True)\n",
       "          (bn2): BatchNorm2d(320, eps=1e-05, momentum=0.1, affine=True, track_running_stats=True)\n",
       "          (conv2): Conv2d(320, 320, kernel_size=(4, 4), stride=(2, 2), bias=False)\n",
       "          (dropout2): Dropout2d(p=0.5, inplace=False)\n",
       "          (downsample): Sequential(\n",
       "            (0): Conv2d(320, 320, kernel_size=(4, 4), stride=(2, 2))\n",
       "            (1): BatchNorm2d(320, eps=1e-05, momentum=0.1, affine=True, track_running_stats=True)\n",
       "          )\n",
       "        )\n",
       "      )\n",
       "    )\n",
       "    (feature_compressor): LinearFeatureCompressor(\n",
       "      (content_mu): Linear(in_features=320, out_features=64, bias=True)\n",
       "      (content_logvar): Linear(in_features=320, out_features=64, bias=True)\n",
       "    )\n",
       "  )\n",
       "  (encoder_lat): EncoderImg(\n",
       "    (feature_extractor): FeatureExtractorImg(\n",
       "      (conv1): Conv2d(1, 64, kernel_size=(3, 3), stride=(2, 2), padding=(1, 1), bias=False)\n",
       "      (resblock_1): Sequential(\n",
       "        (0): ResidualBlock2dConv(\n",
       "          (conv1): Conv2d(64, 64, kernel_size=(1, 1), stride=(1, 1), bias=False)\n",
       "          (dropout1): Dropout2d(p=0.5, inplace=False)\n",
       "          (bn1): BatchNorm2d(64, eps=1e-05, momentum=0.1, affine=True, track_running_stats=True)\n",
       "          (relu): ReLU(inplace=True)\n",
       "          (bn2): BatchNorm2d(64, eps=1e-05, momentum=0.1, affine=True, track_running_stats=True)\n",
       "          (conv2): Conv2d(64, 128, kernel_size=(4, 4), stride=(2, 2), padding=(1, 1), bias=False)\n",
       "          (dropout2): Dropout2d(p=0.5, inplace=False)\n",
       "          (downsample): Sequential(\n",
       "            (0): Conv2d(64, 128, kernel_size=(4, 4), stride=(2, 2), padding=(1, 1))\n",
       "            (1): BatchNorm2d(128, eps=1e-05, momentum=0.1, affine=True, track_running_stats=True)\n",
       "          )\n",
       "        )\n",
       "      )\n",
       "      (resblock_2): Sequential(\n",
       "        (0): ResidualBlock2dConv(\n",
       "          (conv1): Conv2d(128, 128, kernel_size=(1, 1), stride=(1, 1), bias=False)\n",
       "          (dropout1): Dropout2d(p=0.5, inplace=False)\n",
       "          (bn1): BatchNorm2d(128, eps=1e-05, momentum=0.1, affine=True, track_running_stats=True)\n",
       "          (relu): ReLU(inplace=True)\n",
       "          (bn2): BatchNorm2d(128, eps=1e-05, momentum=0.1, affine=True, track_running_stats=True)\n",
       "          (conv2): Conv2d(128, 192, kernel_size=(4, 4), stride=(2, 2), padding=(1, 1), bias=False)\n",
       "          (dropout2): Dropout2d(p=0.5, inplace=False)\n",
       "          (downsample): Sequential(\n",
       "            (0): Conv2d(128, 192, kernel_size=(4, 4), stride=(2, 2), padding=(1, 1))\n",
       "            (1): BatchNorm2d(192, eps=1e-05, momentum=0.1, affine=True, track_running_stats=True)\n",
       "          )\n",
       "        )\n",
       "      )\n",
       "      (resblock_3): Sequential(\n",
       "        (0): ResidualBlock2dConv(\n",
       "          (conv1): Conv2d(192, 192, kernel_size=(1, 1), stride=(1, 1), bias=False)\n",
       "          (dropout1): Dropout2d(p=0.5, inplace=False)\n",
       "          (bn1): BatchNorm2d(192, eps=1e-05, momentum=0.1, affine=True, track_running_stats=True)\n",
       "          (relu): ReLU(inplace=True)\n",
       "          (bn2): BatchNorm2d(192, eps=1e-05, momentum=0.1, affine=True, track_running_stats=True)\n",
       "          (conv2): Conv2d(192, 256, kernel_size=(4, 4), stride=(2, 2), padding=(1, 1), bias=False)\n",
       "          (dropout2): Dropout2d(p=0.5, inplace=False)\n",
       "          (downsample): Sequential(\n",
       "            (0): Conv2d(192, 256, kernel_size=(4, 4), stride=(2, 2), padding=(1, 1))\n",
       "            (1): BatchNorm2d(256, eps=1e-05, momentum=0.1, affine=True, track_running_stats=True)\n",
       "          )\n",
       "        )\n",
       "      )\n",
       "      (resblock_4): Sequential(\n",
       "        (0): ResidualBlock2dConv(\n",
       "          (conv1): Conv2d(256, 256, kernel_size=(1, 1), stride=(1, 1), bias=False)\n",
       "          (dropout1): Dropout2d(p=0.5, inplace=False)\n",
       "          (bn1): BatchNorm2d(256, eps=1e-05, momentum=0.1, affine=True, track_running_stats=True)\n",
       "          (relu): ReLU(inplace=True)\n",
       "          (bn2): BatchNorm2d(256, eps=1e-05, momentum=0.1, affine=True, track_running_stats=True)\n",
       "          (conv2): Conv2d(256, 320, kernel_size=(4, 4), stride=(2, 2), padding=(1, 1), bias=False)\n",
       "          (dropout2): Dropout2d(p=0.5, inplace=False)\n",
       "          (downsample): Sequential(\n",
       "            (0): Conv2d(256, 320, kernel_size=(4, 4), stride=(2, 2), padding=(1, 1))\n",
       "            (1): BatchNorm2d(320, eps=1e-05, momentum=0.1, affine=True, track_running_stats=True)\n",
       "          )\n",
       "        )\n",
       "      )\n",
       "      (resblock_5): Sequential(\n",
       "        (0): ResidualBlock2dConv(\n",
       "          (conv1): Conv2d(320, 320, kernel_size=(1, 1), stride=(1, 1), bias=False)\n",
       "          (dropout1): Dropout2d(p=0.5, inplace=False)\n",
       "          (bn1): BatchNorm2d(320, eps=1e-05, momentum=0.1, affine=True, track_running_stats=True)\n",
       "          (relu): ReLU(inplace=True)\n",
       "          (bn2): BatchNorm2d(320, eps=1e-05, momentum=0.1, affine=True, track_running_stats=True)\n",
       "          (conv2): Conv2d(320, 320, kernel_size=(4, 4), stride=(2, 2), bias=False)\n",
       "          (dropout2): Dropout2d(p=0.5, inplace=False)\n",
       "          (downsample): Sequential(\n",
       "            (0): Conv2d(320, 320, kernel_size=(4, 4), stride=(2, 2))\n",
       "            (1): BatchNorm2d(320, eps=1e-05, momentum=0.1, affine=True, track_running_stats=True)\n",
       "          )\n",
       "        )\n",
       "      )\n",
       "    )\n",
       "    (feature_compressor): LinearFeatureCompressor(\n",
       "      (content_mu): Linear(in_features=320, out_features=64, bias=True)\n",
       "      (content_logvar): Linear(in_features=320, out_features=64, bias=True)\n",
       "    )\n",
       "  )\n",
       "  (encoder_text): EncoderText(\n",
       "    (feature_extractor): FeatureExtractorText(\n",
       "      (embedding): Embedding(3517, 128, padding_idx=0)\n",
       "      (conv1): Conv1d(128, 128, kernel_size=(4,), stride=(2,), padding=(1,))\n",
       "      (resblock_1): Sequential(\n",
       "        (0): ResidualBlock1dConv(\n",
       "          (bn1): BatchNorm1d(128, eps=1e-05, momentum=0.1, affine=True, track_running_stats=True)\n",
       "          (conv1): Conv1d(128, 128, kernel_size=(1,), stride=(1,))\n",
       "          (dropout1): Dropout(p=0.5, inplace=False)\n",
       "          (relu): ReLU(inplace=True)\n",
       "          (bn2): BatchNorm1d(128, eps=1e-05, momentum=0.1, affine=True, track_running_stats=True)\n",
       "          (conv2): Conv1d(128, 256, kernel_size=(4,), stride=(2,), padding=(1,))\n",
       "          (dropout2): Dropout(p=0.5, inplace=False)\n",
       "          (downsample): Sequential(\n",
       "            (0): Conv1d(128, 256, kernel_size=(4,), stride=(2,), padding=(1,))\n",
       "            (1): BatchNorm1d(256, eps=1e-05, momentum=0.1, affine=True, track_running_stats=True)\n",
       "          )\n",
       "        )\n",
       "      )\n",
       "      (resblock_2): Sequential(\n",
       "        (0): ResidualBlock1dConv(\n",
       "          (bn1): BatchNorm1d(256, eps=1e-05, momentum=0.1, affine=True, track_running_stats=True)\n",
       "          (conv1): Conv1d(256, 256, kernel_size=(1,), stride=(1,))\n",
       "          (dropout1): Dropout(p=0.5, inplace=False)\n",
       "          (relu): ReLU(inplace=True)\n",
       "          (bn2): BatchNorm1d(256, eps=1e-05, momentum=0.1, affine=True, track_running_stats=True)\n",
       "          (conv2): Conv1d(256, 384, kernel_size=(4,), stride=(2,), padding=(1,))\n",
       "          (dropout2): Dropout(p=0.5, inplace=False)\n",
       "          (downsample): Sequential(\n",
       "            (0): Conv1d(256, 384, kernel_size=(4,), stride=(2,), padding=(1,))\n",
       "            (1): BatchNorm1d(384, eps=1e-05, momentum=0.1, affine=True, track_running_stats=True)\n",
       "          )\n",
       "        )\n",
       "      )\n",
       "      (resblock_3): Sequential(\n",
       "        (0): ResidualBlock1dConv(\n",
       "          (bn1): BatchNorm1d(384, eps=1e-05, momentum=0.1, affine=True, track_running_stats=True)\n",
       "          (conv1): Conv1d(384, 384, kernel_size=(1,), stride=(1,))\n",
       "          (dropout1): Dropout(p=0.5, inplace=False)\n",
       "          (relu): ReLU(inplace=True)\n",
       "          (bn2): BatchNorm1d(384, eps=1e-05, momentum=0.1, affine=True, track_running_stats=True)\n",
       "          (conv2): Conv1d(384, 512, kernel_size=(4,), stride=(2,), padding=(1,))\n",
       "          (dropout2): Dropout(p=0.5, inplace=False)\n",
       "          (downsample): Sequential(\n",
       "            (0): Conv1d(384, 512, kernel_size=(4,), stride=(2,), padding=(1,))\n",
       "            (1): BatchNorm1d(512, eps=1e-05, momentum=0.1, affine=True, track_running_stats=True)\n",
       "          )\n",
       "        )\n",
       "      )\n",
       "      (resblock_4): Sequential(\n",
       "        (0): ResidualBlock1dConv(\n",
       "          (bn1): BatchNorm1d(512, eps=1e-05, momentum=0.1, affine=True, track_running_stats=True)\n",
       "          (conv1): Conv1d(512, 512, kernel_size=(1,), stride=(1,))\n",
       "          (dropout1): Dropout(p=0.5, inplace=False)\n",
       "          (relu): ReLU(inplace=True)\n",
       "          (bn2): BatchNorm1d(512, eps=1e-05, momentum=0.1, affine=True, track_running_stats=True)\n",
       "          (conv2): Conv1d(512, 512, kernel_size=(4,), stride=(2,), padding=(1,))\n",
       "          (dropout2): Dropout(p=0.5, inplace=False)\n",
       "          (downsample): Sequential(\n",
       "            (0): Conv1d(512, 512, kernel_size=(4,), stride=(2,), padding=(1,))\n",
       "            (1): BatchNorm1d(512, eps=1e-05, momentum=0.1, affine=True, track_running_stats=True)\n",
       "          )\n",
       "        )\n",
       "      )\n",
       "      (resblock_5): Sequential(\n",
       "        (0): ResidualBlock1dConv(\n",
       "          (bn1): BatchNorm1d(512, eps=1e-05, momentum=0.1, affine=True, track_running_stats=True)\n",
       "          (conv1): Conv1d(512, 512, kernel_size=(1,), stride=(1,))\n",
       "          (dropout1): Dropout(p=0.5, inplace=False)\n",
       "          (relu): ReLU(inplace=True)\n",
       "          (bn2): BatchNorm1d(512, eps=1e-05, momentum=0.1, affine=True, track_running_stats=True)\n",
       "          (conv2): Conv1d(512, 512, kernel_size=(4,), stride=(2,), padding=(1,))\n",
       "          (dropout2): Dropout(p=0.5, inplace=False)\n",
       "          (downsample): Sequential(\n",
       "            (0): Conv1d(512, 512, kernel_size=(4,), stride=(2,), padding=(1,))\n",
       "            (1): BatchNorm1d(512, eps=1e-05, momentum=0.1, affine=True, track_running_stats=True)\n",
       "          )\n",
       "        )\n",
       "      )\n",
       "      (resblock_6): Sequential(\n",
       "        (0): ResidualBlock1dConv(\n",
       "          (bn1): BatchNorm1d(512, eps=1e-05, momentum=0.1, affine=True, track_running_stats=True)\n",
       "          (conv1): Conv1d(512, 512, kernel_size=(1,), stride=(1,))\n",
       "          (dropout1): Dropout(p=0.5, inplace=False)\n",
       "          (relu): ReLU(inplace=True)\n",
       "          (bn2): BatchNorm1d(512, eps=1e-05, momentum=0.1, affine=True, track_running_stats=True)\n",
       "          (conv2): Conv1d(512, 640, kernel_size=(4,), stride=(2,), padding=(1,))\n",
       "          (dropout2): Dropout(p=0.5, inplace=False)\n",
       "          (downsample): Sequential(\n",
       "            (0): Conv1d(512, 640, kernel_size=(4,), stride=(2,), padding=(1,))\n",
       "            (1): BatchNorm1d(640, eps=1e-05, momentum=0.1, affine=True, track_running_stats=True)\n",
       "          )\n",
       "        )\n",
       "      )\n",
       "      (resblock_7): Sequential(\n",
       "        (0): ResidualBlock1dConv(\n",
       "          (bn1): BatchNorm1d(640, eps=1e-05, momentum=0.1, affine=True, track_running_stats=True)\n",
       "          (conv1): Conv1d(640, 640, kernel_size=(1,), stride=(1,))\n",
       "          (dropout1): Dropout(p=0.5, inplace=False)\n",
       "          (relu): ReLU(inplace=True)\n",
       "          (bn2): BatchNorm1d(640, eps=1e-05, momentum=0.1, affine=True, track_running_stats=True)\n",
       "          (conv2): Conv1d(640, 640, kernel_size=(4,), stride=(2,), padding=(1,))\n",
       "          (dropout2): Dropout(p=0.5, inplace=False)\n",
       "          (downsample): Sequential(\n",
       "            (0): Conv1d(640, 640, kernel_size=(4,), stride=(2,), padding=(1,))\n",
       "            (1): BatchNorm1d(640, eps=1e-05, momentum=0.1, affine=True, track_running_stats=True)\n",
       "          )\n",
       "        )\n",
       "      )\n",
       "      (resblock_8): Sequential(\n",
       "        (0): ResidualBlock1dConv(\n",
       "          (bn1): BatchNorm1d(640, eps=1e-05, momentum=0.1, affine=True, track_running_stats=True)\n",
       "          (conv1): Conv1d(640, 640, kernel_size=(1,), stride=(1,))\n",
       "          (dropout1): Dropout(p=0.5, inplace=False)\n",
       "          (relu): ReLU(inplace=True)\n",
       "          (bn2): BatchNorm1d(640, eps=1e-05, momentum=0.1, affine=True, track_running_stats=True)\n",
       "          (conv2): Conv1d(640, 640, kernel_size=(4,), stride=(2,))\n",
       "          (dropout2): Dropout(p=0.5, inplace=False)\n",
       "          (downsample): Sequential(\n",
       "            (0): Conv1d(640, 640, kernel_size=(4,), stride=(2,))\n",
       "            (1): BatchNorm1d(640, eps=1e-05, momentum=0.1, affine=True, track_running_stats=True)\n",
       "          )\n",
       "        )\n",
       "      )\n",
       "    )\n",
       "    (feature_compressor): LinearFeatureCompressor(\n",
       "      (content_mu): Linear(in_features=640, out_features=64, bias=True)\n",
       "      (content_logvar): Linear(in_features=640, out_features=64, bias=True)\n",
       "    )\n",
       "  )\n",
       "  (decoder_pa): DecoderImg(\n",
       "    (feature_generator): Linear(in_features=64, out_features=320, bias=True)\n",
       "    (img_generator): DataGeneratorImg(\n",
       "      (generator): Sequential(\n",
       "        (0): Sequential(\n",
       "          (0): ResidualBlock2dTransposeConv(\n",
       "            (conv1): ConvTranspose2d(320, 320, kernel_size=(1, 1), stride=(1, 1), bias=False)\n",
       "            (dropout1): Dropout2d(p=0.5, inplace=False)\n",
       "            (bn1): BatchNorm2d(320, eps=1e-05, momentum=0.1, affine=True, track_running_stats=True)\n",
       "            (relu): ReLU(inplace=True)\n",
       "            (bn2): BatchNorm2d(320, eps=1e-05, momentum=0.1, affine=True, track_running_stats=True)\n",
       "            (conv2): ConvTranspose2d(320, 256, kernel_size=(4, 4), stride=(1, 1), bias=False)\n",
       "            (dropout2): Dropout2d(p=0.5, inplace=False)\n",
       "            (upsample): Sequential(\n",
       "              (0): ConvTranspose2d(320, 256, kernel_size=(4, 4), stride=(1, 1))\n",
       "              (1): BatchNorm2d(256, eps=1e-05, momentum=0.1, affine=True, track_running_stats=True)\n",
       "            )\n",
       "          )\n",
       "        )\n",
       "        (1): Sequential(\n",
       "          (0): ResidualBlock2dTransposeConv(\n",
       "            (conv1): ConvTranspose2d(256, 256, kernel_size=(1, 1), stride=(1, 1), bias=False)\n",
       "            (dropout1): Dropout2d(p=0.5, inplace=False)\n",
       "            (bn1): BatchNorm2d(256, eps=1e-05, momentum=0.1, affine=True, track_running_stats=True)\n",
       "            (relu): ReLU(inplace=True)\n",
       "            (bn2): BatchNorm2d(256, eps=1e-05, momentum=0.1, affine=True, track_running_stats=True)\n",
       "            (conv2): ConvTranspose2d(256, 192, kernel_size=(4, 4), stride=(2, 2), padding=(1, 1), bias=False)\n",
       "            (dropout2): Dropout2d(p=0.5, inplace=False)\n",
       "            (upsample): Sequential(\n",
       "              (0): ConvTranspose2d(256, 192, kernel_size=(4, 4), stride=(2, 2), padding=(1, 1))\n",
       "              (1): BatchNorm2d(192, eps=1e-05, momentum=0.1, affine=True, track_running_stats=True)\n",
       "            )\n",
       "          )\n",
       "        )\n",
       "        (2): Sequential(\n",
       "          (0): ResidualBlock2dTransposeConv(\n",
       "            (conv1): ConvTranspose2d(192, 192, kernel_size=(1, 1), stride=(1, 1), bias=False)\n",
       "            (dropout1): Dropout2d(p=0.5, inplace=False)\n",
       "            (bn1): BatchNorm2d(192, eps=1e-05, momentum=0.1, affine=True, track_running_stats=True)\n",
       "            (relu): ReLU(inplace=True)\n",
       "            (bn2): BatchNorm2d(192, eps=1e-05, momentum=0.1, affine=True, track_running_stats=True)\n",
       "            (conv2): ConvTranspose2d(192, 128, kernel_size=(4, 4), stride=(2, 2), padding=(1, 1), bias=False)\n",
       "            (dropout2): Dropout2d(p=0.5, inplace=False)\n",
       "            (upsample): Sequential(\n",
       "              (0): ConvTranspose2d(192, 128, kernel_size=(4, 4), stride=(2, 2), padding=(1, 1))\n",
       "              (1): BatchNorm2d(128, eps=1e-05, momentum=0.1, affine=True, track_running_stats=True)\n",
       "            )\n",
       "          )\n",
       "        )\n",
       "        (3): Sequential(\n",
       "          (0): ResidualBlock2dTransposeConv(\n",
       "            (conv1): ConvTranspose2d(128, 128, kernel_size=(1, 1), stride=(1, 1), bias=False)\n",
       "            (dropout1): Dropout2d(p=0.5, inplace=False)\n",
       "            (bn1): BatchNorm2d(128, eps=1e-05, momentum=0.1, affine=True, track_running_stats=True)\n",
       "            (relu): ReLU(inplace=True)\n",
       "            (bn2): BatchNorm2d(128, eps=1e-05, momentum=0.1, affine=True, track_running_stats=True)\n",
       "            (conv2): ConvTranspose2d(128, 64, kernel_size=(4, 4), stride=(2, 2), padding=(1, 1), bias=False)\n",
       "            (dropout2): Dropout2d(p=0.5, inplace=False)\n",
       "            (upsample): Sequential(\n",
       "              (0): ConvTranspose2d(128, 64, kernel_size=(4, 4), stride=(2, 2), padding=(1, 1))\n",
       "              (1): BatchNorm2d(64, eps=1e-05, momentum=0.1, affine=True, track_running_stats=True)\n",
       "            )\n",
       "          )\n",
       "        )\n",
       "        (4): Sequential(\n",
       "          (0): ResidualBlock2dTransposeConv(\n",
       "            (conv1): ConvTranspose2d(64, 64, kernel_size=(1, 1), stride=(1, 1), bias=False)\n",
       "            (dropout1): Dropout2d(p=0.5, inplace=False)\n",
       "            (bn1): BatchNorm2d(64, eps=1e-05, momentum=0.1, affine=True, track_running_stats=True)\n",
       "            (relu): ReLU(inplace=True)\n",
       "            (bn2): BatchNorm2d(64, eps=1e-05, momentum=0.1, affine=True, track_running_stats=True)\n",
       "            (conv2): ConvTranspose2d(64, 64, kernel_size=(4, 4), stride=(2, 2), padding=(1, 1), bias=False)\n",
       "            (dropout2): Dropout2d(p=0.5, inplace=False)\n",
       "            (upsample): Sequential(\n",
       "              (0): ConvTranspose2d(64, 64, kernel_size=(4, 4), stride=(2, 2), padding=(1, 1))\n",
       "              (1): BatchNorm2d(64, eps=1e-05, momentum=0.1, affine=True, track_running_stats=True)\n",
       "            )\n",
       "          )\n",
       "        )\n",
       "        (5): ConvTranspose2d(64, 1, kernel_size=(3, 3), stride=(2, 2), padding=(1, 1), output_padding=(1, 1))\n",
       "      )\n",
       "    )\n",
       "  )\n",
       "  (decoder_lat): DecoderImg(\n",
       "    (feature_generator): Linear(in_features=64, out_features=320, bias=True)\n",
       "    (img_generator): DataGeneratorImg(\n",
       "      (generator): Sequential(\n",
       "        (0): Sequential(\n",
       "          (0): ResidualBlock2dTransposeConv(\n",
       "            (conv1): ConvTranspose2d(320, 320, kernel_size=(1, 1), stride=(1, 1), bias=False)\n",
       "            (dropout1): Dropout2d(p=0.5, inplace=False)\n",
       "            (bn1): BatchNorm2d(320, eps=1e-05, momentum=0.1, affine=True, track_running_stats=True)\n",
       "            (relu): ReLU(inplace=True)\n",
       "            (bn2): BatchNorm2d(320, eps=1e-05, momentum=0.1, affine=True, track_running_stats=True)\n",
       "            (conv2): ConvTranspose2d(320, 256, kernel_size=(4, 4), stride=(1, 1), bias=False)\n",
       "            (dropout2): Dropout2d(p=0.5, inplace=False)\n",
       "            (upsample): Sequential(\n",
       "              (0): ConvTranspose2d(320, 256, kernel_size=(4, 4), stride=(1, 1))\n",
       "              (1): BatchNorm2d(256, eps=1e-05, momentum=0.1, affine=True, track_running_stats=True)\n",
       "            )\n",
       "          )\n",
       "        )\n",
       "        (1): Sequential(\n",
       "          (0): ResidualBlock2dTransposeConv(\n",
       "            (conv1): ConvTranspose2d(256, 256, kernel_size=(1, 1), stride=(1, 1), bias=False)\n",
       "            (dropout1): Dropout2d(p=0.5, inplace=False)\n",
       "            (bn1): BatchNorm2d(256, eps=1e-05, momentum=0.1, affine=True, track_running_stats=True)\n",
       "            (relu): ReLU(inplace=True)\n",
       "            (bn2): BatchNorm2d(256, eps=1e-05, momentum=0.1, affine=True, track_running_stats=True)\n",
       "            (conv2): ConvTranspose2d(256, 192, kernel_size=(4, 4), stride=(2, 2), padding=(1, 1), bias=False)\n",
       "            (dropout2): Dropout2d(p=0.5, inplace=False)\n",
       "            (upsample): Sequential(\n",
       "              (0): ConvTranspose2d(256, 192, kernel_size=(4, 4), stride=(2, 2), padding=(1, 1))\n",
       "              (1): BatchNorm2d(192, eps=1e-05, momentum=0.1, affine=True, track_running_stats=True)\n",
       "            )\n",
       "          )\n",
       "        )\n",
       "        (2): Sequential(\n",
       "          (0): ResidualBlock2dTransposeConv(\n",
       "            (conv1): ConvTranspose2d(192, 192, kernel_size=(1, 1), stride=(1, 1), bias=False)\n",
       "            (dropout1): Dropout2d(p=0.5, inplace=False)\n",
       "            (bn1): BatchNorm2d(192, eps=1e-05, momentum=0.1, affine=True, track_running_stats=True)\n",
       "            (relu): ReLU(inplace=True)\n",
       "            (bn2): BatchNorm2d(192, eps=1e-05, momentum=0.1, affine=True, track_running_stats=True)\n",
       "            (conv2): ConvTranspose2d(192, 128, kernel_size=(4, 4), stride=(2, 2), padding=(1, 1), bias=False)\n",
       "            (dropout2): Dropout2d(p=0.5, inplace=False)\n",
       "            (upsample): Sequential(\n",
       "              (0): ConvTranspose2d(192, 128, kernel_size=(4, 4), stride=(2, 2), padding=(1, 1))\n",
       "              (1): BatchNorm2d(128, eps=1e-05, momentum=0.1, affine=True, track_running_stats=True)\n",
       "            )\n",
       "          )\n",
       "        )\n",
       "        (3): Sequential(\n",
       "          (0): ResidualBlock2dTransposeConv(\n",
       "            (conv1): ConvTranspose2d(128, 128, kernel_size=(1, 1), stride=(1, 1), bias=False)\n",
       "            (dropout1): Dropout2d(p=0.5, inplace=False)\n",
       "            (bn1): BatchNorm2d(128, eps=1e-05, momentum=0.1, affine=True, track_running_stats=True)\n",
       "            (relu): ReLU(inplace=True)\n",
       "            (bn2): BatchNorm2d(128, eps=1e-05, momentum=0.1, affine=True, track_running_stats=True)\n",
       "            (conv2): ConvTranspose2d(128, 64, kernel_size=(4, 4), stride=(2, 2), padding=(1, 1), bias=False)\n",
       "            (dropout2): Dropout2d(p=0.5, inplace=False)\n",
       "            (upsample): Sequential(\n",
       "              (0): ConvTranspose2d(128, 64, kernel_size=(4, 4), stride=(2, 2), padding=(1, 1))\n",
       "              (1): BatchNorm2d(64, eps=1e-05, momentum=0.1, affine=True, track_running_stats=True)\n",
       "            )\n",
       "          )\n",
       "        )\n",
       "        (4): Sequential(\n",
       "          (0): ResidualBlock2dTransposeConv(\n",
       "            (conv1): ConvTranspose2d(64, 64, kernel_size=(1, 1), stride=(1, 1), bias=False)\n",
       "            (dropout1): Dropout2d(p=0.5, inplace=False)\n",
       "            (bn1): BatchNorm2d(64, eps=1e-05, momentum=0.1, affine=True, track_running_stats=True)\n",
       "            (relu): ReLU(inplace=True)\n",
       "            (bn2): BatchNorm2d(64, eps=1e-05, momentum=0.1, affine=True, track_running_stats=True)\n",
       "            (conv2): ConvTranspose2d(64, 64, kernel_size=(4, 4), stride=(2, 2), padding=(1, 1), bias=False)\n",
       "            (dropout2): Dropout2d(p=0.5, inplace=False)\n",
       "            (upsample): Sequential(\n",
       "              (0): ConvTranspose2d(64, 64, kernel_size=(4, 4), stride=(2, 2), padding=(1, 1))\n",
       "              (1): BatchNorm2d(64, eps=1e-05, momentum=0.1, affine=True, track_running_stats=True)\n",
       "            )\n",
       "          )\n",
       "        )\n",
       "        (5): ConvTranspose2d(64, 1, kernel_size=(3, 3), stride=(2, 2), padding=(1, 1), output_padding=(1, 1))\n",
       "      )\n",
       "    )\n",
       "  )\n",
       "  (decoder_text): DecoderText(\n",
       "    (feature_generator): Linear(in_features=64, out_features=640, bias=True)\n",
       "    (text_generator): DataGeneratorText(\n",
       "      (resblock_1): Sequential(\n",
       "        (0): ResidualBlock1dTransposeConv(\n",
       "          (bn1): BatchNorm1d(640, eps=1e-05, momentum=0.1, affine=True, track_running_stats=True)\n",
       "          (conv1): ConvTranspose1d(640, 640, kernel_size=(1,), stride=(1,))\n",
       "          (dropout1): Dropout(p=0.5, inplace=False)\n",
       "          (relu): ReLU(inplace=True)\n",
       "          (bn2): BatchNorm1d(640, eps=1e-05, momentum=0.1, affine=True, track_running_stats=True)\n",
       "          (conv2): ConvTranspose1d(640, 640, kernel_size=(4,), stride=(1,))\n",
       "          (dropout2): Dropout(p=0.5, inplace=False)\n",
       "          (upsample): Sequential(\n",
       "            (0): ConvTranspose1d(640, 640, kernel_size=(4,), stride=(1,))\n",
       "            (1): BatchNorm1d(640, eps=1e-05, momentum=0.1, affine=True, track_running_stats=True)\n",
       "          )\n",
       "        )\n",
       "      )\n",
       "      (resblock_2): Sequential(\n",
       "        (0): ResidualBlock1dTransposeConv(\n",
       "          (bn1): BatchNorm1d(640, eps=1e-05, momentum=0.1, affine=True, track_running_stats=True)\n",
       "          (conv1): ConvTranspose1d(640, 640, kernel_size=(1,), stride=(1,))\n",
       "          (dropout1): Dropout(p=0.5, inplace=False)\n",
       "          (relu): ReLU(inplace=True)\n",
       "          (bn2): BatchNorm1d(640, eps=1e-05, momentum=0.1, affine=True, track_running_stats=True)\n",
       "          (conv2): ConvTranspose1d(640, 640, kernel_size=(4,), stride=(2,), padding=(1,))\n",
       "          (dropout2): Dropout(p=0.5, inplace=False)\n",
       "          (upsample): Sequential(\n",
       "            (0): ConvTranspose1d(640, 640, kernel_size=(4,), stride=(2,), padding=(1,))\n",
       "            (1): BatchNorm1d(640, eps=1e-05, momentum=0.1, affine=True, track_running_stats=True)\n",
       "          )\n",
       "        )\n",
       "      )\n",
       "      (resblock_3): Sequential(\n",
       "        (0): ResidualBlock1dTransposeConv(\n",
       "          (bn1): BatchNorm1d(640, eps=1e-05, momentum=0.1, affine=True, track_running_stats=True)\n",
       "          (conv1): ConvTranspose1d(640, 640, kernel_size=(1,), stride=(1,))\n",
       "          (dropout1): Dropout(p=0.5, inplace=False)\n",
       "          (relu): ReLU(inplace=True)\n",
       "          (bn2): BatchNorm1d(640, eps=1e-05, momentum=0.1, affine=True, track_running_stats=True)\n",
       "          (conv2): ConvTranspose1d(640, 640, kernel_size=(4,), stride=(2,), padding=(1,))\n",
       "          (dropout2): Dropout(p=0.5, inplace=False)\n",
       "          (upsample): Sequential(\n",
       "            (0): ConvTranspose1d(640, 640, kernel_size=(4,), stride=(2,), padding=(1,))\n",
       "            (1): BatchNorm1d(640, eps=1e-05, momentum=0.1, affine=True, track_running_stats=True)\n",
       "          )\n",
       "        )\n",
       "      )\n",
       "      (resblock_4): Sequential(\n",
       "        (0): ResidualBlock1dTransposeConv(\n",
       "          (bn1): BatchNorm1d(640, eps=1e-05, momentum=0.1, affine=True, track_running_stats=True)\n",
       "          (conv1): ConvTranspose1d(640, 640, kernel_size=(1,), stride=(1,))\n",
       "          (dropout1): Dropout(p=0.5, inplace=False)\n",
       "          (relu): ReLU(inplace=True)\n",
       "          (bn2): BatchNorm1d(640, eps=1e-05, momentum=0.1, affine=True, track_running_stats=True)\n",
       "          (conv2): ConvTranspose1d(640, 512, kernel_size=(4,), stride=(2,), padding=(1,))\n",
       "          (dropout2): Dropout(p=0.5, inplace=False)\n",
       "          (upsample): Sequential(\n",
       "            (0): ConvTranspose1d(640, 512, kernel_size=(4,), stride=(2,), padding=(1,))\n",
       "            (1): BatchNorm1d(512, eps=1e-05, momentum=0.1, affine=True, track_running_stats=True)\n",
       "          )\n",
       "        )\n",
       "      )\n",
       "      (resblock_5): Sequential(\n",
       "        (0): ResidualBlock1dTransposeConv(\n",
       "          (bn1): BatchNorm1d(512, eps=1e-05, momentum=0.1, affine=True, track_running_stats=True)\n",
       "          (conv1): ConvTranspose1d(512, 512, kernel_size=(1,), stride=(1,))\n",
       "          (dropout1): Dropout(p=0.5, inplace=False)\n",
       "          (relu): ReLU(inplace=True)\n",
       "          (bn2): BatchNorm1d(512, eps=1e-05, momentum=0.1, affine=True, track_running_stats=True)\n",
       "          (conv2): ConvTranspose1d(512, 512, kernel_size=(4,), stride=(2,), padding=(1,))\n",
       "          (dropout2): Dropout(p=0.5, inplace=False)\n",
       "          (upsample): Sequential(\n",
       "            (0): ConvTranspose1d(512, 512, kernel_size=(4,), stride=(2,), padding=(1,))\n",
       "            (1): BatchNorm1d(512, eps=1e-05, momentum=0.1, affine=True, track_running_stats=True)\n",
       "          )\n",
       "        )\n",
       "      )\n",
       "      (resblock_6): Sequential(\n",
       "        (0): ResidualBlock1dTransposeConv(\n",
       "          (bn1): BatchNorm1d(512, eps=1e-05, momentum=0.1, affine=True, track_running_stats=True)\n",
       "          (conv1): ConvTranspose1d(512, 512, kernel_size=(1,), stride=(1,))\n",
       "          (dropout1): Dropout(p=0.5, inplace=False)\n",
       "          (relu): ReLU(inplace=True)\n",
       "          (bn2): BatchNorm1d(512, eps=1e-05, momentum=0.1, affine=True, track_running_stats=True)\n",
       "          (conv2): ConvTranspose1d(512, 384, kernel_size=(4,), stride=(2,), padding=(1,))\n",
       "          (dropout2): Dropout(p=0.5, inplace=False)\n",
       "          (upsample): Sequential(\n",
       "            (0): ConvTranspose1d(512, 384, kernel_size=(4,), stride=(2,), padding=(1,))\n",
       "            (1): BatchNorm1d(384, eps=1e-05, momentum=0.1, affine=True, track_running_stats=True)\n",
       "          )\n",
       "        )\n",
       "      )\n",
       "      (resblock_7): Sequential(\n",
       "        (0): ResidualBlock1dTransposeConv(\n",
       "          (bn1): BatchNorm1d(384, eps=1e-05, momentum=0.1, affine=True, track_running_stats=True)\n",
       "          (conv1): ConvTranspose1d(384, 384, kernel_size=(1,), stride=(1,))\n",
       "          (dropout1): Dropout(p=0.5, inplace=False)\n",
       "          (relu): ReLU(inplace=True)\n",
       "          (bn2): BatchNorm1d(384, eps=1e-05, momentum=0.1, affine=True, track_running_stats=True)\n",
       "          (conv2): ConvTranspose1d(384, 256, kernel_size=(4,), stride=(2,), padding=(1,))\n",
       "          (dropout2): Dropout(p=0.5, inplace=False)\n",
       "          (upsample): Sequential(\n",
       "            (0): ConvTranspose1d(384, 256, kernel_size=(4,), stride=(2,), padding=(1,))\n",
       "            (1): BatchNorm1d(256, eps=1e-05, momentum=0.1, affine=True, track_running_stats=True)\n",
       "          )\n",
       "        )\n",
       "      )\n",
       "      (resblock_8): Sequential(\n",
       "        (0): ResidualBlock1dTransposeConv(\n",
       "          (bn1): BatchNorm1d(256, eps=1e-05, momentum=0.1, affine=True, track_running_stats=True)\n",
       "          (conv1): ConvTranspose1d(256, 256, kernel_size=(1,), stride=(1,))\n",
       "          (dropout1): Dropout(p=0.5, inplace=False)\n",
       "          (relu): ReLU(inplace=True)\n",
       "          (bn2): BatchNorm1d(256, eps=1e-05, momentum=0.1, affine=True, track_running_stats=True)\n",
       "          (conv2): ConvTranspose1d(256, 128, kernel_size=(4,), stride=(2,), padding=(1,))\n",
       "          (dropout2): Dropout(p=0.5, inplace=False)\n",
       "          (upsample): Sequential(\n",
       "            (0): ConvTranspose1d(256, 128, kernel_size=(4,), stride=(2,), padding=(1,))\n",
       "            (1): BatchNorm1d(128, eps=1e-05, momentum=0.1, affine=True, track_running_stats=True)\n",
       "          )\n",
       "        )\n",
       "      )\n",
       "      (conv2): ConvTranspose1d(128, 3517, kernel_size=(4,), stride=(2,), padding=(1,))\n",
       "      (toVocabSize): Linear(in_features=128, out_features=3517, bias=True)\n",
       "      (softmax): LogSoftmax(dim=1)\n",
       "    )\n",
       "  )\n",
       ")"
      ]
     },
     "execution_count": 1,
     "metadata": {},
     "output_type": "execute_result"
    }
   ],
   "source": [
    "mimic_experiment.mm_vae.to(FLAGS.device);"
   ]
  },
  {
   "cell_type": "code",
   "execution_count": 8,
   "metadata": {
    "ExecuteTime": {
     "end_time": "2020-10-30T19:50:04.016480Z",
     "start_time": "2020-10-30T19:50:04.004691Z"
    },
    "execution": {
     "iopub.execute_input": "2020-10-30T19:57:20.586042Z",
     "iopub.status.busy": "2020-10-30T19:57:20.585055Z",
     "iopub.status.idle": "2020-10-30T19:57:20.588380Z",
     "shell.execute_reply": "2020-10-30T19:57:20.589142Z"
    }
   },
   "outputs": [
    {
     "name": "stdout",
     "output_type": "stream",
     "text": [
      "128\n"
     ]
    }
   ],
   "source": [
    "print(FLAGS.img_size)"
   ]
  },
  {
   "cell_type": "code",
   "execution_count": 9,
   "metadata": {
    "ExecuteTime": {
     "end_time": "2020-10-30T19:50:09.405630Z",
     "start_time": "2020-10-30T19:50:04.018415Z"
    },
    "execution": {
     "iopub.execute_input": "2020-10-30T19:57:20.593885Z",
     "iopub.status.busy": "2020-10-30T19:57:20.592957Z",
     "iopub.status.idle": "2020-10-30T19:57:25.240624Z",
     "shell.execute_reply": "2020-10-30T19:57:25.239506Z"
    },
    "pycharm": {
     "name": "#%%\n"
    }
   },
   "outputs": [
    {
     "data": {
      "text/plain": [
       "<All keys matched successfully>"
      ]
     },
     "execution_count": 1,
     "metadata": {},
     "output_type": "execute_result"
    }
   ],
   "source": [
    "mimic_experiment.mm_vae.load_state_dict(state_dict=torch.load(path))"
   ]
  },
  {
   "cell_type": "code",
   "execution_count": 10,
   "metadata": {
    "ExecuteTime": {
     "end_time": "2020-10-30T19:50:09.824102Z",
     "start_time": "2020-10-30T19:50:09.407325Z"
    },
    "execution": {
     "iopub.execute_input": "2020-10-30T19:57:25.246221Z",
     "iopub.status.busy": "2020-10-30T19:57:25.245161Z",
     "iopub.status.idle": "2020-10-30T19:57:25.578052Z",
     "shell.execute_reply": "2020-10-30T19:57:25.577072Z"
    },
    "pycharm": {
     "name": "#%%\n"
    }
   },
   "outputs": [],
   "source": [
    "num_samples = 5\n",
    "random_samples = mimic_experiment.mm_vae.generate(num_samples)\n",
    "epoch = 299"
   ]
  },
  {
   "cell_type": "code",
   "execution_count": 11,
   "metadata": {
    "ExecuteTime": {
     "end_time": "2020-10-30T19:50:11.276163Z",
     "start_time": "2020-10-30T19:50:09.825920Z"
    },
    "execution": {
     "iopub.execute_input": "2020-10-30T19:57:25.586813Z",
     "iopub.status.busy": "2020-10-30T19:57:25.585718Z",
     "iopub.status.idle": "2020-10-30T19:57:26.804426Z",
     "shell.execute_reply": "2020-10-30T19:57:26.803277Z"
    },
    "pycharm": {
     "name": "#%%\n"
    }
   },
   "outputs": [],
   "source": [
    "mods = mimic_experiment.modalities\n",
    "\n",
    "random_plots = dict();\n",
    "for k, m_key_in in enumerate(mods.keys()):\n",
    "    mod = mods[m_key_in];\n",
    "    samples_mod = random_samples[m_key_in];\n",
    "    rec = torch.zeros(mimic_experiment.plot_img_size,\n",
    "                      dtype=torch.float32).repeat(num_samples, 1, 1, 1);\n",
    "    for l in range(0, num_samples):\n",
    "        rand_plot = mod.plot_data(mimic_experiment, samples_mod[l]);\n",
    "        rec[l, :, :, :] = rand_plot;\n",
    "    random_plots[m_key_in] = rec;\n",
    "\n",
    "for k, m_key in enumerate(mods.keys()):\n",
    "    fn = os.path.join(mimic_experiment.flags.dir_random_samples, 'random_epoch_' +\n",
    "                      str(epoch).zfill(4) + '_' + m_key + '.png');\n",
    "    mod_plot = random_plots[m_key];\n",
    "    p = plot.create_fig(fn, mod_plot, 10, save_figure=mimic_experiment.flags.save_figure);\n",
    "    random_plots[m_key] = p;"
   ]
  },
  {
   "cell_type": "code",
   "execution_count": 12,
   "metadata": {
    "ExecuteTime": {
     "end_time": "2020-10-30T19:50:11.281127Z",
     "start_time": "2020-10-30T19:50:11.277820Z"
    },
    "execution": {
     "iopub.execute_input": "2020-10-30T19:57:26.809484Z",
     "iopub.status.busy": "2020-10-30T19:57:26.808412Z",
     "iopub.status.idle": "2020-10-30T19:57:26.811974Z",
     "shell.execute_reply": "2020-10-30T19:57:26.813031Z"
    }
   },
   "outputs": [
    {
     "name": "stdout",
     "output_type": "stream",
     "text": [
      "dict_keys(['PA', 'Lateral', 'text'])\n"
     ]
    }
   ],
   "source": [
    "print(random_plots.keys())"
   ]
  },
  {
   "cell_type": "code",
   "execution_count": 13,
   "metadata": {
    "ExecuteTime": {
     "end_time": "2020-10-30T19:50:13.121368Z",
     "start_time": "2020-10-30T19:50:11.282839Z"
    },
    "execution": {
     "iopub.execute_input": "2020-10-30T19:57:26.829329Z",
     "iopub.status.busy": "2020-10-30T19:57:26.828230Z",
     "iopub.status.idle": "2020-10-30T19:57:28.341894Z",
     "shell.execute_reply": "2020-10-30T19:57:28.342963Z"
    },
    "pycharm": {
     "name": "#%%\n"
    }
   },
   "outputs": [
    {
     "data": {
      "image/png": "[encoded data removed]",
      "text/plain": [
       "<Figure size 432x288 with 1 Axes>"
      ]
     },
     "metadata": {
      "needs_background": "light"
     },
     "output_type": "display_data"
    },
    {
     "data": {
      "image/png": "[encoded data removed]",
      "text/plain": [
       "<Figure size 432x288 with 1 Axes>"
      ]
     },
     "metadata": {
      "needs_background": "light"
     },
     "output_type": "display_data"
    },
    {
     "data": {
      "image/png": "[encoded data removed]",
      "text/plain": [
       "<Figure size 432x288 with 1 Axes>"
      ]
     },
     "metadata": {
      "needs_background": "light"
     },
     "output_type": "display_data"
    }
   ],
   "source": [
    "from matplotlib import pyplot as plt\n",
    "plt.imshow(random_plots['PA'])\n",
    "plt.show()\n",
    "plt.imshow(random_plots['Lateral'])\n",
    "plt.show()\n",
    "plt.imshow(random_plots['text'])\n",
    "plt.show()"
   ]
  },
  {
   "cell_type": "markdown",
   "metadata": {
    "pycharm": {
     "name": "#%% md\n"
    }
   },
   "source": [
    "# Test of the latent representations of the MMVAE\n",
    "### Average precision scores on the latent representations, averaged over the batches"
   ]
  },
  {
   "cell_type": "code",
   "execution_count": 14,
   "metadata": {
    "ExecuteTime": {
     "end_time": "2020-10-30T19:50:13.324756Z",
     "start_time": "2020-10-30T19:50:13.123014Z"
    },
    "execution": {
     "iopub.execute_input": "2020-10-30T19:57:28.351464Z",
     "iopub.status.busy": "2020-10-30T19:57:28.350423Z",
     "iopub.status.idle": "2020-10-30T19:57:28.739407Z",
     "shell.execute_reply": "2020-10-30T19:57:28.738266Z"
    },
    "pycharm": {
     "name": "#%%\n"
    }
   },
   "outputs": [
    {
     "name": "stdout",
     "output_type": "stream",
     "text": [
      "WARNING:tensorflow:From /cluster/home/klugh/software/anaconda/envs/temp/lib/python3.8/site-packages/tensorflow/python/summary/summary_iterator.py:68: tf_record_iterator (from tensorflow.python.lib.io.tf_record) is deprecated and will be removed in a future version.\n",
      "Instructions for updating:\n",
      "Use eager execution and: \n",
      "`tf.data.TFRecordDataset(path)`\n"
     ]
    }
   ],
   "source": [
    "config_path = get_config_path()\n",
    "with open(config_path, 'rt') as json_file:\n",
    "    config = json.load(json_file)\n",
    "\n",
    "checkpoint_path = os.path.expanduser(config['dir_fid'])\n",
    "lr_evals = dict()\n",
    "for modality_method in ['moe']:\n",
    "    for factorization in os.listdir(os.path.join(checkpoint_path, modality_method)):\n",
    "        for experiment in os.listdir(os.path.join(checkpoint_path, modality_method, factorization)):\n",
    "            if experiment.startswith('Mimic'):\n",
    "                lr_evals[experiment] = dict()\n",
    "                lr_eval = lr_evals[experiment]\n",
    "                experiment_dir_ = os.path.join(checkpoint_path, modality_method, factorization, experiment)\n",
    "                lr_eval_dir = os.path.join(experiment_dir_, 'logs', 'Latent Representation')\n",
    "                if os.path.exists(lr_eval_dir):\n",
    "                    for label in os.listdir(lr_eval_dir):\n",
    "                        lr_eval[label] = dict()\n",
    "                        for lr in os.listdir(os.path.join(lr_eval_dir, label)):\n",
    "                            lr_eval[label][lr] = dict()\n",
    "                            for logfile in os.listdir(os.path.join(lr_eval_dir, label, lr)):\n",
    "                                for summary in summary_iterator(os.path.join(lr_eval_dir, label, lr, logfile)):\n",
    "                                    value = summary.summary.value\n",
    "                                    temp = str(value).split('\\n')\n",
    "                                    for elem in temp:\n",
    "                                        elem = elem\n",
    "                                        if elem.startswith('simple_value'):\n",
    "                                            lr_eval[label][lr][summary.step] = elem.split(' ')[1]"
   ]
  },
  {
   "cell_type": "code",
   "execution_count": 15,
   "metadata": {
    "ExecuteTime": {
     "end_time": "2020-10-30T19:50:13.347977Z",
     "start_time": "2020-10-30T19:50:13.326368Z"
    },
    "execution": {
     "iopub.execute_input": "2020-10-30T19:57:28.746328Z",
     "iopub.status.busy": "2020-10-30T19:57:28.745228Z",
     "iopub.status.idle": "2020-10-30T19:57:28.762197Z",
     "shell.execute_reply": "2020-10-30T19:57:28.761173Z"
    },
    "pycharm": {
     "name": "#%%\n"
    }
   },
   "outputs": [],
   "source": [
    "import pandas as pd\n",
    "experiments_dataframe = pd.read_csv('experiments_dataframe.csv')\n",
    "dfs = []\n",
    "for experiment in lr_evals.keys():\n",
    "    experiment_evals = lr_evals[experiment]\n",
    "    if experiment_evals:\n",
    "        for label in experiment_evals.keys():\n",
    "            for lr in experiment_evals[label].keys():\n",
    "                steps = experiment_evals[label][lr].keys()\n",
    "                max_step = max(steps)\n",
    "                experiment_evals[label][lr] = experiment_evals[label][lr][max_step]\n",
    "\n",
    "        df = pd.DataFrame(experiment_evals).astype(float)\n",
    "        index = df.index\n",
    "        index.name = f'Steps: {max_step}'\n",
    "        df['mean'] = df.mean(numeric_only=True, axis=1)\n",
    "        dfs.append((df, experiment))"
   ]
  },
  {
   "cell_type": "code",
   "execution_count": 16,
   "metadata": {
    "ExecuteTime": {
     "end_time": "2020-10-30T19:50:13.384342Z",
     "start_time": "2020-10-30T19:50:13.349361Z"
    },
    "execution": {
     "iopub.execute_input": "2020-10-30T19:57:28.770678Z",
     "iopub.status.busy": "2020-10-30T19:57:28.769619Z",
     "iopub.status.idle": "2020-10-30T19:57:28.791883Z",
     "shell.execute_reply": "2020-10-30T19:57:28.792803Z"
    },
    "pycharm": {
     "name": "#%%\n"
    }
   },
   "outputs": [
    {
     "name": "stdout",
     "output_type": "stream",
     "text": [
      "Experiment Mimic_2020_10_26_23_01_20_004865 with text encoding: word, image size: 128.0, method: jsd and trained for 15.0 with batch size: 180.0\n"
     ]
    },
    {
     "data": {
      "text/html": [
       "<div>\n",
       "<style scoped>\n",
       "    .dataframe tbody tr th:only-of-type {\n",
       "        vertical-align: middle;\n",
       "    }\n",
       "\n",
       "    .dataframe tbody tr th {\n",
       "        vertical-align: top;\n",
       "    }\n",
       "\n",
       "    .dataframe thead th {\n",
       "        text-align: right;\n",
       "    }\n",
       "</style>\n",
       "<table border=\"1\" class=\"dataframe\">\n",
       "  <thead>\n",
       "    <tr style=\"text-align: right;\">\n",
       "      <th></th>\n",
       "      <th>Pleural Effusion</th>\n",
       "      <th>Support Devices</th>\n",
       "      <th>Lung Opacity</th>\n",
       "      <th>mean</th>\n",
       "    </tr>\n",
       "    <tr>\n",
       "      <th>Steps: 6740</th>\n",
       "      <th></th>\n",
       "      <th></th>\n",
       "      <th></th>\n",
       "      <th></th>\n",
       "    </tr>\n",
       "  </thead>\n",
       "  <tbody>\n",
       "    <tr>\n",
       "      <th>PA_text</th>\n",
       "      <td>0.165385</td>\n",
       "      <td>0.019444</td>\n",
       "      <td>0.112879</td>\n",
       "      <td>0.099236</td>\n",
       "    </tr>\n",
       "    <tr>\n",
       "      <th>Lateral_PA_text</th>\n",
       "      <td>0.210279</td>\n",
       "      <td>0.019444</td>\n",
       "      <td>0.111111</td>\n",
       "      <td>0.113612</td>\n",
       "    </tr>\n",
       "    <tr>\n",
       "      <th>PA</th>\n",
       "      <td>0.093269</td>\n",
       "      <td>0.019444</td>\n",
       "      <td>0.114646</td>\n",
       "      <td>0.075787</td>\n",
       "    </tr>\n",
       "    <tr>\n",
       "      <th>text</th>\n",
       "      <td>0.058333</td>\n",
       "      <td>0.019444</td>\n",
       "      <td>0.133333</td>\n",
       "      <td>0.070370</td>\n",
       "    </tr>\n",
       "    <tr>\n",
       "      <th>Lateral_text</th>\n",
       "      <td>0.129701</td>\n",
       "      <td>0.019444</td>\n",
       "      <td>0.111111</td>\n",
       "      <td>0.086752</td>\n",
       "    </tr>\n",
       "    <tr>\n",
       "      <th>Lateral_PA</th>\n",
       "      <td>0.099451</td>\n",
       "      <td>0.019444</td>\n",
       "      <td>0.123232</td>\n",
       "      <td>0.080709</td>\n",
       "    </tr>\n",
       "    <tr>\n",
       "      <th>Lateral</th>\n",
       "      <td>0.104060</td>\n",
       "      <td>0.019444</td>\n",
       "      <td>0.186111</td>\n",
       "      <td>0.103205</td>\n",
       "    </tr>\n",
       "  </tbody>\n",
       "</table>\n",
       "</div>"
      ],
      "text/plain": [
       "                 Pleural Effusion  Support Devices  Lung Opacity      mean\n",
       "Steps: 6740                                                               \n",
       "PA_text                  0.165385         0.019444      0.112879  0.099236\n",
       "Lateral_PA_text          0.210279         0.019444      0.111111  0.113612\n",
       "PA                       0.093269         0.019444      0.114646  0.075787\n",
       "text                     0.058333         0.019444      0.133333  0.070370\n",
       "Lateral_text             0.129701         0.019444      0.111111  0.086752\n",
       "Lateral_PA               0.099451         0.019444      0.123232  0.080709\n",
       "Lateral                  0.104060         0.019444      0.186111  0.103205"
      ]
     },
     "metadata": {},
     "output_type": "display_data"
    },
    {
     "name": "stdout",
     "output_type": "stream",
     "text": [
      "Experiment Mimic_2020_10_27_14_47_11_079212 with text encoding: char, image size: 128.0, method: jsd and trained for 99.0 with batch size: 180.0\n"
     ]
    },
    {
     "data": {
      "text/html": [
       "<div>\n",
       "<style scoped>\n",
       "    .dataframe tbody tr th:only-of-type {\n",
       "        vertical-align: middle;\n",
       "    }\n",
       "\n",
       "    .dataframe tbody tr th {\n",
       "        vertical-align: top;\n",
       "    }\n",
       "\n",
       "    .dataframe thead th {\n",
       "        text-align: right;\n",
       "    }\n",
       "</style>\n",
       "<table border=\"1\" class=\"dataframe\">\n",
       "  <thead>\n",
       "    <tr style=\"text-align: right;\">\n",
       "      <th></th>\n",
       "      <th>Pleural Effusion</th>\n",
       "      <th>Support Devices</th>\n",
       "      <th>Lung Opacity</th>\n",
       "      <th>mean</th>\n",
       "    </tr>\n",
       "    <tr>\n",
       "      <th>Steps: 10300</th>\n",
       "      <th></th>\n",
       "      <th></th>\n",
       "      <th></th>\n",
       "      <th></th>\n",
       "    </tr>\n",
       "  </thead>\n",
       "  <tbody>\n",
       "    <tr>\n",
       "      <th>PA_text</th>\n",
       "      <td>0.102381</td>\n",
       "      <td>0.027778</td>\n",
       "      <td>0.131647</td>\n",
       "      <td>0.087269</td>\n",
       "    </tr>\n",
       "    <tr>\n",
       "      <th>Lateral_PA_text</th>\n",
       "      <td>0.069444</td>\n",
       "      <td>0.027778</td>\n",
       "      <td>0.129117</td>\n",
       "      <td>0.075446</td>\n",
       "    </tr>\n",
       "    <tr>\n",
       "      <th>PA</th>\n",
       "      <td>0.069444</td>\n",
       "      <td>0.027778</td>\n",
       "      <td>0.115625</td>\n",
       "      <td>0.070949</td>\n",
       "    </tr>\n",
       "    <tr>\n",
       "      <th>text</th>\n",
       "      <td>0.069444</td>\n",
       "      <td>0.027778</td>\n",
       "      <td>0.112401</td>\n",
       "      <td>0.069874</td>\n",
       "    </tr>\n",
       "    <tr>\n",
       "      <th>Lateral_text</th>\n",
       "      <td>0.069444</td>\n",
       "      <td>0.027778</td>\n",
       "      <td>0.131250</td>\n",
       "      <td>0.076157</td>\n",
       "    </tr>\n",
       "    <tr>\n",
       "      <th>Lateral_PA</th>\n",
       "      <td>0.069444</td>\n",
       "      <td>0.027778</td>\n",
       "      <td>0.102778</td>\n",
       "      <td>0.066667</td>\n",
       "    </tr>\n",
       "    <tr>\n",
       "      <th>Lateral</th>\n",
       "      <td>0.069444</td>\n",
       "      <td>0.027778</td>\n",
       "      <td>0.102778</td>\n",
       "      <td>0.066667</td>\n",
       "    </tr>\n",
       "  </tbody>\n",
       "</table>\n",
       "</div>"
      ],
      "text/plain": [
       "                 Pleural Effusion  Support Devices  Lung Opacity      mean\n",
       "Steps: 10300                                                              \n",
       "PA_text                  0.102381         0.027778      0.131647  0.087269\n",
       "Lateral_PA_text          0.069444         0.027778      0.129117  0.075446\n",
       "PA                       0.069444         0.027778      0.115625  0.070949\n",
       "text                     0.069444         0.027778      0.112401  0.069874\n",
       "Lateral_text             0.069444         0.027778      0.131250  0.076157\n",
       "Lateral_PA               0.069444         0.027778      0.102778  0.066667\n",
       "Lateral                  0.069444         0.027778      0.102778  0.066667"
      ]
     },
     "metadata": {},
     "output_type": "display_data"
    },
    {
     "name": "stdout",
     "output_type": "stream",
     "text": [
      "Experiment Mimic_2020_10_23_13_17_46_515651 with text encoding: char, image size: 128.0, method: joint_elbo and trained for 299.0 with batch size: 256.0\n"
     ]
    },
    {
     "data": {
      "text/html": [
       "<div>\n",
       "<style scoped>\n",
       "    .dataframe tbody tr th:only-of-type {\n",
       "        vertical-align: middle;\n",
       "    }\n",
       "\n",
       "    .dataframe tbody tr th {\n",
       "        vertical-align: top;\n",
       "    }\n",
       "\n",
       "    .dataframe thead th {\n",
       "        text-align: right;\n",
       "    }\n",
       "</style>\n",
       "<table border=\"1\" class=\"dataframe\">\n",
       "  <thead>\n",
       "    <tr style=\"text-align: right;\">\n",
       "      <th></th>\n",
       "      <th>Pleural Effusion</th>\n",
       "      <th>Support Devices</th>\n",
       "      <th>Lung Opacity</th>\n",
       "      <th>mean</th>\n",
       "    </tr>\n",
       "    <tr>\n",
       "      <th>Steps: 71100</th>\n",
       "      <th></th>\n",
       "      <th></th>\n",
       "      <th></th>\n",
       "      <th></th>\n",
       "    </tr>\n",
       "  </thead>\n",
       "  <tbody>\n",
       "    <tr>\n",
       "      <th>PA_text</th>\n",
       "      <td>0.054688</td>\n",
       "      <td>0.027344</td>\n",
       "      <td>0.154948</td>\n",
       "      <td>0.078993</td>\n",
       "    </tr>\n",
       "    <tr>\n",
       "      <th>Lateral_PA_text</th>\n",
       "      <td>0.172519</td>\n",
       "      <td>0.027344</td>\n",
       "      <td>0.158118</td>\n",
       "      <td>0.119327</td>\n",
       "    </tr>\n",
       "    <tr>\n",
       "      <th>PA</th>\n",
       "      <td>0.056276</td>\n",
       "      <td>0.027344</td>\n",
       "      <td>0.127363</td>\n",
       "      <td>0.070328</td>\n",
       "    </tr>\n",
       "    <tr>\n",
       "      <th>text</th>\n",
       "      <td>0.122210</td>\n",
       "      <td>0.027344</td>\n",
       "      <td>0.119420</td>\n",
       "      <td>0.089658</td>\n",
       "    </tr>\n",
       "    <tr>\n",
       "      <th>Lateral_text</th>\n",
       "      <td>0.114397</td>\n",
       "      <td>0.027344</td>\n",
       "      <td>0.182021</td>\n",
       "      <td>0.107921</td>\n",
       "    </tr>\n",
       "    <tr>\n",
       "      <th>Lateral_PA</th>\n",
       "      <td>0.062686</td>\n",
       "      <td>0.027344</td>\n",
       "      <td>0.126877</td>\n",
       "      <td>0.072302</td>\n",
       "    </tr>\n",
       "    <tr>\n",
       "      <th>Lateral</th>\n",
       "      <td>0.060985</td>\n",
       "      <td>0.027344</td>\n",
       "      <td>0.153607</td>\n",
       "      <td>0.080645</td>\n",
       "    </tr>\n",
       "  </tbody>\n",
       "</table>\n",
       "</div>"
      ],
      "text/plain": [
       "                 Pleural Effusion  Support Devices  Lung Opacity      mean\n",
       "Steps: 71100                                                              \n",
       "PA_text                  0.054688         0.027344      0.154948  0.078993\n",
       "Lateral_PA_text          0.172519         0.027344      0.158118  0.119327\n",
       "PA                       0.056276         0.027344      0.127363  0.070328\n",
       "text                     0.122210         0.027344      0.119420  0.089658\n",
       "Lateral_text             0.114397         0.027344      0.182021  0.107921\n",
       "Lateral_PA               0.062686         0.027344      0.126877  0.072302\n",
       "Lateral                  0.060985         0.027344      0.153607  0.080645"
      ]
     },
     "metadata": {},
     "output_type": "display_data"
    }
   ],
   "source": [
    "for df, experiment in dfs:\n",
    "    flags = experiments_dataframe.loc[experiments_dataframe['experiment_uid'] == experiment]\n",
    "\n",
    "    print(f'Experiment {experiment} with text encoding: {flags.text_encoding.item()}, image size: {flags.img_size.item()}, method: {flags.method.item()} and trained for {flags.total_epochs.item()} with batch size: {flags.batch_size.item()}')\n",
    "    display(df)"
   ]
  },
  {
   "cell_type": "markdown",
   "metadata": {
    "pycharm": {
     "name": "#%% md\n"
    }
   },
   "source": [
    " # Evaluation of the classifiers"
   ]
  },
  {
   "cell_type": "code",
   "execution_count": 17,
   "metadata": {
    "ExecuteTime": {
     "end_time": "2020-10-30T19:50:13.387853Z",
     "start_time": "2020-10-30T19:50:13.385642Z"
    },
    "execution": {
     "iopub.execute_input": "2020-10-30T19:57:28.797355Z",
     "iopub.status.busy": "2020-10-30T19:57:28.796486Z",
     "iopub.status.idle": "2020-10-30T19:57:28.798458Z",
     "shell.execute_reply": "2020-10-30T19:57:28.799303Z"
    },
    "pycharm": {
     "name": "#%%\n"
    }
   },
   "outputs": [],
   "source": [
    "labels = ['Lung Opacity', 'Pleural Effusion', 'Support Devices']\n",
    "\n",
    "FLAGS.num_features = len(alphabet)\n",
    "FLAGS.batch_size = 50\n"
   ]
  },
  {
   "cell_type": "markdown",
   "metadata": {
    "pycharm": {
     "name": "#%% md\n"
    }
   },
   "source": [
    "## Evaluation of the character encoding and image size 128"
   ]
  },
  {
   "cell_type": "code",
   "execution_count": 18,
   "metadata": {
    "ExecuteTime": {
     "end_time": "2020-10-30T19:50:32.731438Z",
     "start_time": "2020-10-30T19:50:13.389363Z"
    },
    "execution": {
     "iopub.execute_input": "2020-10-30T19:57:28.805166Z",
     "iopub.status.busy": "2020-10-30T19:57:28.804337Z",
     "iopub.status.idle": "2020-10-30T19:57:49.449862Z",
     "shell.execute_reply": "2020-10-30T19:57:49.450982Z"
    }
   },
   "outputs": [
    {
     "name": "stdout",
     "output_type": "stream",
     "text": [
      "setting dataset\n",
      "setting modalities\n",
      "setting model\n",
      "setting clfs\n",
      "setting rec_weights\n",
      "dict_keys(['real', 'random', '', 'PA', 'Lateral', 'text', 'Lateral_PA', 'PA_text', 'Lateral_text', 'Lateral_PA_text'])\n",
      "char\n",
      "mean precision for pa classifier:  0.3732152626849499\n",
      "mean precision for lat classifier:  0.2416209890630706\n",
      "mean precision for text classifier:  0.6247089919487198\n"
     ]
    }
   ],
   "source": [
    "list_precision_pa, list_precision_lat, list_precision_text = test_clfs(FLAGS, 128, 'char', alphabet)\n",
    "\n",
    "print('mean precision for pa classifier: ', np.mean(list_precision_pa))\n",
    "print('mean precision for lat classifier: ',np.mean(list_precision_lat))\n",
    "print('mean precision for text classifier: ',np.mean(list_precision_text))"
   ]
  },
  {
   "cell_type": "markdown",
   "metadata": {
    "pycharm": {
     "name": "#%% md\n"
    }
   },
   "source": [
    "## Evaluation of the word encoding and image size 128\n",
    "### The text classifier precision is slightly better for the word encoding"
   ]
  },
  {
   "cell_type": "code",
   "execution_count": 19,
   "metadata": {
    "ExecuteTime": {
     "end_time": "2020-10-30T19:51:07.396561Z",
     "start_time": "2020-10-30T19:50:32.733317Z"
    },
    "execution": {
     "iopub.execute_input": "2020-10-30T19:57:49.458391Z",
     "iopub.status.busy": "2020-10-30T19:57:49.457311Z",
     "iopub.status.idle": "2020-10-30T19:58:22.215567Z",
     "shell.execute_reply": "2020-10-30T19:58:22.216671Z"
    }
   },
   "outputs": [
    {
     "name": "stdout",
     "output_type": "stream",
     "text": [
      "setting dataset\n",
      "setting modalities\n",
      "setting model\n",
      "setting clfs\n",
      "setting rec_weights\n",
      "dict_keys(['real', 'random', '', 'PA', 'Lateral', 'text', 'Lateral_PA', 'PA_text', 'Lateral_text', 'Lateral_PA_text'])\n",
      "word\n",
      "mean precision for pa classifier:  0.386796394785047\n",
      "mean precision for lat classifier:  0.24079107719552167\n",
      "mean precision for text classifier:  0.7200341637911643\n"
     ]
    }
   ],
   "source": [
    "list_precision_pa, list_precision_lat,list_precision_text = test_clfs(FLAGS, 128, 'word', alphabet)\n",
    "print('mean precision for pa classifier: ',np.mean(list_precision_pa))\n",
    "print('mean precision for lat classifier: ',np.mean(list_precision_lat))\n",
    "print('mean precision for text classifier: ',np.mean(list_precision_text))"
   ]
  },
  {
   "cell_type": "markdown",
   "metadata": {
    "pycharm": {
     "name": "#%% md\n"
    }
   },
   "source": [
    "## Evaluation of image size 256"
   ]
  },
  {
   "cell_type": "code",
   "execution_count": 20,
   "metadata": {
    "ExecuteTime": {
     "start_time": "2020-10-30T19:43:14.989Z"
    },
    "execution": {
     "iopub.execute_input": "2020-10-30T19:58:22.225070Z",
     "iopub.status.busy": "2020-10-30T19:58:22.224011Z",
     "iopub.status.idle": "2020-10-30T19:59:47.301555Z",
     "shell.execute_reply": "2020-10-30T19:59:47.300391Z"
    },
    "pycharm": {
     "name": "#%%\n"
    }
   },
   "outputs": [
    {
     "name": "stdout",
     "output_type": "stream",
     "text": [
      "setting dataset\n",
      "setting modalities\n",
      "setting model\n",
      "setting clfs\n",
      "setting rec_weights\n",
      "dict_keys(['real', 'random', '', 'PA', 'Lateral', 'text', 'Lateral_PA', 'PA_text', 'Lateral_text', 'Lateral_PA_text'])\n"
     ]
    }
   ],
   "source": [
    "import warnings\n",
    "\n",
    "import numpy as np\n",
    "\n",
    "from mimic.dataio.MimicDataset import Mimic\n",
    "from mimic.utils.experiment import MimicExperiment\n",
    "FLAGS.text_encoding = 'char'\n",
    "FLAGS.img_size = 256\n",
    "mimic_experiment = MimicExperiment(flags=FLAGS, alphabet=alphabet)\n",
    "mimic_test = Mimic(FLAGS, mimic_experiment.labels, alphabet, split='test')\n",
    "model_text = mimic_experiment.clfs['text']"
   ]
  },
  {
   "cell_type": "code",
   "execution_count": 21,
   "metadata": {
    "ExecuteTime": {
     "start_time": "2020-10-30T19:43:14.991Z"
    },
    "execution": {
     "iopub.execute_input": "2020-10-30T19:59:47.308211Z",
     "iopub.status.busy": "2020-10-30T19:59:47.307135Z",
     "iopub.status.idle": "2020-10-30T19:59:55.822379Z",
     "shell.execute_reply": "2020-10-30T19:59:55.821261Z"
    }
   },
   "outputs": [
    {
     "name": "stdout",
     "output_type": "stream",
     "text": [
      "char\n",
      "char\n",
      "char\n",
      "mean precision for pa classifier:  0.3892899893430542\n",
      "mean precision for lat classifier:  0.3986177389269272\n",
      "mean precision for text classifier:  0.640668735551921\n"
     ]
    }
   ],
   "source": [
    "list_precision_pa = test_clf_pa(FLAGS, mimic_experiment, mimic_test, alphabet)\n",
    "list_precision_lat = test_clf_lat(FLAGS, mimic_experiment, mimic_test, alphabet)\n",
    "list_precision_text = test_clf_text(FLAGS, mimic_experiment, mimic_test, alphabet)\n",
    "print('mean precision for pa classifier: ',np.mean(list_precision_pa))\n",
    "print('mean precision for lat classifier: ',np.mean(list_precision_lat))\n",
    "print('mean precision for text classifier: ',np.mean(list_precision_text))\n"
   ]
  },
  {
   "cell_type": "code",
   "execution_count": null,
   "metadata": {},
   "outputs": [],
   "source": []
  }
 ],
 "metadata": {
  "kernelspec": {
   "display_name": "Python 3",
   "language": "python",
   "name": "python3"
  },
  "language_info": {
   "codemirror_mode": {
    "name": "ipython",
    "version": 3
   },
   "file_extension": ".py",
   "mimetype": "text/x-python",
   "name": "python",
   "nbconvert_exporter": "python",
   "pygments_lexer": "ipython3",
   "version": "3.8.5"
  }
 },
 "nbformat": 4,
 "nbformat_minor": 1
}
