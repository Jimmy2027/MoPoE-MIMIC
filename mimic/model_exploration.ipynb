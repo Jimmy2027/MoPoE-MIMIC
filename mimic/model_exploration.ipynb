{
 "cells": [
  {
   "cell_type": "code",
   "execution_count": 1,
   "metadata": {
    "collapsed": true
   },
   "outputs": [],
   "source": [
    "import json\n",
    "import os\n",
    "from pathlib import Path\n",
    "\n",
    "import torch\n",
    "\n",
    "from mimic.experiment import MimicExperiment\n",
    "from utils.filehandling import set_paths"
   ]
  },
  {
   "cell_type": "code",
   "execution_count": 2,
   "outputs": [],
   "source": [
    "from PIL import ImageFont\n",
    "\n",
    "font = ImageFont.truetype('/Library/Fonts/Arial.ttf', 38)"
   ],
   "metadata": {
    "collapsed": false,
    "pycharm": {
     "name": "#%%\n"
    }
   }
  },
  {
   "cell_type": "code",
   "execution_count": 3,
   "outputs": [
    {
     "name": "stdout",
     "output_type": "stream",
     "text": [
      "True\n"
     ]
    }
   ],
   "source": [
    "FLAGS = torch.load('/Users/Hendrik/Documents/master3/leomed_scratch/mimic/moe/non_factorized/Mimic_2020_10_12_13_46_44_150916/flags.rar')\n",
    "\n",
    "FLAGS = set_paths(FLAGS)\n",
    "FLAGS.device = torch.device('cuda' if torch.cuda.is_available() else 'cpu')\n",
    "\n",
    "alphabet_path = os.path.join(str(Path(os.getcwd()).parent), 'alphabet.json')\n",
    "with open(alphabet_path) as alphabet_file:\n",
    "    alphabet = str(''.join(json.load(alphabet_file)))\n",
    "path =os.path.expanduser('/Users/Hendrik/Documents/master3/leomed_scratch/mimic/moe/non_factorized/Mimic_2020_10_12_13_46_44_150916/checkpoints/0239/mm_vae')\n",
    "print(os.path.exists(path))"
   ],
   "metadata": {
    "collapsed": false,
    "pycharm": {
     "name": "#%%\n"
    }
   }
  },
  {
   "cell_type": "code",
   "execution_count": 4,
   "outputs": [
    {
     "name": "stdout",
     "output_type": "stream",
     "text": [
      "/Users/Hendrik/Documents/master3/leomed_scratch\n"
     ]
    }
   ],
   "source": [
    "print(FLAGS.dir_data)"
   ],
   "metadata": {
    "collapsed": false,
    "pycharm": {
     "name": "#%%\n"
    }
   }
  },
  {
   "cell_type": "code",
   "execution_count": null,
   "outputs": [
    {
     "name": "stdout",
     "output_type": "stream",
     "text": [
      "dict_keys(['font']) True\n",
      "setting modalities\n",
      "setting train dataset\n"
     ]
    }
   ],
   "source": [
    "mimic = MimicExperiment(flags=FLAGS, alphabet=alphabet, font = font)"
   ],
   "metadata": {
    "collapsed": false,
    "pycharm": {
     "name": "#%%\n",
     "is_executing": true
    }
   }
  },
  {
   "cell_type": "code",
   "execution_count": null,
   "outputs": [],
   "source": [
    "model = mimic.mm_vae.load_state_dict(torch.load(path, map_location=FLAGS.device))"
   ],
   "metadata": {
    "collapsed": false,
    "pycharm": {
     "name": "#%%\n",
     "is_executing": true
    }
   }
  },
  {
   "cell_type": "code",
   "execution_count": null,
   "outputs": [],
   "source": [
    "random_samples = model.generate(5)\n"
   ],
   "metadata": {
    "collapsed": false,
    "pycharm": {
     "name": "#%%\n",
     "is_executing": true
    }
   }
  },
  {
   "cell_type": "code",
   "execution_count": null,
   "outputs": [],
   "source": [],
   "metadata": {
    "collapsed": false,
    "pycharm": {
     "name": "#%%\n",
     "is_executing": true
    }
   }
  }
 ],
 "metadata": {
  "kernelspec": {
   "display_name": "Python 3",
   "language": "python",
   "name": "python3"
  },
  "language_info": {
   "codemirror_mode": {
    "name": "ipython",
    "version": 2
   },
   "file_extension": ".py",
   "mimetype": "text/x-python",
   "name": "python",
   "nbconvert_exporter": "python",
   "pygments_lexer": "ipython2",
   "version": "2.7.6"
  }
 },
 "nbformat": 4,
 "nbformat_minor": 0
}